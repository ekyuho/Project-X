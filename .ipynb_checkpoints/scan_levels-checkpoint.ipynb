{
 "cells": [
  {
   "cell_type": "code",
   "execution_count": 1,
   "metadata": {},
   "outputs": [
    {
     "name": "stdout",
     "output_type": "stream",
     "text": [
      "['id', 'type', 'level', 'description', 'target']\n"
     ]
    },
    {
     "ename": "HttpError",
     "evalue": "<HttpError 403 when requesting https://sheets.googleapis.com/v4/spreadsheets/1HRpjR7VKiyH5NrL4f50IM1im6WrFGbs5g-i7tu1fJk0/values/levels%21A1%3AF400?valueInputOption=USER_ENTERED&alt=json returned \"The caller does not have permission\". Details: \"The caller does not have permission\">",
     "output_type": "error",
     "traceback": [
      "\u001b[1;31m---------------------------------------------------------------------------\u001b[0m",
      "\u001b[1;31mHttpError\u001b[0m                                 Traceback (most recent call last)",
      "\u001b[1;32m<ipython-input-1-8866db8e2735>\u001b[0m in \u001b[0;36m<module>\u001b[1;34m\u001b[0m\n\u001b[0;32m     69\u001b[0m                 \u001b[0mval2\u001b[0m\u001b[1;33m.\u001b[0m\u001b[0mappend\u001b[0m\u001b[1;33m(\u001b[0m\u001b[0mm\u001b[0m\u001b[1;33m.\u001b[0m\u001b[0mget\u001b[0m\u001b[1;33m(\u001b[0m\u001b[0mkeys\u001b[0m\u001b[1;33m[\u001b[0m\u001b[0mi\u001b[0m\u001b[1;33m]\u001b[0m\u001b[1;33m,\u001b[0m\u001b[1;34m\"\"\u001b[0m\u001b[1;33m)\u001b[0m\u001b[1;33m)\u001b[0m\u001b[1;33m\u001b[0m\u001b[1;33m\u001b[0m\u001b[0m\n\u001b[0;32m     70\u001b[0m             \u001b[0mval\u001b[0m\u001b[1;33m.\u001b[0m\u001b[0mappend\u001b[0m\u001b[1;33m(\u001b[0m\u001b[0mval2\u001b[0m\u001b[1;33m)\u001b[0m\u001b[1;33m\u001b[0m\u001b[1;33m\u001b[0m\u001b[0m\n\u001b[1;32m---> 71\u001b[1;33m \u001b[0mgoogle_auth_write\u001b[0m\u001b[1;33m.\u001b[0m\u001b[0mwrite_playbook\u001b[0m\u001b[1;33m(\u001b[0m\u001b[0mval\u001b[0m\u001b[1;33m)\u001b[0m\u001b[1;33m\u001b[0m\u001b[1;33m\u001b[0m\u001b[0m\n\u001b[0m",
      "\u001b[1;32m~\\Project-X\\google_auth_write.py\u001b[0m in \u001b[0;36mwrite_playbook\u001b[1;34m(values)\u001b[0m\n\u001b[0;32m     51\u001b[0m         \u001b[1;34m'values'\u001b[0m\u001b[1;33m:\u001b[0m \u001b[0mvalues\u001b[0m\u001b[1;33m\u001b[0m\u001b[1;33m\u001b[0m\u001b[0m\n\u001b[0;32m     52\u001b[0m     }\n\u001b[1;32m---> 53\u001b[1;33m     result = service.spreadsheets().values().update(\n\u001b[0m\u001b[0;32m     54\u001b[0m         spreadsheetId=SPREADSHEET_ID, range=RANGE_NAME, valueInputOption='USER_ENTERED', body=body).execute()\n\u001b[0;32m     55\u001b[0m     \u001b[0mpprint\u001b[0m\u001b[1;33m(\u001b[0m\u001b[0mresult\u001b[0m\u001b[1;33m)\u001b[0m\u001b[1;33m\u001b[0m\u001b[1;33m\u001b[0m\u001b[0m\n",
      "\u001b[1;32mc:\\users\\ekyuh\\p3\\lib\\site-packages\\googleapiclient\\_helpers.py\u001b[0m in \u001b[0;36mpositional_wrapper\u001b[1;34m(*args, **kwargs)\u001b[0m\n\u001b[0;32m    132\u001b[0m                 \u001b[1;32melif\u001b[0m \u001b[0mpositional_parameters_enforcement\u001b[0m \u001b[1;33m==\u001b[0m \u001b[0mPOSITIONAL_WARNING\u001b[0m\u001b[1;33m:\u001b[0m\u001b[1;33m\u001b[0m\u001b[1;33m\u001b[0m\u001b[0m\n\u001b[0;32m    133\u001b[0m                     \u001b[0mlogger\u001b[0m\u001b[1;33m.\u001b[0m\u001b[0mwarning\u001b[0m\u001b[1;33m(\u001b[0m\u001b[0mmessage\u001b[0m\u001b[1;33m)\u001b[0m\u001b[1;33m\u001b[0m\u001b[1;33m\u001b[0m\u001b[0m\n\u001b[1;32m--> 134\u001b[1;33m             \u001b[1;32mreturn\u001b[0m \u001b[0mwrapped\u001b[0m\u001b[1;33m(\u001b[0m\u001b[1;33m*\u001b[0m\u001b[0margs\u001b[0m\u001b[1;33m,\u001b[0m \u001b[1;33m**\u001b[0m\u001b[0mkwargs\u001b[0m\u001b[1;33m)\u001b[0m\u001b[1;33m\u001b[0m\u001b[1;33m\u001b[0m\u001b[0m\n\u001b[0m\u001b[0;32m    135\u001b[0m \u001b[1;33m\u001b[0m\u001b[0m\n\u001b[0;32m    136\u001b[0m         \u001b[1;32mreturn\u001b[0m \u001b[0mpositional_wrapper\u001b[0m\u001b[1;33m\u001b[0m\u001b[1;33m\u001b[0m\u001b[0m\n",
      "\u001b[1;32mc:\\users\\ekyuh\\p3\\lib\\site-packages\\googleapiclient\\http.py\u001b[0m in \u001b[0;36mexecute\u001b[1;34m(self, http, num_retries)\u001b[0m\n\u001b[0;32m    933\u001b[0m             \u001b[0mcallback\u001b[0m\u001b[1;33m(\u001b[0m\u001b[0mresp\u001b[0m\u001b[1;33m)\u001b[0m\u001b[1;33m\u001b[0m\u001b[1;33m\u001b[0m\u001b[0m\n\u001b[0;32m    934\u001b[0m         \u001b[1;32mif\u001b[0m \u001b[0mresp\u001b[0m\u001b[1;33m.\u001b[0m\u001b[0mstatus\u001b[0m \u001b[1;33m>=\u001b[0m \u001b[1;36m300\u001b[0m\u001b[1;33m:\u001b[0m\u001b[1;33m\u001b[0m\u001b[1;33m\u001b[0m\u001b[0m\n\u001b[1;32m--> 935\u001b[1;33m             \u001b[1;32mraise\u001b[0m \u001b[0mHttpError\u001b[0m\u001b[1;33m(\u001b[0m\u001b[0mresp\u001b[0m\u001b[1;33m,\u001b[0m \u001b[0mcontent\u001b[0m\u001b[1;33m,\u001b[0m \u001b[0muri\u001b[0m\u001b[1;33m=\u001b[0m\u001b[0mself\u001b[0m\u001b[1;33m.\u001b[0m\u001b[0muri\u001b[0m\u001b[1;33m)\u001b[0m\u001b[1;33m\u001b[0m\u001b[1;33m\u001b[0m\u001b[0m\n\u001b[0m\u001b[0;32m    936\u001b[0m         \u001b[1;32mreturn\u001b[0m \u001b[0mself\u001b[0m\u001b[1;33m.\u001b[0m\u001b[0mpostproc\u001b[0m\u001b[1;33m(\u001b[0m\u001b[0mresp\u001b[0m\u001b[1;33m,\u001b[0m \u001b[0mcontent\u001b[0m\u001b[1;33m)\u001b[0m\u001b[1;33m\u001b[0m\u001b[1;33m\u001b[0m\u001b[0m\n\u001b[0;32m    937\u001b[0m \u001b[1;33m\u001b[0m\u001b[0m\n",
      "\u001b[1;31mHttpError\u001b[0m: <HttpError 403 when requesting https://sheets.googleapis.com/v4/spreadsheets/1HRpjR7VKiyH5NrL4f50IM1im6WrFGbs5g-i7tu1fJk0/values/levels%21A1%3AF400?valueInputOption=USER_ENTERED&alt=json returned \"The caller does not have permission\". Details: \"The caller does not have permission\">"
     ]
    }
   ],
   "source": [
    "import os\n",
    "import json\n",
    "import re\n",
    "import google_auth_write\n",
    "\n",
    "Mission=[]\n",
    "Level= set()\n",
    "\n",
    "def construct(path, meta):\n",
    "    #print(path, meta[:20])\n",
    "    try:\n",
    "        j = json.loads(meta)        \n",
    "    except:\n",
    "        print(\"json error: \", meta)\n",
    "        return\n",
    "    \n",
    "    if 'type' in j:\n",
    "        if j[\"type\"] == \"mission\":\n",
    "            extract = re.findall('\\d+', path)\n",
    "            if len(extract)>1:\n",
    "                #print(extract[0])\n",
    "                j[\"level\"]=extract[0]\n",
    "                Mission.append(j)\n",
    "                Level.add(extract[0])                        \n",
    "    \n",
    "def scan_readme(file):\n",
    "    #print('1', file)\n",
    "    with open(file, encoding=\"utf-8\") as f: lines = f.read()\n",
    "    #print('2', lines[:50].replace('\\n', '\\\\n'))\n",
    "    extract = re.findall(r\"\\{.*\\}\", lines)\n",
    "    if len(extract)>0:\n",
    "        #print('3', \"extract\", type(extract[0]), len(extract), extract[0])\n",
    "        construct(file, extract[0])   \n",
    "\n",
    "def listdir(basepath):\n",
    "    #print('a', basepath)\n",
    "    with os.scandir(basepath) as entries:\n",
    "        for entry in entries:\n",
    "            fname = basepath+'/'+entry.name\n",
    "            #print('b', fname)\n",
    "            if entry.is_dir():\n",
    "                if \"Levels\" in fname:\n",
    "                    listdir(fname)\n",
    "            elif str(entry.name).lower() == \"readme.md\":\n",
    "                scan_readme(fname)\n",
    "                \n",
    "# List all subdirectories using scandir()\n",
    "basepath = '.'\n",
    "listdir(basepath)\n",
    "#print(Level)\n",
    "#print(Mission)\n",
    "\n",
    "keys = set()\n",
    "for le in Level:\n",
    "    #print(\"Level:\", le)\n",
    "    for m in Mission:\n",
    "        #if m[\"level\"] == le: print(m)\n",
    "        keys.update(m.keys())\n",
    "\n",
    "keys = list(keys)\n",
    "print(keys)\n",
    "keys = ['level','type', 'id', 'description', 'target']\n",
    "val = [keys]\n",
    "for le in Level:\n",
    "    for m in Mission:\n",
    "        val2 = []\n",
    "        if m[\"level\"]==le:\n",
    "            for i in range(len(keys)):\n",
    "                val2.append(m.get(keys[i],\"\"))\n",
    "            val.append(val2)\n",
    "google_auth_write.write_playbook(val)\n"
   ]
  },
  {
   "cell_type": "code",
   "execution_count": 24,
   "metadata": {},
   "outputs": [
    {
     "name": "stdout",
     "output_type": "stream",
     "text": [
      " C 드라이브의 볼륨에는 이름이 없습니다.\n",
      " 볼륨 일련 번호: 44AC-123D\n",
      "\n",
      " C:\\Users\\ekyuh\\Project-X 디렉터리\n",
      "\n",
      "2021-04-12  오전 01:53    <DIR>          .\n",
      "2021-04-12  오전 01:53    <DIR>          ..\n",
      "2021-04-07  오후 04:23               178 .gitignore\n",
      "2021-04-12  오전 01:14    <DIR>          .ipynb_checkpoints\n",
      "2021-04-11  오후 10:11               426 credentials.json\n",
      "2021-04-12  오전 01:15            14,698 google_auth.ipynb\n",
      "2021-04-11  오후 11:05             1,829 google_auth.py\n",
      "2021-04-12  오전 01:51             4,335 google_auth_write.ipynb\n",
      "2021-04-12  오전 01:52             3,124 google_auth_write.py\n",
      "2021-04-11  오후 09:28    <DIR>          Levels\n",
      "2021-04-07  오후 03:51            65,389 level_mission.jpg\n",
      "2021-04-07  오후 03:59            12,031 playbook.csv\n",
      "2021-04-08  오후 01:02             6,561 playbook.html\n",
      "2021-04-12  오전 12:50            21,500 playbook.ipynb\n",
      "2021-04-08  오후 01:02               762 Playbook.md\n",
      "2021-04-12  오전 12:14             4,553 playbook.py\n",
      "2021-04-08  오후 01:02             2,654 README.MD\n",
      "2021-04-12  오전 01:53             8,273 scan.ipynb\n",
      "2021-04-12  오전 01:47               587 token.json\n",
      "2021-04-11  오후 09:35             4,246 Untitled.ipynb\n",
      "2021-04-11  오후 11:07    <DIR>          __pycache__\n",
      "              16개 파일             151,146 바이트\n",
      "               5개 디렉터리  331,825,299,456 바이트 남음\n"
     ]
    }
   ],
   "source": [
    "!dir"
   ]
  },
  {
   "cell_type": "code",
   "execution_count": 8,
   "metadata": {},
   "outputs": [
    {
     "data": {
      "text/plain": [
       "[{'target': 'student',\n",
       "  'type': 'mission',\n",
       "  'id': '1',\n",
       "  'description': 'Date Store',\n",
       "  'level': '001'},\n",
       " {'target': 'student',\n",
       "  'type': 'mission',\n",
       "  'id': '2',\n",
       "  'description': 'Data Explore & Preprocess',\n",
       "  'level': '001'},\n",
       " {'target': 'student',\n",
       "  'type': 'mission',\n",
       "  'id': '3',\n",
       "  'description': 'Data Analysis',\n",
       "  'level': '001'},\n",
       " {'target': 'student',\n",
       "  'type': 'mission',\n",
       "  'id': '4',\n",
       "  'description': 'Modeling',\n",
       "  'level': '001'},\n",
       " {'target': 'student',\n",
       "  'type': 'mission',\n",
       "  'id': '1',\n",
       "  'description': 'data store',\n",
       "  'level': '002'},\n",
       " {'target': 'student',\n",
       "  'type': 'mission',\n",
       "  'id': '2',\n",
       "  'description': 'data analysis',\n",
       "  'level': '002'},\n",
       " {'target': 'student',\n",
       "  'type': 'mission',\n",
       "  'id': '3',\n",
       "  'description': 'data split',\n",
       "  'level': '002'},\n",
       " {'target': 'student',\n",
       "  'type': 'mission',\n",
       "  'id': '4',\n",
       "  'description': 'image_data_generator',\n",
       "  'level': '002'},\n",
       " {'target': 'student',\n",
       "  'type': 'mission',\n",
       "  'id': '5',\n",
       "  'description': 'CNN modeling',\n",
       "  'level': '002'},\n",
       " {'target': 'student',\n",
       "  'type': 'mission',\n",
       "  'id': '6',\n",
       "  'description': 'estimation',\n",
       "  'level': '002'},\n",
       " {'type': 'mission',\n",
       "  'id': '0',\n",
       "  'description': '실시간 미터 이미지 취득 시스템 구축',\n",
       "  'level': '003'},\n",
       " {'type': 'mission',\n",
       "  'id': '1',\n",
       "  'description': '이미지로부터 인식대상 숫자부분을 추출',\n",
       "  'level': '003'},\n",
       " {'type': 'mission', 'id': '2', 'description': '숫자 추출 프로그램', 'level': '003'},\n",
       " {'type': 'mission',\n",
       "  'id': '3',\n",
       "  'description': 'get number via calling google tesseract with image',\n",
       "  'level': '003'},\n",
       " {'type': 'mission',\n",
       "  'id': '5',\n",
       "  'description': 'make labelling and build training dataset from files',\n",
       "  'level': '003'},\n",
       " {'type': 'mission',\n",
       "  'id': '6',\n",
       "  'description': 'apply your dataset to MNIST',\n",
       "  'level': '003'}]"
      ]
     },
     "execution_count": 8,
     "metadata": {},
     "output_type": "execute_result"
    }
   ],
   "source": [
    "Mission"
   ]
  },
  {
   "cell_type": "code",
   "execution_count": 89,
   "metadata": {},
   "outputs": [
    {
     "data": {
      "text/plain": [
       "{'type': 'mission', 'id': '1', 'description': 'crop target area image'}"
      ]
     },
     "execution_count": 89,
     "metadata": {},
     "output_type": "execute_result"
    }
   ],
   "source": [
    "b"
   ]
  },
  {
   "cell_type": "code",
   "execution_count": null,
   "metadata": {},
   "outputs": [],
   "source": []
  },
  {
   "cell_type": "code",
   "execution_count": 6,
   "metadata": {},
   "outputs": [
    {
     "name": "stdout",
     "output_type": "stream",
     "text": [
      ".\n"
     ]
    }
   ],
   "source": [
    "print(basepath)"
   ]
  },
  {
   "cell_type": "code",
   "execution_count": null,
   "metadata": {},
   "outputs": [],
   "source": []
  }
 ],
 "metadata": {
  "kernelspec": {
   "display_name": "Python 3",
   "language": "python",
   "name": "python3"
  },
  "language_info": {
   "codemirror_mode": {
    "name": "ipython",
    "version": 3
   },
   "file_extension": ".py",
   "mimetype": "text/x-python",
   "name": "python",
   "nbconvert_exporter": "python",
   "pygments_lexer": "ipython3",
   "version": "3.8.5"
  }
 },
 "nbformat": 4,
 "nbformat_minor": 4
}
