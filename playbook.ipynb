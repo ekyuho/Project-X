{
 "cells": [
  {
   "cell_type": "code",
   "execution_count": 1,
   "metadata": {},
   "outputs": [],
   "source": [
    "from flask import Flask\n",
    "from flask import request\n",
    "import re\n",
    "import google_auth\n",
    "import sys\n",
    "app = Flask(__name__, static_url_path='')\n",
    "\n",
    "import pandas as pd\n",
    "import numpy as np\n",
    "book={}"
   ]
  },
  {
   "cell_type": "code",
   "execution_count": 2,
   "metadata": {},
   "outputs": [],
   "source": [
    "def read_playbook():\n",
    "    global df, book\n",
    "    \n",
    "    if False and \"Use File\":\n",
    "        book={}\n",
    "        df = pd.read_csv('playbook.csv')\n",
    "        print('read playbook', flush=True)\n",
    "        for no,s in df.iterrows():\n",
    "            if not np.isnan(s[\"id\"]):\n",
    "                id=str(int(s[\"id\"]))\n",
    "                subid=str(int(s[\"subid\"]))\n",
    "                print(\"{} {}\".format(id,subid), flush=True)\n",
    "                if not id in book: book[id] = {}\n",
    "                if not \"description\" in book[id]:\n",
    "                    book[id][\"description\"] = s[\"description\"]\n",
    "                    book[id][\"process\"] = {}\n",
    "                book[id][\"process\"][subid] = {\"key\":s[\"key\"], \"value\":s[\"value\"]}\n",
    "    else:\n",
    "        table = google_auth.fetch_playbook()\n",
    "        index = 0\n",
    "        for items in table:\n",
    "            # skip commented line\n",
    "            if len(items)==0 or items[0]=='#' or (len(items)>2 and items[0]+items[1])==\"\": continue\n",
    "            # confirm that it has right header line\n",
    "            if index==0:\n",
    "                if items[0]=='id' and items[1]=='subid' and items[2]=='description' and items[3]=='key' and items[4]=='value':\n",
    "                    index += 1\n",
    "                    continue\n",
    "                else:\n",
    "                    print(\"playbook format broken\")\n",
    "                    print(items)\n",
    "                    sys.exit()\n",
    "            index += 1\n",
    "\n",
    "            #print(items)\n",
    "            if items[0] != \"\": id=items[0]\n",
    "            if not id.isnumeric():\n",
    "                print(\"id is not numeric: id={}\".format(id))\n",
    "                print(\"playbook format broken\")\n",
    "                sys.exit()\n",
    "            subid=items[1]\n",
    "            if not subid.isnumeric():\n",
    "                print(\"subid is not numeric: id={}\".format(id))\n",
    "                print(\"playbook format broken\")\n",
    "                sys.exit()               \n",
    "\n",
    "            #print(\"{} {}\".format(id,subid), flush=True)\n",
    "            if not id in book: book[id] = {}\n",
    "            if not \"description\" in book[id]:\n",
    "                book[id][\"description\"] = items[2] if len(items)>3 else \"\"\n",
    "                book[id][\"process\"] = {}\n",
    "            if len(items)>4: book[id][\"process\"][subid] = {\"key\":items[3], \"value\":items[4]}\n",
    "            elif len(items)>3:  book[id][\"process\"][subid] = {\"key\":items[3]}"
   ]
  },
  {
   "cell_type": "code",
   "execution_count": 3,
   "metadata": {},
   "outputs": [],
   "source": [
    "def mission2level(id, s):\n",
    "    #some mapping algoritym\n",
    "    return \"2\"\n",
    "\n",
    "def account2mission(s):\n",
    "    #system knows current mission in progress\n",
    "    return \"이미지 cropping\""
   ]
  },
  {
   "cell_type": "code",
   "execution_count": null,
   "metadata": {},
   "outputs": [
    {
     "name": "stdout",
     "output_type": "stream",
     "text": [
      "{'10': {'description': '미션종료에따라 스스로 평가 하고 peer-review 요청', 'process': {'1': {'key': 'Subject', 'value': '미션 포스트모텀 셀프평가 작성--'}, '2': {'key': 'From', 'value': '{ACCOUNT:extract_from_system}'}, '3': {'key': '레벨', 'value': '{LEVEL:make_selection_list_from_context}'}, '4': {'key': '미션', 'value': '{MISSION:make_selection_list_from_context}'}, '5': {'key': '레벨과 레벨내 해당 미션정의', 'value': '{INPUT:user_typing}{INPUT:user_typing}'}, '6': {'key': '본인이 느꼈던 난이도', 'value': '{SELECTION:\"5.많이어렵다,4.조금어려운편,3.적당,2.쉬운편,1.아주쉽다\"}'}, '7': {'key': '기준시간에 대항 평가', 'value': '{SELECTION:\"3.시간이모자람,2.적절,1.시간이 남음\"}'}, '8': {'key': '본인기준 본 미션의 적절한 기준 수행일수는?', 'value': '{SELECTION:INTEGER}'}, '9': {'key': '미션 문제해결을 위한 기술전략과 성과, 고유한 방법을 창안했다면 어떤 내용인지 설명', 'value': '{INPUT:user_typing}'}, '10': {'key': '산출물코드', 'value': '{INPUT:user_typing}'}, '11': {'key': '사용한 기술요소', 'value': '{{SELECTION:make_selection_list_from_context},{INPUT:user_typing}}'}}}, '11': {'description': '동료의 미션종료 peer-review 참여요청 수락', 'process': {'1': {'key': 'To', 'value': '{SELECTION:make_selection_list_from_context}'}, '2': {'key': 'Cc', 'value': '{SELECTION:make_selection_list_from_context}'}, '3': {'key': '용건메시지', 'value': '이제 위와같은 미션을 완수하였기에 포스트모텀 세션참여를 요청합니다. 가능한 시간슬롯을 모두 표시해주세요.'}, '4': {'key': '날자/시간', 'value': '{SELECTION:make_selection_list_from_context}'}, '5': {'key': '장소', 'value': '{SELECTION:make_selection_list_from_context}'}, '6': {'key': '혹시  세션참여 여건이 어려우면 위 슬롯중 참여 가능한 다른 카데 추천부탁합니다. 추천카데 {SELECTION:make_selection_list_from_context}'}, '7': {'key': '{INSERT: {id:10}}'}, '8': {'key': '모듈설명 가독성', 'value': '{SELECTION:\"Good job,ok I’ll suggest an idea to improve.\"}'}, '9': {'key': '코드의 비주얼적 가독성', 'value': '{SELECTION:\"Good job,ok I’ll suggest an idea to improve.\"}'}, '10': {'key': '코드의 시맨틱적 가독성', 'value': '{SELECTION:\"Good job,ok I’ll suggest an idea to improve.\"}'}, '11': {'key': '사용된 기술옵션이 최선인지', 'value': '{SELECTION:\"I agree,I’ll suggest an other option.\"}'}, '12': {'key': '종합적 완성도', 'value': '{SELECTION:\"3(매우높다인상적이다),2(통상적으로 잘했다),1(미흡하다)\"}'}, '13': {'key': '같이 일하고 싶은 정도', 'value': '{SELECTION:\"3.높다, 2.맟출수 있다, 1.피하고싶다\"}'}, '14': {'key': '사용한 기술에 대한 endorsement', 'value': '{SELECTION:make_selection_list_from_context}'}}}, '16': {'description': '레벨종료에따라 스스로 평가 및 동료/멘토 peer-review 참석요청', 'process': {'1': {'key': 'Subject', 'value': '미션 포스트모텀 셀프평가 작성'}, '2': {'key': 'From', 'value': '{ACCOUNT:extract_from_system}'}, '3': {'key': '레벨', 'value': '{LEVEL:make_selection_list_from_context}'}, '4': {'key': 'Level전체에 대한 본인이 느꼈던 난이도', 'value': '{SELECTION:\"5.많이어렵다,4.조금어려운편,3.적당,2.쉬운편,1.아주쉽다\"}'}, '5': {'key': 'Level 전체에 대한 기준시간에 대항 평가', 'value': '{SELECTION:\"3.시간이모자람,2.적절,1.시간이 남음\"}'}, '6': {'key': '본인기준 본 레벨의 적절한 기준 수행일수는?', 'value': '{SELECTION:INTEGER}'}, '7': {'key': '레벨전체적으로 문제해결을 위한 기술전략과 성과, 고유한 방법을 창안했다면 어떤 내용인지 설명', 'value': '{INPUT:user_typing}'}, '8': {'key': '산출물코드', 'value': '{INPUT:user_typing}'}, '9': {'key': '사용한 기술요소에 대한 자기평가', 'value': '{SELECTION:\"3.많이 해보아서, 빠른시간에 문제해결가능,2.배워가면서 문제해결에 어려움없음,1.초보로 사용해본 수준\"}'}, '10': {'key': '사용한 기술요소', 'value': '{{SELECTION:make_selection_list_from_context},{INPUT:user_typing}}'}}}, '17': {'description': '레벨종료 peer-review 참여요청 수락', 'process': {'1': {'key': '{INSERT: {id:16}}'}, '2': {'key': '용건메시지', 'value': '위와같은 레벨을 완수하였기에 포스트모텀 세션참여를 요청합니다. 가능한 시간슬롯을 모두 표시해주세요.'}, '3': {'key': '날자/시간', 'value': '{SELECTION:make_selection_list_from_context}'}, '4': {'key': '장소', 'value': '{SELECTION:make_selection_list_from_context}'}, '5': {'key': '혹시 세션참여 여건이 어려우면 위 슬롯중 참여 가능한 다른 카데 추천부탁합니다. 추천카데', 'value': '{SELECTION:make_selection_list_from_context}'}, '6': {'key': '사전평가지', 'value': '{FORM:make_a_form}'}, '7': {'key': 'To', 'value': '{SELECTION:make_selection_list_from_context}'}, '8': {'key': 'Cc', 'value': '{SELECTION:make_selection_list_from_context}'}, '9': {'key': '같이 일하고 싶은 정도', 'value': '{SELECTION:\"3.높다, 2.맟출수 있다, 1.피하고싶다\"}'}, '10': {'key': '사용한 기술에 대한 endorsement', 'value': '{SELECTION:make_selection_list_from_context}'}, '11': {'key': '레벨전체적으로  코드의 비주얼적 가독성', 'value': '{SELECTION:\"Good job,ok I’ll suggest an idea to improve.\"}'}, '12': {'key': '레벨전체적으로  코드의 시맨틱적 가독성', 'value': '{SELECTION:\"Good job,ok I’ll suggest an idea to improve.\"}'}, '13': {'key': '레벨전체적으로  사용된 기술옵션이 최선인지', 'value': '{SELECTION:\"I agree,I’ll suggest an other option.\"}'}, '14': {'key': '레벨전체적으로  종합적 완성도', 'value': '{SELECTION:\"3.매우높다인상적이다,2.통상적으로 잘했다,1.미흡하다\"}'}, '15': {'key': '대상 레벨(프로젝트) 결과물의 종합적 사업화가능성', 'value': '{SELECTION:\"3.높다, 2.잘하면될것 같다, 1.사업화까지는 아니다\"}'}, '16': {'key': '피평가자의 대상레벨 기술도메인의 종합적 기술역량평가', 'value': '{SELECTION:\"5.훌륭하다, 4.잘하는 편,3.힘들어하지만 해내는듯,2.억지로 하는것이 보인다,1.이분야 사람이 아닌듯\"}\\n'}}}, '21': {'description': '미션종료 peer-review  세션 결과 스스로 정리', 'process': {'1': {'key': '도움이 된 정도', 'value': '{SELECTION:\"3(매우높다인상적이다),2(통상적으로 좋았다),1(미흡하다)\"}'}, '2': {'key': 'Best reviewer 및 도움이 된 내용', 'value': '{{SELECTION:make_selection_list_from_context},{INPUT:user_typing}{INPUT:user_typing}}'}, '3': {'key': '같이 일하고 싶은 평가자 동료', 'value': '{SELECTION:make_selection_list_from_context}'}, '4': {'key': '사용한 기술에 대한 자기평가', 'value': '{SELECTION:make_selection_list_from_context}'}}}, '26': {'description': '레벨종료 peer-review 세션참여결과 정리', 'process': {'1': {'key': '도움이 된 정도', 'value': '{SELECTION:\"3(매우높다인상적이다),2(통상적으로 좋았다),1(미흡하다)\"}'}, '2': {'key': 'Best peer-reviewer 및 도움이 된 내용', 'value': '{{SELECTION:make_selection_list_from_context},{INPUT:user_typing}}'}, '3': {'key': 'Best mentor-reviewer및 도움이 된 내용', 'value': '{{SELECTION:make_selection_list_from_context},{INPUT:user_typing}}'}, '4': {'key': '같이 일하고 싶은 평가자 동료', 'value': '{SELECTION:make_selection_list_from_context}'}, '5': {'key': '사용한 기술에 대한 endorsement', 'value': '{SELECTION:make_selection_list_from_context}'}}}, '22': {'description': '미션종료 peer-review 세션참여결과 정리', 'process': {'1': {'key': '{INSERT: {id:12}}'}, '2': {'key': '추가 조언사항', 'value': '{INPUT:user_typing}'}, '3': {'key': '피평가자의 세선운영관련평가', 'value': '{SELECTION:\"3.세션을 잘 이끌었음, 2.무난한 진행, 1.아쉬움이 있음\"}'}, '4': {'key': '평가자에게 배움의 기회가 된 정도', 'value': '{SELECTION:\"3.무언가 배운 포만감,2. 보통,1. 시간이 아까운 느낌\"}'}, '5': {'key': '피평가자의 질문이해도,질문자의도파악의 정도', 'value': '{SELECTION:\"3.훌륭함,2. 보통,1. 소통에 어려움 느낌\"}'}, '6': {'key': '사용한 기술에 대한 endorsement', 'value': '{SELECTION:make_selection_list_from_context}'}}}, '27': {'description': '레벨종료 peer-review 세션참여 결과 정리', 'process': {'1': {'key': '{INSERT: {id:18}}'}, '2': {'key': '추가 조언사항', 'value': '{INPUT:user_typing}'}, '3': {'key': '피평가자의 세선운영관련평가', 'value': '{SELECTION:\"3.세션을 잘 이끌었음, 2.무난한 진행, 1.아쉬움이 있음\"}'}, '4': {'key': '평가자에게 배움의 기회가 된 정도', 'value': '{SELECTION:\"3.무언가 배운 포만감,2. 보통,1. 시간이 아까운 느낌\"}'}, '5': {'key': '피평가자의 질문이해도,질문자의도파악의 정도', 'value': '{SELECTION:\"3.훌륭함,2. 보통,1. 소통에 어려움 느낌\"}'}, '6': {'key': '같이 일하고 싶은 정도', 'value': '{SELECTION:\"3.높다, 2.맟출수 있다, 1.피하고싶다\"}'}, '7': {'key': '사용한 기술에 대한 endorsement', 'value': '{SELECTION:make_selection_list_from_context}'}}}, '29': {'description': '레벨종료 peer-review 멘토보고서 작성', 'process': {'1': {'key': '레벨전체적으로 모듈설명 가독성', 'value': '{SELECTION:\"Good job,ok I’ll suggest an idea to improve.\"}'}, '2': {'key': '레벨전체적으로  코드의 비주얼적 가독성', 'value': '{SELECTION:\"Good job,ok I’ll suggest an idea to improve.\"}'}, '3': {'key': '레벨전체적으로  코드의 시맨틱적 가독성', 'value': '{SELECTION:\"Good job,ok I’ll suggest an idea to improve.\"}'}, '4': {'key': '레벨전체적으로  사용된 기술옵션이 최선인지', 'value': '{SELECTION:\"I agree,I’ll suggest an other option.\"}'}, '5': {'key': '레벨전체적으로  종합적 완성도', 'value': '{SELECTION:\"3.매우높다인상적이다,2.통상적으로 잘했다,1.미흡하다\"}'}, '6': {'key': '대상 레벨(프로젝트) 결과물의 종합적 사업화가능성', 'value': '{SELECTION:\"3.높다, 2.잘하면될것 같다, 1.사업화까지는 아니다\"}'}, '8': {'key': '같이 일하고 싶은 정도', 'value': '{SELECTION:\"3.높다, 2.맟출수 있다, 1.피하고싶다\"}'}, '9': {'key': '매칭 잘될 회사 가상추천', 'value': '{SELECTION:make_selection_list_from_context}'}, '10': {'key': '사용한 기술에 대한 endorsement', 'value': '{SELECTION:make_selection_list_from_context}'}}}, '101': {'description': '나의 업적보드', 'process': {'1': {'key': '(자기)동료평가 참여도', 'value': '76%'}, '2': {'key': '(타인)동료평가 선호도', 'value': '35%'}, '3': {'key': '기술보유지수', 'value': '95%'}, '4': {'key': 'Front-End.iOS', 'value': '40%'}, '5': {'key': 'Front-End.Android', 'value': '13%'}, '6': {'key': 'Front-End.Web', 'value': '39%'}, '7': {'key': 'Back-End.Windows', 'value': '90%'}, '8': {'key': 'Back-End.Ubuntu', 'value': '35%'}, '9': {'key': 'Machine-Learning', 'value': '25%'}, '10': {'key': 'Program.Python', 'value': '87%'}, '11': {'key': 'Program.C#', 'value': '0%'}, '12': {'key': 'Program.C++', 'value': '10%'}, '13': {'key': 'Program.nodejs', 'value': '80%'}, '14': {'key': 'Program.Ruby', 'value': '50%'}, '15': {'key': 'GRIT지수', 'value': '86%'}, '16': {'key': 'Team지수', 'value': '60%'}, '17': {'key': '표현의 명확성지수', 'value': '89%'}, '18': {'key': '창업-스타트업취업-대기업취업', 'value': '24%-87%-65%'}}}}\n"
     ]
    },
    {
     "name": "stdout",
     "output_type": "stream",
     "text": [
      " * Serving Flask app \"__main__\" (lazy loading)\n",
      " * Environment: production\n",
      "   WARNING: This is a development server. Do not use it in a production deployment.\n",
      "   Use a production WSGI server instead.\n",
      " * Debug mode: off\n"
     ]
    },
    {
     "name": "stderr",
     "output_type": "stream",
     "text": [
      " * Running on http://0.0.0.0:80/ (Press CTRL+C to quit)\n"
     ]
    },
    {
     "name": "stdout",
     "output_type": "stream",
     "text": [
      "id= \n"
     ]
    },
    {
     "name": "stderr",
     "output_type": "stream",
     "text": [
      "127.0.0.1 - - [12/Apr/2021 00:13:23] \"\u001b[37mGET /show HTTP/1.1\u001b[0m\" 200 -\n",
      "127.0.0.1 - - [12/Apr/2021 00:13:23] \"\u001b[33mGET /level_mission.jpg HTTP/1.1\u001b[0m\" 404 -\n"
     ]
    },
    {
     "name": "stdout",
     "output_type": "stream",
     "text": [
      "id= \n"
     ]
    },
    {
     "name": "stderr",
     "output_type": "stream",
     "text": [
      "127.0.0.1 - - [12/Apr/2021 00:49:35] \"\u001b[37mGET /show HTTP/1.1\u001b[0m\" 200 -\n",
      "127.0.0.1 - - [12/Apr/2021 00:49:35] \"\u001b[33mGET /level_mission.jpg HTTP/1.1\u001b[0m\" 404 -\n"
     ]
    }
   ],
   "source": [
    "def render(id, s):\n",
    "    if s!=s: return s\n",
    "    if \"ACCOUNT\" in s: return \"이정인\"\n",
    "    elif \"LEVEL\" in s: return mission2level(id, s)\n",
    "    elif \"MISSION\" in s: return account2mission(s)\n",
    "\n",
    "    if \"{INPUT:user_typing}\" in s: s = s.replace(\"{INPUT:user_typing}\",\"입력해주세요: <input type=text name=i1>\")\n",
    "    if \"{SELECTION:INTEGER}\" in s: s = s.replace(\"{SELECTION:INTEGER}\", \"숫자를 입력해 주세요 <input type=text name=i2>\")\n",
    "    elif \"{SELECTION:make_selection_list_from_context}\" in s: s = s.replace(\"{SELECTION:make_selection_list_from_context}\", \"System wil make a list: \")\n",
    "    elif \"SELECTION\" in s: \n",
    "        extract = re.findall(r'\\{SELECTION:\"(.*)\"\\}', s)\n",
    "        print(\"EXTRACT\", extract)\n",
    "        if len(extract)>0:\n",
    "            s1 = \"\"\n",
    "            for select in extract[0].split(','):\n",
    "                s1 += \"<input type=radio name='r1' value=%s>%s</option>\"%(select, select)\n",
    "        s = s1\n",
    "\n",
    "    return s\n",
    "\n",
    "\n",
    "def show(id):\n",
    "    global book\n",
    "    read_playbook()\n",
    "    if id == \"\": \n",
    "        with open(\"playbook.html\", encoding='utf-8') as f: s = f.read()\n",
    "        return s\n",
    "\n",
    "    s = '<H3>process {} {}</H3>'.format(id, book[id][\"description\"])\n",
    "    for proc in book[id][\"process\"]:\n",
    "        #print(id, book[id]['process'], proc, flush=True)\n",
    "        b = book[id][\"process\"][proc]\n",
    "        s += '<p> {} {}: {}'.format(proc, b[\"key\"], render(id, b[\"value\"]))\n",
    "        print(b, flush=True)\n",
    "    s += \"<p><input type=submit value='제출하기'>\"\n",
    "    print(s, flush=True)\n",
    "    return(s)\n",
    "\n",
    "read_playbook()\n",
    "print(book, flush=True)\n",
    "\n",
    "@app.route('/')\n",
    "def hello1():\n",
    "    return \"hello\"\n",
    "\n",
    "@app.route('/show')\n",
    "def showit():\n",
    "    id = request.args.get('id', \"\")\n",
    "    print('id=', id, flush=True )\n",
    "    return show(id)\n",
    "\n",
    "\n",
    "if __name__ == '__main__':\n",
    "    app.run(host='0.0.0.0', port=80)"
   ]
  },
  {
   "cell_type": "code",
   "execution_count": 23,
   "metadata": {},
   "outputs": [],
   "source": [
    "a=[1,2,3,4,5]\n",
    "k=iter(a)"
   ]
  },
  {
   "cell_type": "code",
   "execution_count": 24,
   "metadata": {},
   "outputs": [
    {
     "data": {
      "text/plain": [
       "<list_iterator at 0x28e3c0a4c10>"
      ]
     },
     "execution_count": 24,
     "metadata": {},
     "output_type": "execute_result"
    }
   ],
   "source": [
    "k"
   ]
  },
  {
   "cell_type": "code",
   "execution_count": 25,
   "metadata": {},
   "outputs": [
    {
     "data": {
      "text/plain": [
       "1"
      ]
     },
     "execution_count": 25,
     "metadata": {},
     "output_type": "execute_result"
    }
   ],
   "source": [
    "next(k)"
   ]
  },
  {
   "cell_type": "code",
   "execution_count": 30,
   "metadata": {},
   "outputs": [
    {
     "ename": "StopIteration",
     "evalue": "",
     "output_type": "error",
     "traceback": [
      "\u001b[1;31m---------------------------------------------------------------------------\u001b[0m",
      "\u001b[1;31mStopIteration\u001b[0m                             Traceback (most recent call last)",
      "\u001b[1;32m<ipython-input-30-413ff6b5fa2c>\u001b[0m in \u001b[0;36m<module>\u001b[1;34m\u001b[0m\n\u001b[1;32m----> 1\u001b[1;33m \u001b[0mnext\u001b[0m\u001b[1;33m(\u001b[0m\u001b[0mk\u001b[0m\u001b[1;33m)\u001b[0m\u001b[1;33m\u001b[0m\u001b[1;33m\u001b[0m\u001b[0m\n\u001b[0m",
      "\u001b[1;31mStopIteration\u001b[0m: "
     ]
    }
   ],
   "source": [
    "next(k)"
   ]
  },
  {
   "cell_type": "code",
   "execution_count": null,
   "metadata": {},
   "outputs": [],
   "source": []
  }
 ],
 "metadata": {
  "kernelspec": {
   "display_name": "Python 3",
   "language": "python",
   "name": "python3"
  },
  "language_info": {
   "codemirror_mode": {
    "name": "ipython",
    "version": 3
   },
   "file_extension": ".py",
   "mimetype": "text/x-python",
   "name": "python",
   "nbconvert_exporter": "python",
   "pygments_lexer": "ipython3",
   "version": "3.8.5"
  }
 },
 "nbformat": 4,
 "nbformat_minor": 4
}
