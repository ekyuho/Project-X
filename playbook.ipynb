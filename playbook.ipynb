{
 "cells": [
  {
   "cell_type": "code",
   "execution_count": 1,
   "metadata": {},
   "outputs": [],
   "source": [
    "from flask import Flask\n",
    "from flask import request\n",
    "import re\n",
    "import google_auth\n",
    "import sys\n",
    "app = Flask(__name__, static_url_path='')\n",
    "\n",
    "import numpy as np\n",
    "book={}"
   ]
  },
  {
   "cell_type": "code",
   "execution_count": 17,
   "metadata": {},
   "outputs": [],
   "source": [
    "def read_playbook():\n",
    "    global df, book\n",
    "    \n",
    "    if True:\n",
    "        book={}\n",
    "        d1=\"\"\n",
    "        with open('playbook.csv', encoding='utf-8') as f: d1 = f.read()\n",
    "        print('read playbook', flush=True)\n",
    "        d2 = d1.split('\\n')\n",
    "        table=[]\n",
    "        for d in d2: table.append(d.split(','))\n",
    "    else:\n",
    "        table = google_auth.fetch_playbook()\n",
    "        \n",
    "    #print(table[:10])\n",
    "    index = 0\n",
    "    for items in table:\n",
    "        print(index, items)\n",
    "        # skip commented line\n",
    "        if len(items)==0 or items[0]=='#' or (len(items)>2 and items[0]+items[1])==\"\": continue\n",
    "        # confirm that it has right header line\n",
    "        if index==0:\n",
    "            if items[0]=='id' and items[1]=='subid' and items[2]=='description' and items[3]=='key' and items[4]=='value':\n",
    "                index += 1\n",
    "                continue\n",
    "            else:\n",
    "                print(\"playbook format broken\")\n",
    "                print(items)\n",
    "                sys.exit()\n",
    "        index += 1\n",
    "\n",
    "        #print(items)\n",
    "        if items[0] != \"\": id=items[0]\n",
    "        if not id.isnumeric():\n",
    "            print(\"id is not numeric: id={}\".format(id))\n",
    "            print(\"playbook format broken\")\n",
    "            sys.exit()\n",
    "        subid=items[1]\n",
    "        if not subid.isnumeric():\n",
    "            print(\"subid is not numeric: id={}\".format(id))\n",
    "            print(\"playbook format broken\")\n",
    "            sys.exit()               \n",
    "\n",
    "        #print(\"{} {}\".format(id,subid), flush=True)\n",
    "        if not id in book: book[id] = {}\n",
    "        if not \"description\" in book[id]:\n",
    "            book[id][\"description\"] = items[2] if len(items)>3 else \"\"\n",
    "            book[id][\"process\"] = {}\n",
    "        if len(items)>4: book[id][\"process\"][subid] = {\"key\":items[3], \"value\":items[4]}\n",
    "        elif len(items)>3:  book[id][\"process\"][subid] = {\"key\":items[3]}"
   ]
  },
  {
   "cell_type": "code",
   "execution_count": 18,
   "metadata": {},
   "outputs": [],
   "source": [
    "def mission2level(id, s):\n",
    "    #some mapping algoritym\n",
    "    return \"2\"\n",
    "\n",
    "def account2mission(s):\n",
    "    #system knows current mission in progress\n",
    "    return \"이미지 cropping\""
   ]
  },
  {
   "cell_type": "code",
   "execution_count": null,
   "metadata": {},
   "outputs": [
    {
     "name": "stdout",
     "output_type": "stream",
     "text": [
      "read playbook\n",
      "0 ['#', '첫 컬럼(Column A)에 # 이면 comment 라인으로 무시됩니다.', '', '', '']\n",
      "0 ['#', '\"코멘트 아니고', ' 빈줄아닌 첫번째 라인의 header는 변경기 \\'포맷오류\\' 발생하면 진행되지 않습니다.\"', '', '', '']\n",
      "0 ['#', 'id와 subid 모두가 공란이면 comment 라인으로 무시됩니다.', '', '', '']\n",
      "0 ['#', 'subid가 있고 id가 비어있으면 id와 description은 윗줄것을 승계합니다.', '', '', '']\n",
      "0 ['#', '여기 내용 수정 후 다시 웹페이지 방문하면 내용이 실시간으로 반영되는 구조입니다.', '', '', '']\n",
      "0 ['id', 'subid', 'description', 'key', 'value']\n",
      "1 ['10', '1', '\"미션 종료 후', ' 자기 평가 및 peer-review 요청\"', 'Subject', '미션 사전 자기 평가서 ']\n",
      "2 ['', '2', '', 'From', '{ACCOUNT:extract_from_system}']\n",
      "3 ['', '3', '', '레벨', '{LEVEL:make_selection_list_from_context}']\n",
      "4 ['', '4', '', '미션', '{MISSION:make_selection_list_from_context}']\n",
      "5 ['', '5', '', '레벨과 레벨 내 해당 미션 정의', '{INPUT:user_typing}{INPUT:user_typing}']\n",
      "6 ['', '6', '', '본인이 느꼈던 난이도', '\"{SELECTION:\"\"5.많이 어려움', '4.조금 어려움', '3.적당함', '2.쉬움', '1.아주 쉬움\"\"}\"']\n",
      "7 ['', '7', '', '기준 시간에 대한 평가', '\"{SELECTION:\"\"3.부족함', '2.적절함', '1.넉넉함\"\"}\"']\n",
      "8 ['', '8', '', '본인 기준 해당 미션의 적절한 기준 수행 일수는?', '{SELECTION:INTEGER}']\n",
      "9 ['', '9', '', '\"미션 문제해결을 위한 기술전략과 성과', ' 고유한 방법을 창안했다면 어떤 내용인지 설명\"', '{INPUT:user_typing}']\n",
      "10 ['', '10', '', '산출물 코드', '{INPUT:user_typing}']\n",
      "11 ['', '11', '', '사용한 기술 요소', '\"{{SELECTION:make_selection_list_from_context}', '{INPUT:user_typing}}\"']\n",
      "12 ['', '', '', '', '']\n",
      "12 ['11', '1', '동료의 미션 종료 peer-review 참여 요청 수락', 'To', '{SELECTION:make_selection_list_from_context}']\n",
      "13 ['', '2', '', 'Cc', '{SELECTION:make_selection_list_from_context}']\n",
      "14 ['', '3', '', '용건메시지', '위와 같은 미션을 완수하였기에 사전 평가 세션 참여를 요청합니다. 가능한 시간 슬롯을 모두 표시해주세요.']\n",
      "15 ['', '4', '', '날짜/시간', '{SELECTION:make_selection_list_from_context}']\n",
      "16 ['', '5', '', '장소', '{SELECTION:make_selection_list_from_context}']\n",
      "17 ['', '6', '', '\"혹시  세션 참여가 어렵다면', ' 위 슬롯 중 참여 가능한 다른 카데를 추천해주세요. 추천 카데 {SELECTION:make_selection_list_from_context}\"', '']\n",
      "18 ['', '7', '', '{INSERT: {id:10}}', '']\n",
      "19 ['', '8', '', '모듈설명 가독성', '\"{SELECTION:\"\"2.좋음', ' 1.개선 필요', ' 0.판단유보\"\"}\"']\n",
      "20 ['', '9', '', '코드의 비주얼적 가독성', '\"{SELECTION:\"\"2.좋음', ' 1.개선 필요', ' 0.판단유보\"\"}\"']\n",
      "21 ['', '10', '', '코드의 시맨틱적 가독성', '\"{SELECTION:\"\"2.좋음', ' 1.개선 필요', ' 0.판단유보\"\"}\"']\n",
      "22 ['', '11', '', '사용된 기술 옵션의 최적 여부', '\"{SELECTION:\"\"2.좋음', ' 1.개선 필요', ' 0.판단유보\"\"}\"']\n",
      "23 ['', '12', '', '종합적 완성도', '\"{SELECTION:\"\"3.인상적임', '2.무난함', '1.미흡함', ' 0.판단유보\"\"}\"']\n",
      "24 ['', '13', '', '한 팀으로 같이 하고 싶은 정도', '\"{SELECTION:\"\"3.높음', ' 2.보통', ' 1.낮음\"\"}\"']\n",
      "25 ['', '14', '', '사용한 기술에 대한 추천(endorsement)', '{SELECTION:make_selection_list_from_context}']\n",
      "26 ['', '15', '', '미션별 제약사항 수행 정도', '\"{SELECTION:\"\"5.모든 사항 지킴', ' 4.대부분 사항 지킴', ' 3.일부만 지킴', ' 2. 한 개정도 지킴', ' 1.전혀 지키지 않음\"\"}']\n",
      "27 ['', '', '', '', '']\n",
      "27 ['16', '1', '\"레벨 종료 후', ' 자기 평가 및 동료/멘토 peer-review 참석 요청\"', 'Subject', '미션 사전 자기 평가서']\n",
      "28 ['', '2', '', 'From', '{ACCOUNT:extract_from_system}']\n",
      "29 ['', '3', '', '레벨', '{LEVEL:make_selection_list_from_context}']\n",
      "30 ['', '4', '', '레벨 전체에 대한 본인이 느꼈던 난이도', '\"{SELECTION:\"\"5.많이 어려움', '4.조금 어려움', '3.적당함', '2.쉬움', '1.아주 쉬움\"\"}\"']\n",
      "31 ['', '5', '', '레벨  전체에 대한 기준시간에 대한 평가', '\"{SELECTION:\"\"3.부족함', '2.적절함', '1.넉넉함\"\"}\"']\n",
      "32 ['', '6', '', '본인 기준 본 레벨의 적절한 기준 수행 일수는?', '{SELECTION:INTEGER}']\n",
      "33 ['', '7', '', '\"레벨 전체적으로 문제해결을 위한 기술전략과 성과', ' 고유한 방법을 창안했다면 어떤 내용인지 설명\"', '{INPUT:user_typing}']\n",
      "34 ['', '8', '', '산출물코드', '{INPUT:user_typing}']\n",
      "35 ['', '9', '', '사용한 기술요소에 대한 자기평가', '\"{SELECTION:\"\"3.익숙하여 빠른 시간에 문제해결 가능', '2.배워가면서 문제해결 가능', '1.아직 이해가 어려움\"\"}\"']\n",
      "36 ['', '10', '', '사용한 기술요소', '\"{{SELECTION:make_selection_list_from_context}', '{INPUT:user_typing}}\"']\n",
      "37 ['', '', '', '', '']\n",
      "37 ['17', '1', '\"레벨 종료 후', ' peer-review 참여 요청 수락\"', '{INSERT: {id:16}}', '']\n",
      "38 ['', '2', '', '용건메시지', '위와 같은 레벨을 완수하였기에 사전 평가 세션 참여를 요청합니다. 가능한 시간 슬롯을 모두 표시해주세요.']\n",
      "39 ['', '3', '', '날짜/시간', '{SELECTION:make_selection_list_from_context}']\n",
      "40 ['', '4', '', '장소', '{SELECTION:make_selection_list_from_context}']\n",
      "41 ['', '5', '', '혹시 세션 참여 어렵다면 해당 슬롯 중 참여 가능한 다른 카데를 추천해주세요. 추천카데', '{SELECTION:make_selection_list_from_context}']\n",
      "42 ['', '6', '', '사전평가지', '{FORM:make_a_form}']\n",
      "43 ['', '7', '', 'To', '{SELECTION:make_selection_list_from_context}']\n",
      "44 ['', '8', '', 'Cc', '{SELECTION:make_selection_list_from_context}']\n",
      "45 ['', '9', '', '날짜/시간', '{SELECTION:make_selection_list_from_context}']\n",
      "46 ['', '10', '', '레벨 전반적모듈설명 가독성', '\"{SELECTION:\"\"2.좋음', ' 1.개선 필요', ' 0.판단유보\"\"}\"']\n",
      "47 ['', '11', '', '레벨 전반적 코드의 비주얼적 가독성', '\"{SELECTION:\"\"2.좋음', ' 1.개선 필요', ' 0.판단유보\"\"}\"']\n",
      "48 ['', '12', '', '레벨 전반적 코드의 시맨틱적 가독성', '\"{SELECTION:\"\"2.좋음', ' 1.개선 필요', ' 0.판단유보\"\"}\"']\n",
      "49 ['', '13', '', '사용된 기술 옵션의 최적 여부', '\"{SELECTION:\"\"2.좋음', ' 1.개선 필요', ' 0.판단유보\"\"}\"']\n",
      "50 ['', '14', '', '레벨 전반적 종합적 완성도', '\"{SELECTION:\"\"3.인상적임', '2.무난함', '1.미흡함\"\"}\"']\n",
      "51 ['', '15', '', '해당 레벨(프로젝트) 결과물의 종합적 사업화가능성', '\"{SELECTION:\"\"3.높아 보임', ' 2.보통', ' 1.어려워 보임\"\"}\"']\n",
      "52 ['', '16', '', '피평가자의 해당 레벨 기술 도메인의 종합적 기술역량평가', '\"{SELECTION:\"\"5.매우 높음', ' 4.높음', '3.보통', '2.낮음', '1.매우 낮음\"\"}']\n",
      "53 ['', '', '', '', '']\n",
      "53 ['', '9', '', '한 팀으로 같이 하고 싶은 정도', '\"{SELECTION:\"\"3.높음', ' 2.보통', ' 1.낮음', ' 0.판단유보\"\"}\"']\n",
      "54 ['', '10', '', '사용한 기술에 대한 추천(endorsement)', '{SELECTION:make_selection_list_from_context}']\n",
      "55 ['', '', '', '', '']\n",
      "55 ['21', '1', '\"미션 peer-review  세션 종료 후', ' 평가에 대한 피평가자로써 후기\"', '도움이 된 정도', '\"{SELECTION:\"\"3.높음', '2.보통', '1.낮음\"\"}\"']\n",
      "56 ['', '2', '', 'Best reviewer 및 도움이 된 내용', '\"{{SELECTION:make_selection_list_from_context}', '{INPUT:user_typing}{INPUT:user_typing}}\"']\n",
      "57 ['', '3', '', '같이 일하고 싶은 평가자 동료', '{SELECTION:make_selection_list_from_context}']\n",
      "58 ['', '4', '', '사용한 기술에 대한 자기평가', '{SELECTION:make_selection_list_from_context}']\n",
      "59 ['', '', '', '', '']\n",
      "59 ['26', '1', '\"레벨 peer-review  종료 후', ' 평가에 대한 피평가자로써 후기\"', '도움이 된 정도', '\"{SELECTION:\"\"3.높음', '2.만족함', '1.낮음\"\"}\"']\n",
      "60 ['', '2', '', 'Best peer-reviewer 및 도움이 된 내용', '\"{{SELECTION:make_selection_list_from_context}', '{INPUT:user_typing}}\"']\n",
      "61 ['', '3', '', 'Best mentor-reviewer 및 도움이 된 내용', '\"{{SELECTION:make_selection_list_from_context}', '{INPUT:user_typing}}\"']\n",
      "62 ['', '4', '', '같이 일하고 싶은 평가자 동료', '{SELECTION:make_selection_list_from_context}']\n",
      "63 ['', '5', '', '사용한 기술에 대한 추천(endorsement)', '{SELECTION:make_selection_list_from_context}']\n",
      "64 ['', '', '', '', '']\n",
      "64 ['22', '1', '\"미션 peer-review 세션 종료 후', ' 참여 결과 정리\"', '{INSERT: {id:12}}', '']\n",
      "65 ['', '2', '', '추가 조언사항', '{INPUT:user_typing}']\n",
      "66 ['', '3', '', '피평가자의 세선운영관련평가', '\"{SELECTION:\"\"3.잘 이끎', ' 2.보통', ' 1.아쉬움\"\"}\"']\n",
      "67 ['', '4', '', '평가자에게 배움의 기회가 된 정도', '\"{SELECTION:\"\"3.높음', '2.보통', '1.낮음\"\"}\"']\n",
      "68 ['', '5', '', '\"피평가자의 질문 이해도', ' 질문자 의도 파악의 정도\"', '\"{SELECTION:\"\"3.높음', '2.보통', '1.낮음\"\"}\"']\n",
      "69 ['', '6', '', '사용한 기술에 대한 추천(endorsement)', '{SELECTION:make_selection_list_from_context}']\n",
      "70 ['', '7', '', '', '']\n",
      "71 ['', '', '', '', '']\n",
      "71 ['27', '1', '\"레벨 peer-review 세션 종료 후', ' 참여 결과 정리\"', '{INSERT: {id:18}}', '']\n",
      "72 ['', '2', '', '추가 조언사항', '{INPUT:user_typing}']\n",
      "73 ['', '3', '', '피평가자의 세선운영관련평가', '\"{SELECTION:\"\"3.잘 이끎', ' 2.보통', ' 1.아쉬움\"\"}\"']\n",
      "74 ['', '4', '', '평가자에게 배움의 기회가 된 정도', '\"{SELECTION:\"\"3.높음', '2.보통', '1.낮음\"\"}\"']\n",
      "75 ['', '5', '', '피평가자의 질문 이해도 및 질문자 의도 파악의 정도', '\"{SELECTION:\"\"3.높음', '2.보통', '1.낮음\"\"}\"']\n",
      "76 ['', '6', '', '한 팀으로 같이 하고 싶은 정도', '\"{SELECTION:\"\"3.높음', ' 2.보통', ' 1.낮음\"\"}\"']\n",
      "77 ['', '7', '', '사용한 기술에 대한 추천(endorsement)', '{SELECTION:make_selection_list_from_context}']\n",
      "78 ['', '', '', '', '']\n",
      "78 ['29', '1', '\"레벨 peer-review 종료 후', ' 멘토 보고서 작성\"', '레벨 전반적 모듈 설명 가독성', '\"{SELECTION:\"\"2.좋음', ' 1.개선 필요', ' 0.판단유보\"\"}\"']\n",
      "79 ['', '2', '', '레벨 전반적 코드의 비주얼적 가독성', '\"{SELECTION:\"\"2.좋음', ' 1.개선 필요', ' 0.판단유보\"\"}\"']\n",
      "80 ['', '3', '', '레벨 전반적 코드의 시맨틱적 가독성', '\"{SELECTION:\"\"2.좋음', ' 1.개선 필요', ' 0.판단유보\"\"}\"']\n",
      "81 ['', '4', '', '사용된 기술 옵션의 최적 여부', '\"{SELECTION:\"\"2.좋음', ' 1.개선 필요', ' 0.판단유보\"\"}\"']\n",
      "82 ['', '5', '', '레벨 전반적 종합적 완성도', '\"{SELECTION:\"\"3.인상적임', '2.무난함', '1.미흡함\"\"}\"']\n",
      "83 ['', '6', '', '해당 레벨(프로젝트) 결과물의 종합적 사업화 가능성', '\"{SELECTION:\"\"3.높아 보임', ' 2.보통', ' 1.어려워 보임\"\"}\"']\n",
      "84 ['', '7', '', '한 팀으로 같이 하고 싶은 정도', '\"{SELECTION:\"\"3.높음', ' 2.보통', ' 1.낮음', ' 0.판단유보\"\"}\"']\n",
      "85 ['', '8', '', '가상 회사 매칭 지수', '{SELECTION:make_selection_list_from_context}']\n",
      "86 ['', '9', '', '사용한 기술에 대한 추천(endorsement)', '{SELECTION:make_selection_list_from_context}']\n",
      "87 ['', '', '', '', '']\n",
      "87 ['101', '1', '나의 업적보드', '(자기)동료평가 참여도', '76%']\n",
      "88 ['', '2', '', '(타인)동료평가 선호도', '35%']\n",
      "89 ['', '3', '', '기술보유지수', '95%']\n",
      "90 ['', '4', '', 'Front-End.iOS', '40%']\n",
      "91 ['', '5', '', 'Front-End.Android', '13%']\n",
      "92 ['', '6', '', 'Front-End.Web', '39%']\n",
      "93 ['', '7', '', 'Back-End.Windows', '90%']\n",
      "94 ['', '8', '', 'Back-End.Ubuntu', '35%']\n",
      "95 ['', '9', '', 'Machine-Learning', '25%']\n",
      "96 ['', '10', '', 'Program.Python', '87%']\n",
      "97 ['', '11', '', 'Program.C#', '0%']\n",
      "98 ['', '12', '', 'Program.C++', '10%']\n",
      "99 ['', '13', '', 'Program.nodejs', '80%']\n",
      "100 ['', '14', '', 'Program.Ruby', '50%']\n",
      "101 ['', '15', '', 'GRIT지수', '86%']\n",
      "102 ['', '16', '', 'Team지수', '60%']\n",
      "103 ['', '17', '', '표현의 명확성지수', '89%']\n",
      "104 ['', '18', '', '창업-스타트업취업-대기업취업', '24%-87%-65%']\n",
      "{'10': {'description': '\"미션 종료 후', 'process': {'1': {'key': ' 자기 평가 및 peer-review 요청\"', 'value': 'Subject'}, '2': {'key': 'From', 'value': '{ACCOUNT:extract_from_system}'}, '3': {'key': '레벨', 'value': '{LEVEL:make_selection_list_from_context}'}, '4': {'key': '미션', 'value': '{MISSION:make_selection_list_from_context}'}, '5': {'key': '레벨과 레벨 내 해당 미션 정의', 'value': '{INPUT:user_typing}{INPUT:user_typing}'}, '6': {'key': '본인이 느꼈던 난이도', 'value': '\"{SELECTION:\"\"5.많이 어려움'}, '7': {'key': '기준 시간에 대한 평가', 'value': '\"{SELECTION:\"\"3.부족함'}, '8': {'key': '본인 기준 해당 미션의 적절한 기준 수행 일수는?', 'value': '{SELECTION:INTEGER}'}, '9': {'key': '\"미션 문제해결을 위한 기술전략과 성과', 'value': ' 고유한 방법을 창안했다면 어떤 내용인지 설명\"'}, '10': {'key': '산출물 코드', 'value': '{INPUT:user_typing}'}, '11': {'key': '사용한 기술 요소', 'value': '\"{{SELECTION:make_selection_list_from_context}'}}}, '11': {'description': '동료의 미션 종료 peer-review 참여 요청 수락', 'process': {'1': {'key': 'To', 'value': '{SELECTION:make_selection_list_from_context}'}, '2': {'key': 'Cc', 'value': '{SELECTION:make_selection_list_from_context}'}, '3': {'key': '용건메시지', 'value': '위와 같은 미션을 완수하였기에 사전 평가 세션 참여를 요청합니다. 가능한 시간 슬롯을 모두 표시해주세요.'}, '4': {'key': '날짜/시간', 'value': '{SELECTION:make_selection_list_from_context}'}, '5': {'key': '장소', 'value': '{SELECTION:make_selection_list_from_context}'}, '6': {'key': '\"혹시  세션 참여가 어렵다면', 'value': ' 위 슬롯 중 참여 가능한 다른 카데를 추천해주세요. 추천 카데 {SELECTION:make_selection_list_from_context}\"'}, '7': {'key': '{INSERT: {id:10}}', 'value': ''}, '8': {'key': '모듈설명 가독성', 'value': '\"{SELECTION:\"\"2.좋음'}, '9': {'key': '코드의 비주얼적 가독성', 'value': '\"{SELECTION:\"\"2.좋음'}, '10': {'key': '코드의 시맨틱적 가독성', 'value': '\"{SELECTION:\"\"2.좋음'}, '11': {'key': '사용된 기술 옵션의 최적 여부', 'value': '\"{SELECTION:\"\"2.좋음'}, '12': {'key': '종합적 완성도', 'value': '\"{SELECTION:\"\"3.인상적임'}, '13': {'key': '한 팀으로 같이 하고 싶은 정도', 'value': '\"{SELECTION:\"\"3.높음'}, '14': {'key': '사용한 기술에 대한 추천(endorsement)', 'value': '{SELECTION:make_selection_list_from_context}'}, '15': {'key': '미션별 제약사항 수행 정도', 'value': '\"{SELECTION:\"\"5.모든 사항 지킴'}}}, '16': {'description': '\"레벨 종료 후', 'process': {'1': {'key': ' 자기 평가 및 동료/멘토 peer-review 참석 요청\"', 'value': 'Subject'}, '2': {'key': 'From', 'value': '{ACCOUNT:extract_from_system}'}, '3': {'key': '레벨', 'value': '{LEVEL:make_selection_list_from_context}'}, '4': {'key': '레벨 전체에 대한 본인이 느꼈던 난이도', 'value': '\"{SELECTION:\"\"5.많이 어려움'}, '5': {'key': '레벨  전체에 대한 기준시간에 대한 평가', 'value': '\"{SELECTION:\"\"3.부족함'}, '6': {'key': '본인 기준 본 레벨의 적절한 기준 수행 일수는?', 'value': '{SELECTION:INTEGER}'}, '7': {'key': '\"레벨 전체적으로 문제해결을 위한 기술전략과 성과', 'value': ' 고유한 방법을 창안했다면 어떤 내용인지 설명\"'}, '8': {'key': '산출물코드', 'value': '{INPUT:user_typing}'}, '9': {'key': '사용한 기술요소에 대한 자기평가', 'value': '\"{SELECTION:\"\"3.익숙하여 빠른 시간에 문제해결 가능'}, '10': {'key': '사용한 기술요소', 'value': '\"{{SELECTION:make_selection_list_from_context}'}}}, '17': {'description': '\"레벨 종료 후', 'process': {'1': {'key': ' peer-review 참여 요청 수락\"', 'value': '{INSERT: {id:16}}'}, '2': {'key': '용건메시지', 'value': '위와 같은 레벨을 완수하였기에 사전 평가 세션 참여를 요청합니다. 가능한 시간 슬롯을 모두 표시해주세요.'}, '3': {'key': '날짜/시간', 'value': '{SELECTION:make_selection_list_from_context}'}, '4': {'key': '장소', 'value': '{SELECTION:make_selection_list_from_context}'}, '5': {'key': '혹시 세션 참여 어렵다면 해당 슬롯 중 참여 가능한 다른 카데를 추천해주세요. 추천카데', 'value': '{SELECTION:make_selection_list_from_context}'}, '6': {'key': '사전평가지', 'value': '{FORM:make_a_form}'}, '7': {'key': 'To', 'value': '{SELECTION:make_selection_list_from_context}'}, '8': {'key': 'Cc', 'value': '{SELECTION:make_selection_list_from_context}'}, '9': {'key': '한 팀으로 같이 하고 싶은 정도', 'value': '\"{SELECTION:\"\"3.높음'}, '10': {'key': '사용한 기술에 대한 추천(endorsement)', 'value': '{SELECTION:make_selection_list_from_context}'}, '11': {'key': '레벨 전반적 코드의 비주얼적 가독성', 'value': '\"{SELECTION:\"\"2.좋음'}, '12': {'key': '레벨 전반적 코드의 시맨틱적 가독성', 'value': '\"{SELECTION:\"\"2.좋음'}, '13': {'key': '사용된 기술 옵션의 최적 여부', 'value': '\"{SELECTION:\"\"2.좋음'}, '14': {'key': '레벨 전반적 종합적 완성도', 'value': '\"{SELECTION:\"\"3.인상적임'}, '15': {'key': '해당 레벨(프로젝트) 결과물의 종합적 사업화가능성', 'value': '\"{SELECTION:\"\"3.높아 보임'}, '16': {'key': '피평가자의 해당 레벨 기술 도메인의 종합적 기술역량평가', 'value': '\"{SELECTION:\"\"5.매우 높음'}}}, '21': {'description': '\"미션 peer-review  세션 종료 후', 'process': {'1': {'key': ' 평가에 대한 피평가자로써 후기\"', 'value': '도움이 된 정도'}, '2': {'key': 'Best reviewer 및 도움이 된 내용', 'value': '\"{{SELECTION:make_selection_list_from_context}'}, '3': {'key': '같이 일하고 싶은 평가자 동료', 'value': '{SELECTION:make_selection_list_from_context}'}, '4': {'key': '사용한 기술에 대한 자기평가', 'value': '{SELECTION:make_selection_list_from_context}'}}}, '26': {'description': '\"레벨 peer-review  종료 후', 'process': {'1': {'key': ' 평가에 대한 피평가자로써 후기\"', 'value': '도움이 된 정도'}, '2': {'key': 'Best peer-reviewer 및 도움이 된 내용', 'value': '\"{{SELECTION:make_selection_list_from_context}'}, '3': {'key': 'Best mentor-reviewer 및 도움이 된 내용', 'value': '\"{{SELECTION:make_selection_list_from_context}'}, '4': {'key': '같이 일하고 싶은 평가자 동료', 'value': '{SELECTION:make_selection_list_from_context}'}, '5': {'key': '사용한 기술에 대한 추천(endorsement)', 'value': '{SELECTION:make_selection_list_from_context}'}}}, '22': {'description': '\"미션 peer-review 세션 종료 후', 'process': {'1': {'key': ' 참여 결과 정리\"', 'value': '{INSERT: {id:12}}'}, '2': {'key': '추가 조언사항', 'value': '{INPUT:user_typing}'}, '3': {'key': '피평가자의 세선운영관련평가', 'value': '\"{SELECTION:\"\"3.잘 이끎'}, '4': {'key': '평가자에게 배움의 기회가 된 정도', 'value': '\"{SELECTION:\"\"3.높음'}, '5': {'key': '\"피평가자의 질문 이해도', 'value': ' 질문자 의도 파악의 정도\"'}, '6': {'key': '사용한 기술에 대한 추천(endorsement)', 'value': '{SELECTION:make_selection_list_from_context}'}, '7': {'key': '', 'value': ''}}}, '27': {'description': '\"레벨 peer-review 세션 종료 후', 'process': {'1': {'key': ' 참여 결과 정리\"', 'value': '{INSERT: {id:18}}'}, '2': {'key': '추가 조언사항', 'value': '{INPUT:user_typing}'}, '3': {'key': '피평가자의 세선운영관련평가', 'value': '\"{SELECTION:\"\"3.잘 이끎'}, '4': {'key': '평가자에게 배움의 기회가 된 정도', 'value': '\"{SELECTION:\"\"3.높음'}, '5': {'key': '피평가자의 질문 이해도 및 질문자 의도 파악의 정도', 'value': '\"{SELECTION:\"\"3.높음'}, '6': {'key': '한 팀으로 같이 하고 싶은 정도', 'value': '\"{SELECTION:\"\"3.높음'}, '7': {'key': '사용한 기술에 대한 추천(endorsement)', 'value': '{SELECTION:make_selection_list_from_context}'}}}, '29': {'description': '\"레벨 peer-review 종료 후', 'process': {'1': {'key': ' 멘토 보고서 작성\"', 'value': '레벨 전반적 모듈 설명 가독성'}, '2': {'key': '레벨 전반적 코드의 비주얼적 가독성', 'value': '\"{SELECTION:\"\"2.좋음'}, '3': {'key': '레벨 전반적 코드의 시맨틱적 가독성', 'value': '\"{SELECTION:\"\"2.좋음'}, '4': {'key': '사용된 기술 옵션의 최적 여부', 'value': '\"{SELECTION:\"\"2.좋음'}, '5': {'key': '레벨 전반적 종합적 완성도', 'value': '\"{SELECTION:\"\"3.인상적임'}, '6': {'key': '해당 레벨(프로젝트) 결과물의 종합적 사업화 가능성', 'value': '\"{SELECTION:\"\"3.높아 보임'}, '7': {'key': '한 팀으로 같이 하고 싶은 정도', 'value': '\"{SELECTION:\"\"3.높음'}, '8': {'key': '가상 회사 매칭 지수', 'value': '{SELECTION:make_selection_list_from_context}'}, '9': {'key': '사용한 기술에 대한 추천(endorsement)', 'value': '{SELECTION:make_selection_list_from_context}'}}}, '101': {'description': '나의 업적보드', 'process': {'1': {'key': '(자기)동료평가 참여도', 'value': '76%'}, '2': {'key': '(타인)동료평가 선호도', 'value': '35%'}, '3': {'key': '기술보유지수', 'value': '95%'}, '4': {'key': 'Front-End.iOS', 'value': '40%'}, '5': {'key': 'Front-End.Android', 'value': '13%'}, '6': {'key': 'Front-End.Web', 'value': '39%'}, '7': {'key': 'Back-End.Windows', 'value': '90%'}, '8': {'key': 'Back-End.Ubuntu', 'value': '35%'}, '9': {'key': 'Machine-Learning', 'value': '25%'}, '10': {'key': 'Program.Python', 'value': '87%'}, '11': {'key': 'Program.C#', 'value': '0%'}, '12': {'key': 'Program.C++', 'value': '10%'}, '13': {'key': 'Program.nodejs', 'value': '80%'}, '14': {'key': 'Program.Ruby', 'value': '50%'}, '15': {'key': 'GRIT지수', 'value': '86%'}, '16': {'key': 'Team지수', 'value': '60%'}, '17': {'key': '표현의 명확성지수', 'value': '89%'}, '18': {'key': '창업-스타트업취업-대기업취업', 'value': '24%-87%-65%'}}}}\n"
     ]
    },
    {
     "name": "stdout",
     "output_type": "stream",
     "text": [
      " * Serving Flask app \"__main__\" (lazy loading)\n",
      " * Environment: production\n",
      "   WARNING: This is a development server. Do not use it in a production deployment.\n",
      "   Use a production WSGI server instead.\n",
      " * Debug mode: off\n"
     ]
    },
    {
     "name": "stderr",
     "output_type": "stream",
     "text": [
      " * Running on http://0.0.0.0:80/ (Press CTRL+C to quit)\n"
     ]
    }
   ],
   "source": [
    "def render(id, s):\n",
    "    if s!=s: return s\n",
    "    if \"ACCOUNT\" in s: return \"이정인\"\n",
    "    elif \"LEVEL\" in s: return mission2level(id, s)\n",
    "    elif \"MISSION\" in s: return account2mission(s)\n",
    "\n",
    "    if \"{INPUT:user_typing}\" in s: s = s.replace(\"{INPUT:user_typing}\",\"입력해주세요: <input type=text name=i1>\")\n",
    "    if \"{SELECTION:INTEGER}\" in s: s = s.replace(\"{SELECTION:INTEGER}\", \"숫자를 입력해 주세요 <input type=text name=i2>\")\n",
    "    elif \"{SELECTION:make_selection_list_from_context}\" in s: s = s.replace(\"{SELECTION:make_selection_list_from_context}\", \"System wil make a list: \")\n",
    "    elif \"SELECTION\" in s: \n",
    "        extract = re.findall(r'\\{SELECTION:\"(.*)\"\\}', s)\n",
    "        print(\"EXTRACT\", extract)\n",
    "        if len(extract)>0:\n",
    "            s1 = \"\"\n",
    "            for select in extract[0].split(','):\n",
    "                s1 += \"<input type=radio name='r1' value=%s>%s</option>\"%(select, select)\n",
    "        s = s1\n",
    "\n",
    "    return s\n",
    "\n",
    "\n",
    "def show(id):\n",
    "    global book\n",
    "    read_playbook()\n",
    "    if id == \"\": \n",
    "        with open(\"playbook.html\", encoding='utf-8') as f: s = f.read()\n",
    "        return s\n",
    "\n",
    "    s = '<H3>process {} {}</H3>'.format(id, book[id][\"description\"])\n",
    "    for proc in book[id][\"process\"]:\n",
    "        #print(id, book[id]['process'], proc, flush=True)\n",
    "        b = book[id][\"process\"][proc]\n",
    "        s += '<p> {} {}: {}'.format(proc, b[\"key\"], render(id, b[\"value\"]))\n",
    "        print(b, flush=True)\n",
    "    s += \"<p><input type=submit value='제출하기'>\"\n",
    "    print(s, flush=True)\n",
    "    return(s)\n",
    "\n",
    "read_playbook()\n",
    "print(book, flush=True)\n",
    "\n",
    "@app.route('/')\n",
    "def hello1():\n",
    "    return \"hello\"\n",
    "\n",
    "@app.route('/show')\n",
    "def showit():\n",
    "    id = request.args.get('id', \"\")\n",
    "    print('id=', id, flush=True )\n",
    "    return show(id)\n",
    "\n",
    "\n",
    "if __name__ == '__main__':\n",
    "    app.run(host='0.0.0.0', port=80)"
   ]
  },
  {
   "cell_type": "code",
   "execution_count": 13,
   "metadata": {},
   "outputs": [
    {
     "ename": "NameError",
     "evalue": "name 'table' is not defined",
     "output_type": "error",
     "traceback": [
      "\u001b[1;31m---------------------------------------------------------------------------\u001b[0m",
      "\u001b[1;31mNameError\u001b[0m                                 Traceback (most recent call last)",
      "\u001b[1;32m<ipython-input-13-b9c74558ed37>\u001b[0m in \u001b[0;36m<module>\u001b[1;34m\u001b[0m\n\u001b[1;32m----> 1\u001b[1;33m \u001b[0mtable\u001b[0m\u001b[1;33m\u001b[0m\u001b[1;33m\u001b[0m\u001b[0m\n\u001b[0m",
      "\u001b[1;31mNameError\u001b[0m: name 'table' is not defined"
     ]
    }
   ],
   "source": [
    "table"
   ]
  },
  {
   "cell_type": "code",
   "execution_count": 24,
   "metadata": {},
   "outputs": [
    {
     "data": {
      "text/plain": [
       "<list_iterator at 0x28e3c0a4c10>"
      ]
     },
     "execution_count": 24,
     "metadata": {},
     "output_type": "execute_result"
    }
   ],
   "source": [
    "k"
   ]
  },
  {
   "cell_type": "code",
   "execution_count": 25,
   "metadata": {},
   "outputs": [
    {
     "data": {
      "text/plain": [
       "1"
      ]
     },
     "execution_count": 25,
     "metadata": {},
     "output_type": "execute_result"
    }
   ],
   "source": [
    "next(k)"
   ]
  },
  {
   "cell_type": "code",
   "execution_count": 30,
   "metadata": {},
   "outputs": [
    {
     "ename": "StopIteration",
     "evalue": "",
     "output_type": "error",
     "traceback": [
      "\u001b[1;31m---------------------------------------------------------------------------\u001b[0m",
      "\u001b[1;31mStopIteration\u001b[0m                             Traceback (most recent call last)",
      "\u001b[1;32m<ipython-input-30-413ff6b5fa2c>\u001b[0m in \u001b[0;36m<module>\u001b[1;34m\u001b[0m\n\u001b[1;32m----> 1\u001b[1;33m \u001b[0mnext\u001b[0m\u001b[1;33m(\u001b[0m\u001b[0mk\u001b[0m\u001b[1;33m)\u001b[0m\u001b[1;33m\u001b[0m\u001b[1;33m\u001b[0m\u001b[0m\n\u001b[0m",
      "\u001b[1;31mStopIteration\u001b[0m: "
     ]
    }
   ],
   "source": [
    "next(k)"
   ]
  },
  {
   "cell_type": "code",
   "execution_count": null,
   "metadata": {},
   "outputs": [],
   "source": []
  }
 ],
 "metadata": {
  "kernelspec": {
   "display_name": "Python 3",
   "language": "python",
   "name": "python3"
  },
  "language_info": {
   "codemirror_mode": {
    "name": "ipython",
    "version": 3
   },
   "file_extension": ".py",
   "mimetype": "text/x-python",
   "name": "python",
   "nbconvert_exporter": "python",
   "pygments_lexer": "ipython3",
   "version": "3.8.5"
  }
 },
 "nbformat": 4,
 "nbformat_minor": 4
}
