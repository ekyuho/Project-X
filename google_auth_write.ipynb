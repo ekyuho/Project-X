{
 "cells": [
  {
   "cell_type": "code",
   "execution_count": 18,
   "metadata": {},
   "outputs": [
    {
     "name": "stdout",
     "output_type": "stream",
     "text": [
      "{'spreadsheetId': '1HRpjR7VKiyH5NrL4f50IM1im6WrFGbs5g-i7tu1fJk0',\n",
      " 'updatedCells': 85,\n",
      " 'updatedColumns': 5,\n",
      " 'updatedRange': 'levels!A1:E17',\n",
      " 'updatedRows': 17}\n"
     ]
    }
   ],
   "source": [
    "from __future__ import print_function\n",
    "import os.path\n",
    "from googleapiclient.discovery import build\n",
    "from google_auth_oauthlib.flow import InstalledAppFlow\n",
    "from google.auth.transport.requests import Request\n",
    "from google.oauth2.credentials import Credentials\n",
    "from pprint import pprint\n",
    "\n",
    "\n",
    "# If modifying these scopes, delete the file token.json.\n",
    "SCOPES = ['https://www.googleapis.com/auth/spreadsheets']\n",
    "\n",
    "# The ID and range of a sample spreadsheet.\n",
    "SPREADSHEET_ID = '1HRpjR7VKiyH5NrL4f50IM1im6WrFGbs5g-i7tu1fJk0'\n",
    "RANGE_NAME = 'levels!A1:E400'\n",
    "\n",
    "def write_playbook(values):\n",
    "    \"\"\"Shows basic usage of the Sheets API.\n",
    "    Prints values from a sample spreadsheet.\n",
    "    \"\"\"\n",
    "    creds = None\n",
    "    # The file token.json stores the user's access and refresh tokens, and is\n",
    "    # created automatically when the authorization flow completes for the first\n",
    "    # time.\n",
    "    if os.path.exists('token.json'):\n",
    "        creds = Credentials.from_authorized_user_file('token.json', SCOPES)\n",
    "    # If there are no (valid) credentials available, let the user log in.\n",
    "    if not creds or not creds.valid:\n",
    "        if creds and creds.expired and creds.refresh_token:\n",
    "            creds.refresh(Request())\n",
    "        else:\n",
    "            flow = InstalledAppFlow.from_client_secrets_file(\n",
    "                'credentials.json', SCOPES)\n",
    "            creds = flow.run_local_server(port=0)\n",
    "        # Save the credentials for the next run\n",
    "        with open('token.json', 'w') as token:\n",
    "            token.write(creds.to_json())\n",
    "\n",
    "    service = build('sheets', 'v4', credentials=creds)\n",
    "\n",
    "    # Call the Sheets API\n",
    "    sheet = service.spreadsheets()\n",
    "    \n",
    "    body = {\n",
    "        'values': values\n",
    "    }\n",
    "    result = service.spreadsheets().values().update(\n",
    "        spreadsheetId=SPREADSHEET_ID, range=RANGE_NAME, valueInputOption='USER_ENTERED', body=body).execute()\n",
    "    pprint(result)\n",
    "    \n",
    "if __name__ == '__main__':\n",
    "    value = [['level', 'id', 'description', 'type', 'target'], ['003', '0', '실시간 미터 이미지 취득 시스템 구축', 'mission', ''], ['003', '1', '이미지로부터 인식대상 숫자부분을 추출', 'mission', ''], ['003', '2', '숫자 추출 프로그램', 'mission', ''], ['003', '3', 'get number via calling google tesseract with image', 'mission', ''], ['003', '5', 'make labelling and build training dataset from files', 'mission', ''], ['003', '6', 'apply your dataset to MNIST', 'mission', ''], ['001', '1', 'Date Store', 'mission', 'student'], ['001', '2', 'Data Explore & Preprocess', 'mission', 'student'], ['001', '3', 'Data Analysis', 'mission', 'student'], ['001', '4', 'Modeling', 'mission', 'student'], ['002', '1', 'data store', 'mission', 'student'], ['002', '2', 'data analysis', 'mission', 'student'], ['002', '3', 'data split', 'mission', 'student'], ['002', '4', 'image_data_generator', 'mission', 'student'], ['002', '5', 'CNN modeling', 'mission', 'student'], ['002', '6', 'estimation', 'mission', 'student']]\n",
    "    write_playbook(value)"
   ]
  },
  {
   "cell_type": "code",
   "execution_count": null,
   "metadata": {},
   "outputs": [],
   "source": []
  }
 ],
 "metadata": {
  "kernelspec": {
   "display_name": "Python 3",
   "language": "python",
   "name": "python3"
  },
  "language_info": {
   "codemirror_mode": {
    "name": "ipython",
    "version": 3
   },
   "file_extension": ".py",
   "mimetype": "text/x-python",
   "name": "python",
   "nbconvert_exporter": "python",
   "pygments_lexer": "ipython3",
   "version": "3.8.5"
  }
 },
 "nbformat": 4,
 "nbformat_minor": 4
}
