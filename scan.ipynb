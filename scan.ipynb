{
 "cells": [
  {
   "cell_type": "code",
   "execution_count": 79,
   "metadata": {},
   "outputs": [
    {
     "name": "stdout",
     "output_type": "stream",
     "text": [
      "1 ./Levels/001_meter_reading/00_capture_meter_image/README.MD\n",
      "1 ./Levels/001_meter_reading/01_crop_image/README.MD\n",
      "1 ./Levels/001_meter_reading/02_extract_digits/README.MD\n",
      "1 ./Levels/001_meter_reading/03_get_numbers_via_tesseract/README.MD\n",
      "1 ./Levels/001_meter_reading/04_get_number_via_azure/README.MD\n",
      "1 ./Levels/001_meter_reading/05_build_training_dataset/Images/README.MD\n",
      "1 ./Levels/001_meter_reading/05_build_training_dataset/README.MD\n",
      "1 ./Levels/001_meter_reading/06_apply_MNIST/README.MD\n",
      "1 ./Levels/001_meter_reading/07_meter_digital_twin/README.MD\n",
      "1 ./Levels/001_meter_reading/images/README.MD\n",
      "1 ./Levels/001_meter_reading/README.MD\n",
      "1 ./Levels/002-Detect-Motor-Anamaly/README.MD\n",
      "1 ./README.MD\n",
      "{'type': 'mission', 'id': '1', 'description': 'crop target area image'}\n",
      "{'type': 'mission', 'id': '2', 'description': 'detect edge and extract individual digit'}\n",
      "{'type': 'mission', 'id': '3', 'description': 'get number via calling google tesseract with image'}\n",
      "{'type': 'mission', 'id': '4', 'description': 'get number via calling Azure with image'}\n",
      "{'type': 'mission', 'id': '5', 'description': 'make labelling and build training dataset from files'}\n",
      "{'type': 'mission', 'id': '6', 'description': 'apply your dataset to MNIST'}\n"
     ]
    }
   ],
   "source": [
    "import os\n",
    "import json\n",
    "import re\n",
    "\n",
    "Mission=[]\n",
    "\n",
    "def construct(readme):\n",
    "    if 'type' in readme:\n",
    "        if readme[\"type\"] == \"mission\": Mission.append(readme)\n",
    "    \n",
    "def scan_readme(file):\n",
    "    print('1', file)\n",
    "    with open(file, encoding=\"utf-8\") as f: lines = f.read()\n",
    "    #print('2', lines[:50].replace('\\n', '\\\\n'))\n",
    "    extract = re.findall(r\"\\{.*\\}\", lines)\n",
    "    #print('3', \"extract\", type(extract), len(extract), extract)\n",
    "    if len(extract)>0 :\n",
    "        try:\n",
    "            j = json.loads(extract[0])\n",
    "            construct(j)\n",
    "        except:\n",
    "            print(\"json error: \", extract)\n",
    "    \n",
    "\n",
    "def listdir(basepath):\n",
    "    #print('a', basepath)\n",
    "    with os.scandir(basepath) as entries:\n",
    "        for entry in entries:\n",
    "            fname = basepath+'/'+entry.name\n",
    "            #print('b', fname)\n",
    "            if entry.is_dir():\n",
    "                if \"Levels\" in fname:\n",
    "                    listdir(fname)\n",
    "            elif entry.name == \"README.MD\":\n",
    "                scan_readme(fname)\n",
    "                \n",
    "# List all subdirectories using scandir()\n",
    "basepath = '.'\n",
    "listdir(basepath)\n",
    "\n",
    "for m in Mission:\n",
    "    print(m)"
   ]
  },
  {
   "cell_type": "code",
   "execution_count": 68,
   "metadata": {},
   "outputs": [],
   "source": [
    "a='''{\"type\":\"mission\",\"id\":\"1\",\"description\":\"crop target area image\"}'''"
   ]
  },
  {
   "cell_type": "code",
   "execution_count": 69,
   "metadata": {},
   "outputs": [],
   "source": [
    "b=json.loads(a)"
   ]
  },
  {
   "cell_type": "code",
   "execution_count": 70,
   "metadata": {},
   "outputs": [
    {
     "data": {
      "text/plain": [
       "{'type': 'mission', 'id': '1', 'description': 'crop target area image'}"
      ]
     },
     "execution_count": 70,
     "metadata": {},
     "output_type": "execute_result"
    }
   ],
   "source": [
    "b"
   ]
  },
  {
   "cell_type": "code",
   "execution_count": null,
   "metadata": {},
   "outputs": [],
   "source": []
  },
  {
   "cell_type": "code",
   "execution_count": 6,
   "metadata": {},
   "outputs": [
    {
     "name": "stdout",
     "output_type": "stream",
     "text": [
      ".\n"
     ]
    }
   ],
   "source": [
    "print(basepath)"
   ]
  },
  {
   "cell_type": "code",
   "execution_count": null,
   "metadata": {},
   "outputs": [],
   "source": []
  }
 ],
 "metadata": {
  "kernelspec": {
   "display_name": "Python 3",
   "language": "python",
   "name": "python3"
  },
  "language_info": {
   "codemirror_mode": {
    "name": "ipython",
    "version": 3
   },
   "file_extension": ".py",
   "mimetype": "text/x-python",
   "name": "python",
   "nbconvert_exporter": "python",
   "pygments_lexer": "ipython3",
   "version": "3.8.5"
  }
 },
 "nbformat": 4,
 "nbformat_minor": 4
}
