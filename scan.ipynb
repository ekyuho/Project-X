{
 "cells": [
  {
   "cell_type": "code",
   "execution_count": 116,
   "metadata": {},
   "outputs": [
    {
     "name": "stdout",
     "output_type": "stream",
     "text": [
      "Level: 001\n",
      "{'type': 'mission', 'id': '1', 'description': 'crop target area image', 'level': '001'}\n",
      "{'type': 'mission', 'id': '2', 'description': 'detect edge and extract individual digit', 'level': '001'}\n",
      "{'type': 'mission', 'id': '3', 'description': 'get number via calling google tesseract with image', 'level': '001'}\n",
      "{'type': 'mission', 'id': '4', 'description': 'get number via calling Azure with image', 'level': '001'}\n",
      "{'type': 'mission', 'id': '5', 'description': 'make labelling and build training dataset from files', 'level': '001'}\n",
      "{'type': 'mission', 'id': '6', 'description': 'apply your dataset to MNIST', 'level': '001'}\n"
     ]
    }
   ],
   "source": [
    "import os\n",
    "import json\n",
    "import re\n",
    "\n",
    "Mission=[]\n",
    "Level= set()\n",
    "\n",
    "def construct(path, meta):\n",
    "    #print(path, meta[:20])\n",
    "    try:\n",
    "        j = json.loads(meta)        \n",
    "    except:\n",
    "        print(\"json error: \", meta)\n",
    "        return\n",
    "    \n",
    "    if 'type' in j:\n",
    "        if j[\"type\"] == \"mission\":\n",
    "            extract = re.findall('\\d+', path)\n",
    "            if len(extract)>1:\n",
    "                #print(extract[0])\n",
    "                j[\"level\"]=extract[0]\n",
    "                Mission.append(j)\n",
    "                Level.add(extract[0])                        \n",
    "    \n",
    "def scan_readme(file):\n",
    "    #print('1', file)\n",
    "    with open(file, encoding=\"utf-8\") as f: lines = f.read()\n",
    "    #print('2', lines[:50].replace('\\n', '\\\\n'))\n",
    "    extract = re.findall(r\"\\{.*\\}\", lines)\n",
    "    if len(extract)>0:\n",
    "        #print('3', \"extract\", type(extract[0]), len(extract), extract[0])\n",
    "        construct(file, extract[0])   \n",
    "\n",
    "def listdir(basepath):\n",
    "    #print('a', basepath)\n",
    "    with os.scandir(basepath) as entries:\n",
    "        for entry in entries:\n",
    "            fname = basepath+'/'+entry.name\n",
    "            #print('b', fname)\n",
    "            if entry.is_dir():\n",
    "                if \"Levels\" in fname:\n",
    "                    listdir(fname)\n",
    "            elif entry.name == \"README.MD\":\n",
    "                scan_readme(fname)\n",
    "                \n",
    "# List all subdirectories using scandir()\n",
    "basepath = '.'\n",
    "listdir(basepath)\n",
    "\n",
    "for le in Level:\n",
    "    print(\"Level:\", le)\n",
    "    for m in Mission:\n",
    "        if m[\"level\"] == le: print(m)"
   ]
  },
  {
   "cell_type": "code",
   "execution_count": 87,
   "metadata": {},
   "outputs": [],
   "source": [
    "a='''{\"type\":\"mission\",\"id\":\"1\",\"description\":\"crop target area image\"}'''"
   ]
  },
  {
   "cell_type": "code",
   "execution_count": 88,
   "metadata": {},
   "outputs": [],
   "source": [
    "b=json.loads(a)"
   ]
  },
  {
   "cell_type": "code",
   "execution_count": 89,
   "metadata": {},
   "outputs": [
    {
     "data": {
      "text/plain": [
       "{'type': 'mission', 'id': '1', 'description': 'crop target area image'}"
      ]
     },
     "execution_count": 89,
     "metadata": {},
     "output_type": "execute_result"
    }
   ],
   "source": [
    "b"
   ]
  },
  {
   "cell_type": "code",
   "execution_count": null,
   "metadata": {},
   "outputs": [],
   "source": []
  },
  {
   "cell_type": "code",
   "execution_count": 6,
   "metadata": {},
   "outputs": [
    {
     "name": "stdout",
     "output_type": "stream",
     "text": [
      ".\n"
     ]
    }
   ],
   "source": [
    "print(basepath)"
   ]
  },
  {
   "cell_type": "code",
   "execution_count": null,
   "metadata": {},
   "outputs": [],
   "source": []
  }
 ],
 "metadata": {
  "kernelspec": {
   "display_name": "Python 3",
   "language": "python",
   "name": "python3"
  },
  "language_info": {
   "codemirror_mode": {
    "name": "ipython",
    "version": 3
   },
   "file_extension": ".py",
   "mimetype": "text/x-python",
   "name": "python",
   "nbconvert_exporter": "python",
   "pygments_lexer": "ipython3",
   "version": "3.8.5"
  }
 },
 "nbformat": 4,
 "nbformat_minor": 4
}
