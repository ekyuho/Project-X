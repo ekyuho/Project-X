{
  "nbformat": 4,
  "nbformat_minor": 0,
  "metadata": {
    "colab": {
      "name": "001_Medical No Show.ipynb",
      "provenance": [],
      "collapsed_sections": [],
      "authorship_tag": "ABX9TyMBRLq5/cUcRAB2WKj0nYNW",
      "include_colab_link": true
    },
    "kernelspec": {
      "name": "python3",
      "display_name": "Python 3"
    },
    "language_info": {
      "name": "python"
    }
  },
  "cells": [
    {
      "cell_type": "markdown",
      "metadata": {
        "id": "view-in-github",
        "colab_type": "text"
      },
      "source": [
        "<a href=\"https://colab.research.google.com/github/coachsummer/Project-X/blob/main/001_Medical%20No%20Show/001_Medical_No_Show.ipynb\" target=\"_parent\"><img src=\"https://colab.research.google.com/assets/colab-badge.svg\" alt=\"Open In Colab\"/></a>"
      ]
    },
    {
      "cell_type": "code",
      "metadata": {
        "id": "ySXeRf8dwktp"
      },
      "source": [
        "import numpy as np\n",
        "import pandas as pd \n",
        "\n",
        "import matplotlib.pyplot as plt\n",
        "from matplotlib import pylab\n",
        "%matplotlib inline\n",
        "import seaborn as sns\n",
        "\n",
        "import datetime\n",
        "from time import strftime\n",
        "\n",
        "from google.colab import drive\n",
        "import os\n",
        "\n",
        "from sklearn.model_selection import train_test_split\n",
        "from sklearn.model_selection import GridSearchCV\n",
        "from sklearn.preprocessing import LabelEncoder\n",
        "\n",
        "from sklearn.tree import DecisionTreeClassifier\n",
        "from sklearn.ensemble import RandomForestClassifier\n",
        "\n",
        "\n",
        "week_key = ['Monday','Tuesday','Wednesday','Thursday','Friday','Saturday','Sunday']"
      ],
      "execution_count": 1,
      "outputs": []
    },
    {
      "cell_type": "markdown",
      "metadata": {
        "id": "gYJNxz87Koio"
      },
      "source": [
        "## 01_Data Store"
      ]
    },
    {
      "cell_type": "code",
      "metadata": {
        "colab": {
          "base_uri": "https://localhost:8080/"
        },
        "id": "BHW3SEBBH2uS",
        "outputId": "4d48ac44-52ae-4640-bab3-4f124389a8a0"
      },
      "source": [
        "drive.mount('/gdrive', force_remount = True)\n",
        "working_dir = 'noshow'\n",
        "colab_default_dir = '/gdrive/My Drive/Colab Notebooks/'\n",
        "original_dir = os.getcwd()"
      ],
      "execution_count": 2,
      "outputs": [
        {
          "output_type": "stream",
          "text": [
            "Mounted at /gdrive\n"
          ],
          "name": "stdout"
        }
      ]
    },
    {
      "cell_type": "code",
      "metadata": {
        "colab": {
          "base_uri": "https://localhost:8080/"
        },
        "id": "b1di4tnBGRs9",
        "outputId": "17596db5-db28-4e02-f282-fd4ef5bb0763"
      },
      "source": [
        "try:\n",
        "  os.chdir(colab_default_dir)\n",
        "  if not os.path.exists(working_dir):\n",
        "    os.mkdir(working_dir)\n",
        "  os.chdir(working_dir)\n",
        "  print('current dir = ', os.getcwd())\n",
        "except Exception as err:\n",
        "  os.chdir(original_dir)\n",
        "  print(str(err))"
      ],
      "execution_count": 3,
      "outputs": [
        {
          "output_type": "stream",
          "text": [
            "current dir =  /gdrive/My Drive/Colab Notebooks/noshow\n"
          ],
          "name": "stdout"
        }
      ]
    },
    {
      "cell_type": "code",
      "metadata": {
        "id": "nWCo9UdaN8QY"
      },
      "source": [
        "NSdf = pd.read_csv('medical no show.csv')"
      ],
      "execution_count": 4,
      "outputs": []
    },
    {
      "cell_type": "markdown",
      "metadata": {
        "id": "FlVBGqIPKu9w"
      },
      "source": [
        "## 02_Data Explore & Preprocess"
      ]
    },
    {
      "cell_type": "code",
      "metadata": {
        "colab": {
          "base_uri": "https://localhost:8080/",
          "height": 946
        },
        "id": "W4dhbyQcPMZE",
        "outputId": "f11350ea-d7b0-44cc-9be6-495af66804b1"
      },
      "source": [
        "NSdf.info()\n",
        "NSdf.sample(10)"
      ],
      "execution_count": 5,
      "outputs": [
        {
          "output_type": "stream",
          "text": [
            "<class 'pandas.core.frame.DataFrame'>\n",
            "RangeIndex: 110527 entries, 0 to 110526\n",
            "Data columns (total 14 columns):\n",
            " #   Column          Non-Null Count   Dtype  \n",
            "---  ------          --------------   -----  \n",
            " 0   PatientId       110527 non-null  float64\n",
            " 1   AppointmentID   110527 non-null  int64  \n",
            " 2   Gender          110527 non-null  object \n",
            " 3   ScheduledDay    110527 non-null  object \n",
            " 4   AppointmentDay  110527 non-null  object \n",
            " 5   Age             110527 non-null  int64  \n",
            " 6   Neighbourhood   110527 non-null  object \n",
            " 7   Scholarship     110527 non-null  int64  \n",
            " 8   Hipertension    110527 non-null  int64  \n",
            " 9   Diabetes        110527 non-null  int64  \n",
            " 10  Alcoholism      110527 non-null  int64  \n",
            " 11  Handcap         110527 non-null  int64  \n",
            " 12  SMS_received    110527 non-null  int64  \n",
            " 13  No-show         110527 non-null  object \n",
            "dtypes: float64(1), int64(8), object(5)\n",
            "memory usage: 11.8+ MB\n"
          ],
          "name": "stdout"
        },
        {
          "output_type": "execute_result",
          "data": {
            "text/html": [
              "<div>\n",
              "<style scoped>\n",
              "    .dataframe tbody tr th:only-of-type {\n",
              "        vertical-align: middle;\n",
              "    }\n",
              "\n",
              "    .dataframe tbody tr th {\n",
              "        vertical-align: top;\n",
              "    }\n",
              "\n",
              "    .dataframe thead th {\n",
              "        text-align: right;\n",
              "    }\n",
              "</style>\n",
              "<table border=\"1\" class=\"dataframe\">\n",
              "  <thead>\n",
              "    <tr style=\"text-align: right;\">\n",
              "      <th></th>\n",
              "      <th>PatientId</th>\n",
              "      <th>AppointmentID</th>\n",
              "      <th>Gender</th>\n",
              "      <th>ScheduledDay</th>\n",
              "      <th>AppointmentDay</th>\n",
              "      <th>Age</th>\n",
              "      <th>Neighbourhood</th>\n",
              "      <th>Scholarship</th>\n",
              "      <th>Hipertension</th>\n",
              "      <th>Diabetes</th>\n",
              "      <th>Alcoholism</th>\n",
              "      <th>Handcap</th>\n",
              "      <th>SMS_received</th>\n",
              "      <th>No-show</th>\n",
              "    </tr>\n",
              "  </thead>\n",
              "  <tbody>\n",
              "    <tr>\n",
              "      <th>42297</th>\n",
              "      <td>2.787789e+13</td>\n",
              "      <td>5703178</td>\n",
              "      <td>M</td>\n",
              "      <td>2016-05-16T13:36:23Z</td>\n",
              "      <td>2016-05-16T00:00:00Z</td>\n",
              "      <td>1</td>\n",
              "      <td>MARIA ORTIZ</td>\n",
              "      <td>0</td>\n",
              "      <td>0</td>\n",
              "      <td>0</td>\n",
              "      <td>0</td>\n",
              "      <td>0</td>\n",
              "      <td>0</td>\n",
              "      <td>No</td>\n",
              "    </tr>\n",
              "    <tr>\n",
              "      <th>47786</th>\n",
              "      <td>8.496817e+13</td>\n",
              "      <td>5666507</td>\n",
              "      <td>F</td>\n",
              "      <td>2016-05-05T17:19:36Z</td>\n",
              "      <td>2016-05-25T00:00:00Z</td>\n",
              "      <td>63</td>\n",
              "      <td>MARUÍPE</td>\n",
              "      <td>0</td>\n",
              "      <td>0</td>\n",
              "      <td>0</td>\n",
              "      <td>0</td>\n",
              "      <td>0</td>\n",
              "      <td>1</td>\n",
              "      <td>No</td>\n",
              "    </tr>\n",
              "    <tr>\n",
              "      <th>70232</th>\n",
              "      <td>4.678419e+13</td>\n",
              "      <td>5706177</td>\n",
              "      <td>M</td>\n",
              "      <td>2016-05-17T07:57:57Z</td>\n",
              "      <td>2016-05-17T00:00:00Z</td>\n",
              "      <td>15</td>\n",
              "      <td>MARUÍPE</td>\n",
              "      <td>0</td>\n",
              "      <td>0</td>\n",
              "      <td>0</td>\n",
              "      <td>0</td>\n",
              "      <td>0</td>\n",
              "      <td>0</td>\n",
              "      <td>No</td>\n",
              "    </tr>\n",
              "    <tr>\n",
              "      <th>5809</th>\n",
              "      <td>3.754141e+13</td>\n",
              "      <td>5679805</td>\n",
              "      <td>M</td>\n",
              "      <td>2016-05-10T10:31:21Z</td>\n",
              "      <td>2016-05-10T00:00:00Z</td>\n",
              "      <td>0</td>\n",
              "      <td>JESUS DE NAZARETH</td>\n",
              "      <td>0</td>\n",
              "      <td>0</td>\n",
              "      <td>0</td>\n",
              "      <td>0</td>\n",
              "      <td>0</td>\n",
              "      <td>0</td>\n",
              "      <td>No</td>\n",
              "    </tr>\n",
              "    <tr>\n",
              "      <th>55438</th>\n",
              "      <td>3.448634e+13</td>\n",
              "      <td>5482949</td>\n",
              "      <td>F</td>\n",
              "      <td>2016-03-17T10:33:12Z</td>\n",
              "      <td>2016-05-16T00:00:00Z</td>\n",
              "      <td>24</td>\n",
              "      <td>SANTA CECÍLIA</td>\n",
              "      <td>0</td>\n",
              "      <td>0</td>\n",
              "      <td>0</td>\n",
              "      <td>0</td>\n",
              "      <td>0</td>\n",
              "      <td>0</td>\n",
              "      <td>No</td>\n",
              "    </tr>\n",
              "    <tr>\n",
              "      <th>1417</th>\n",
              "      <td>6.121290e+11</td>\n",
              "      <td>5542250</td>\n",
              "      <td>F</td>\n",
              "      <td>2016-04-05T08:46:42Z</td>\n",
              "      <td>2016-04-29T00:00:00Z</td>\n",
              "      <td>67</td>\n",
              "      <td>DO QUADRO</td>\n",
              "      <td>0</td>\n",
              "      <td>1</td>\n",
              "      <td>0</td>\n",
              "      <td>0</td>\n",
              "      <td>0</td>\n",
              "      <td>1</td>\n",
              "      <td>No</td>\n",
              "    </tr>\n",
              "    <tr>\n",
              "      <th>76062</th>\n",
              "      <td>3.346536e+13</td>\n",
              "      <td>5642775</td>\n",
              "      <td>F</td>\n",
              "      <td>2016-04-29T17:10:45Z</td>\n",
              "      <td>2016-05-09T00:00:00Z</td>\n",
              "      <td>0</td>\n",
              "      <td>SÃO PEDRO</td>\n",
              "      <td>0</td>\n",
              "      <td>0</td>\n",
              "      <td>0</td>\n",
              "      <td>0</td>\n",
              "      <td>0</td>\n",
              "      <td>0</td>\n",
              "      <td>No</td>\n",
              "    </tr>\n",
              "    <tr>\n",
              "      <th>65860</th>\n",
              "      <td>6.416434e+13</td>\n",
              "      <td>5604510</td>\n",
              "      <td>F</td>\n",
              "      <td>2016-04-20T08:03:01Z</td>\n",
              "      <td>2016-05-06T00:00:00Z</td>\n",
              "      <td>39</td>\n",
              "      <td>TABUAZEIRO</td>\n",
              "      <td>0</td>\n",
              "      <td>0</td>\n",
              "      <td>0</td>\n",
              "      <td>0</td>\n",
              "      <td>0</td>\n",
              "      <td>1</td>\n",
              "      <td>No</td>\n",
              "    </tr>\n",
              "    <tr>\n",
              "      <th>9812</th>\n",
              "      <td>1.231779e+14</td>\n",
              "      <td>5743404</td>\n",
              "      <td>F</td>\n",
              "      <td>2016-05-30T08:59:12Z</td>\n",
              "      <td>2016-05-30T00:00:00Z</td>\n",
              "      <td>30</td>\n",
              "      <td>ROMÃO</td>\n",
              "      <td>1</td>\n",
              "      <td>0</td>\n",
              "      <td>0</td>\n",
              "      <td>0</td>\n",
              "      <td>0</td>\n",
              "      <td>0</td>\n",
              "      <td>No</td>\n",
              "    </tr>\n",
              "    <tr>\n",
              "      <th>58756</th>\n",
              "      <td>5.499857e+12</td>\n",
              "      <td>5596750</td>\n",
              "      <td>F</td>\n",
              "      <td>2016-04-18T15:12:45Z</td>\n",
              "      <td>2016-05-16T00:00:00Z</td>\n",
              "      <td>0</td>\n",
              "      <td>MARIA ORTIZ</td>\n",
              "      <td>0</td>\n",
              "      <td>0</td>\n",
              "      <td>0</td>\n",
              "      <td>0</td>\n",
              "      <td>0</td>\n",
              "      <td>0</td>\n",
              "      <td>No</td>\n",
              "    </tr>\n",
              "  </tbody>\n",
              "</table>\n",
              "</div>"
            ],
            "text/plain": [
              "          PatientId  AppointmentID Gender  ... Handcap SMS_received  No-show\n",
              "42297  2.787789e+13        5703178      M  ...       0            0       No\n",
              "47786  8.496817e+13        5666507      F  ...       0            1       No\n",
              "70232  4.678419e+13        5706177      M  ...       0            0       No\n",
              "5809   3.754141e+13        5679805      M  ...       0            0       No\n",
              "55438  3.448634e+13        5482949      F  ...       0            0       No\n",
              "1417   6.121290e+11        5542250      F  ...       0            1       No\n",
              "76062  3.346536e+13        5642775      F  ...       0            0       No\n",
              "65860  6.416434e+13        5604510      F  ...       0            1       No\n",
              "9812   1.231779e+14        5743404      F  ...       0            0       No\n",
              "58756  5.499857e+12        5596750      F  ...       0            0       No\n",
              "\n",
              "[10 rows x 14 columns]"
            ]
          },
          "metadata": {
            "tags": []
          },
          "execution_count": 5
        }
      ]
    },
    {
      "cell_type": "code",
      "metadata": {
        "colab": {
          "base_uri": "https://localhost:8080/",
          "height": 316
        },
        "id": "849aB9Q5MzCv",
        "outputId": "4bcad94c-36ee-4f1d-d8b5-f6d94b750636"
      },
      "source": [
        "NSdf.describe()"
      ],
      "execution_count": 6,
      "outputs": [
        {
          "output_type": "execute_result",
          "data": {
            "text/html": [
              "<div>\n",
              "<style scoped>\n",
              "    .dataframe tbody tr th:only-of-type {\n",
              "        vertical-align: middle;\n",
              "    }\n",
              "\n",
              "    .dataframe tbody tr th {\n",
              "        vertical-align: top;\n",
              "    }\n",
              "\n",
              "    .dataframe thead th {\n",
              "        text-align: right;\n",
              "    }\n",
              "</style>\n",
              "<table border=\"1\" class=\"dataframe\">\n",
              "  <thead>\n",
              "    <tr style=\"text-align: right;\">\n",
              "      <th></th>\n",
              "      <th>PatientId</th>\n",
              "      <th>AppointmentID</th>\n",
              "      <th>Age</th>\n",
              "      <th>Scholarship</th>\n",
              "      <th>Hipertension</th>\n",
              "      <th>Diabetes</th>\n",
              "      <th>Alcoholism</th>\n",
              "      <th>Handcap</th>\n",
              "      <th>SMS_received</th>\n",
              "    </tr>\n",
              "  </thead>\n",
              "  <tbody>\n",
              "    <tr>\n",
              "      <th>count</th>\n",
              "      <td>1.105270e+05</td>\n",
              "      <td>1.105270e+05</td>\n",
              "      <td>110527.000000</td>\n",
              "      <td>110527.000000</td>\n",
              "      <td>110527.000000</td>\n",
              "      <td>110527.000000</td>\n",
              "      <td>110527.000000</td>\n",
              "      <td>110527.000000</td>\n",
              "      <td>110527.000000</td>\n",
              "    </tr>\n",
              "    <tr>\n",
              "      <th>mean</th>\n",
              "      <td>1.474963e+14</td>\n",
              "      <td>5.675305e+06</td>\n",
              "      <td>37.088874</td>\n",
              "      <td>0.098266</td>\n",
              "      <td>0.197246</td>\n",
              "      <td>0.071865</td>\n",
              "      <td>0.030400</td>\n",
              "      <td>0.022248</td>\n",
              "      <td>0.321026</td>\n",
              "    </tr>\n",
              "    <tr>\n",
              "      <th>std</th>\n",
              "      <td>2.560949e+14</td>\n",
              "      <td>7.129575e+04</td>\n",
              "      <td>23.110205</td>\n",
              "      <td>0.297675</td>\n",
              "      <td>0.397921</td>\n",
              "      <td>0.258265</td>\n",
              "      <td>0.171686</td>\n",
              "      <td>0.161543</td>\n",
              "      <td>0.466873</td>\n",
              "    </tr>\n",
              "    <tr>\n",
              "      <th>min</th>\n",
              "      <td>3.921784e+04</td>\n",
              "      <td>5.030230e+06</td>\n",
              "      <td>-1.000000</td>\n",
              "      <td>0.000000</td>\n",
              "      <td>0.000000</td>\n",
              "      <td>0.000000</td>\n",
              "      <td>0.000000</td>\n",
              "      <td>0.000000</td>\n",
              "      <td>0.000000</td>\n",
              "    </tr>\n",
              "    <tr>\n",
              "      <th>25%</th>\n",
              "      <td>4.172614e+12</td>\n",
              "      <td>5.640286e+06</td>\n",
              "      <td>18.000000</td>\n",
              "      <td>0.000000</td>\n",
              "      <td>0.000000</td>\n",
              "      <td>0.000000</td>\n",
              "      <td>0.000000</td>\n",
              "      <td>0.000000</td>\n",
              "      <td>0.000000</td>\n",
              "    </tr>\n",
              "    <tr>\n",
              "      <th>50%</th>\n",
              "      <td>3.173184e+13</td>\n",
              "      <td>5.680573e+06</td>\n",
              "      <td>37.000000</td>\n",
              "      <td>0.000000</td>\n",
              "      <td>0.000000</td>\n",
              "      <td>0.000000</td>\n",
              "      <td>0.000000</td>\n",
              "      <td>0.000000</td>\n",
              "      <td>0.000000</td>\n",
              "    </tr>\n",
              "    <tr>\n",
              "      <th>75%</th>\n",
              "      <td>9.439172e+13</td>\n",
              "      <td>5.725524e+06</td>\n",
              "      <td>55.000000</td>\n",
              "      <td>0.000000</td>\n",
              "      <td>0.000000</td>\n",
              "      <td>0.000000</td>\n",
              "      <td>0.000000</td>\n",
              "      <td>0.000000</td>\n",
              "      <td>1.000000</td>\n",
              "    </tr>\n",
              "    <tr>\n",
              "      <th>max</th>\n",
              "      <td>9.999816e+14</td>\n",
              "      <td>5.790484e+06</td>\n",
              "      <td>115.000000</td>\n",
              "      <td>1.000000</td>\n",
              "      <td>1.000000</td>\n",
              "      <td>1.000000</td>\n",
              "      <td>1.000000</td>\n",
              "      <td>4.000000</td>\n",
              "      <td>1.000000</td>\n",
              "    </tr>\n",
              "  </tbody>\n",
              "</table>\n",
              "</div>"
            ],
            "text/plain": [
              "          PatientId  AppointmentID  ...        Handcap   SMS_received\n",
              "count  1.105270e+05   1.105270e+05  ...  110527.000000  110527.000000\n",
              "mean   1.474963e+14   5.675305e+06  ...       0.022248       0.321026\n",
              "std    2.560949e+14   7.129575e+04  ...       0.161543       0.466873\n",
              "min    3.921784e+04   5.030230e+06  ...       0.000000       0.000000\n",
              "25%    4.172614e+12   5.640286e+06  ...       0.000000       0.000000\n",
              "50%    3.173184e+13   5.680573e+06  ...       0.000000       0.000000\n",
              "75%    9.439172e+13   5.725524e+06  ...       0.000000       1.000000\n",
              "max    9.999816e+14   5.790484e+06  ...       4.000000       1.000000\n",
              "\n",
              "[8 rows x 9 columns]"
            ]
          },
          "metadata": {
            "tags": []
          },
          "execution_count": 6
        }
      ]
    },
    {
      "cell_type": "markdown",
      "metadata": {
        "id": "gTAKXtEcX58t"
      },
      "source": [
        "오타 수정"
      ]
    },
    {
      "cell_type": "code",
      "metadata": {
        "id": "kirqlNXTX332"
      },
      "source": [
        "NSdf = NSdf.rename(columns={'Hipertension': 'Hypertension', 'Handcap': 'Handicap', 'SMS_received': 'SMSReceived', 'No-show': 'NoShow'})"
      ],
      "execution_count": 7,
      "outputs": []
    },
    {
      "cell_type": "code",
      "metadata": {
        "colab": {
          "base_uri": "https://localhost:8080/"
        },
        "id": "EcqiUZbZS78C",
        "outputId": "e9e60572-e1d0-440c-f945-dbb64ffa9108"
      },
      "source": [
        "NSdf.info()"
      ],
      "execution_count": 8,
      "outputs": [
        {
          "output_type": "stream",
          "text": [
            "<class 'pandas.core.frame.DataFrame'>\n",
            "RangeIndex: 110527 entries, 0 to 110526\n",
            "Data columns (total 14 columns):\n",
            " #   Column          Non-Null Count   Dtype  \n",
            "---  ------          --------------   -----  \n",
            " 0   PatientId       110527 non-null  float64\n",
            " 1   AppointmentID   110527 non-null  int64  \n",
            " 2   Gender          110527 non-null  object \n",
            " 3   ScheduledDay    110527 non-null  object \n",
            " 4   AppointmentDay  110527 non-null  object \n",
            " 5   Age             110527 non-null  int64  \n",
            " 6   Neighbourhood   110527 non-null  object \n",
            " 7   Scholarship     110527 non-null  int64  \n",
            " 8   Hypertension    110527 non-null  int64  \n",
            " 9   Diabetes        110527 non-null  int64  \n",
            " 10  Alcoholism      110527 non-null  int64  \n",
            " 11  Handicap        110527 non-null  int64  \n",
            " 12  SMSReceived     110527 non-null  int64  \n",
            " 13  NoShow          110527 non-null  object \n",
            "dtypes: float64(1), int64(8), object(5)\n",
            "memory usage: 11.8+ MB\n"
          ],
          "name": "stdout"
        }
      ]
    },
    {
      "cell_type": "code",
      "metadata": {
        "colab": {
          "base_uri": "https://localhost:8080/"
        },
        "id": "i4vowsLlS908",
        "outputId": "a637798f-0f63-4c6f-b933-9b12ae3105ab"
      },
      "source": [
        "NSdf.columns.ravel()"
      ],
      "execution_count": 9,
      "outputs": [
        {
          "output_type": "execute_result",
          "data": {
            "text/plain": [
              "array(['PatientId', 'AppointmentID', 'Gender', 'ScheduledDay',\n",
              "       'AppointmentDay', 'Age', 'Neighbourhood', 'Scholarship',\n",
              "       'Hypertension', 'Diabetes', 'Alcoholism', 'Handicap',\n",
              "       'SMSReceived', 'NoShow'], dtype=object)"
            ]
          },
          "metadata": {
            "tags": []
          },
          "execution_count": 9
        }
      ]
    },
    {
      "cell_type": "markdown",
      "metadata": {
        "id": "siF8-HI4X_V4"
      },
      "source": [
        "필요 없는 데이터 삭제"
      ]
    },
    {
      "cell_type": "code",
      "metadata": {
        "id": "7a3Q0dzJaz1b"
      },
      "source": [
        "#시스템이 생성한 숫자이므로 필요없다. 삭제\n",
        "NSdf.drop(['PatientId', 'AppointmentID'], axis=1, inplace=True)"
      ],
      "execution_count": 10,
      "outputs": []
    },
    {
      "cell_type": "markdown",
      "metadata": {
        "id": "sOmrWDFtYC70"
      },
      "source": [
        "데이터 타입을 학습에 맞게 변환"
      ]
    },
    {
      "cell_type": "code",
      "metadata": {
        "id": "8iz957N3SIWJ"
      },
      "source": [
        "NSdf['ScheduledDay'] = pd.to_datetime(NSdf['ScheduledDay']).dt.date.astype('datetime64[ns]')\n",
        "NSdf['AppointmentDay'] = pd.to_datetime(NSdf['AppointmentDay']).dt.date.astype('datetime64[ns]')"
      ],
      "execution_count": 11,
      "outputs": []
    },
    {
      "cell_type": "code",
      "metadata": {
        "colab": {
          "base_uri": "https://localhost:8080/"
        },
        "id": "XPuuTyTpdBT5",
        "outputId": "2a494937-c206-4924-8aa0-ab8865d2d784"
      },
      "source": [
        "#고유값 확인\n",
        "print(\"Gender: {}\".format(NSdf.Gender.unique()))\n",
        "print(\"Scholarship: {}\".format(NSdf.Scholarship.unique()))\n",
        "print(\"Hypertension: {}\".format(NSdf.Hypertension.unique()))\n",
        "print(\"Diabetes: {}\".format(NSdf.Diabetes.unique()))\n",
        "print(\"Alcoholism: {}\".format(NSdf.Alcoholism.unique()))\n",
        "print(\"Handicap: {}\".format(NSdf.Handicap.unique()))\n",
        "print(\"SMSReceived: {}\".format(NSdf.SMSReceived.unique()))"
      ],
      "execution_count": 12,
      "outputs": [
        {
          "output_type": "stream",
          "text": [
            "Gender: ['F' 'M']\n",
            "Scholarship: [0 1]\n",
            "Hypertension: [1 0]\n",
            "Diabetes: [0 1]\n",
            "Alcoholism: [0 1]\n",
            "Handicap: [0 1 2 3 4]\n",
            "SMSReceived: [0 1]\n"
          ],
          "name": "stdout"
        }
      ]
    },
    {
      "cell_type": "code",
      "metadata": {
        "colab": {
          "base_uri": "https://localhost:8080/"
        },
        "id": "BeRNVYgkdJLc",
        "outputId": "b1ea2120-dca9-4bc0-cfa5-23591468451f"
      },
      "source": [
        "#참 거짓에 대한 데이터는 object형으로 변환\n",
        "NSdf['Scholarship'] = NSdf['Scholarship'].astype('object')\n",
        "NSdf['Hypertension'] = NSdf['Hypertension'].astype('object')\n",
        "NSdf['Diabetes'] = NSdf['Diabetes'].astype('object')\n",
        "NSdf['Alcoholism'] = NSdf['Alcoholism'].astype('object')\n",
        "NSdf['Handicap'] = NSdf['Handicap'].astype('object')\n",
        "NSdf['SMSReceived'] = NSdf['SMSReceived'].astype('object')\n",
        "NSdf.info()"
      ],
      "execution_count": 13,
      "outputs": [
        {
          "output_type": "stream",
          "text": [
            "<class 'pandas.core.frame.DataFrame'>\n",
            "RangeIndex: 110527 entries, 0 to 110526\n",
            "Data columns (total 12 columns):\n",
            " #   Column          Non-Null Count   Dtype         \n",
            "---  ------          --------------   -----         \n",
            " 0   Gender          110527 non-null  object        \n",
            " 1   ScheduledDay    110527 non-null  datetime64[ns]\n",
            " 2   AppointmentDay  110527 non-null  datetime64[ns]\n",
            " 3   Age             110527 non-null  int64         \n",
            " 4   Neighbourhood   110527 non-null  object        \n",
            " 5   Scholarship     110527 non-null  object        \n",
            " 6   Hypertension    110527 non-null  object        \n",
            " 7   Diabetes        110527 non-null  object        \n",
            " 8   Alcoholism      110527 non-null  object        \n",
            " 9   Handicap        110527 non-null  object        \n",
            " 10  SMSReceived     110527 non-null  object        \n",
            " 11  NoShow          110527 non-null  object        \n",
            "dtypes: datetime64[ns](2), int64(1), object(9)\n",
            "memory usage: 10.1+ MB\n"
          ],
          "name": "stdout"
        }
      ]
    },
    {
      "cell_type": "code",
      "metadata": {
        "colab": {
          "base_uri": "https://localhost:8080/",
          "height": 291
        },
        "id": "P2yYOqjweYmY",
        "outputId": "dd907b00-4dce-4746-99a0-57276efd9ac2"
      },
      "source": [
        "NSdf.sample(n=5)"
      ],
      "execution_count": 14,
      "outputs": [
        {
          "output_type": "execute_result",
          "data": {
            "text/html": [
              "<div>\n",
              "<style scoped>\n",
              "    .dataframe tbody tr th:only-of-type {\n",
              "        vertical-align: middle;\n",
              "    }\n",
              "\n",
              "    .dataframe tbody tr th {\n",
              "        vertical-align: top;\n",
              "    }\n",
              "\n",
              "    .dataframe thead th {\n",
              "        text-align: right;\n",
              "    }\n",
              "</style>\n",
              "<table border=\"1\" class=\"dataframe\">\n",
              "  <thead>\n",
              "    <tr style=\"text-align: right;\">\n",
              "      <th></th>\n",
              "      <th>Gender</th>\n",
              "      <th>ScheduledDay</th>\n",
              "      <th>AppointmentDay</th>\n",
              "      <th>Age</th>\n",
              "      <th>Neighbourhood</th>\n",
              "      <th>Scholarship</th>\n",
              "      <th>Hypertension</th>\n",
              "      <th>Diabetes</th>\n",
              "      <th>Alcoholism</th>\n",
              "      <th>Handicap</th>\n",
              "      <th>SMSReceived</th>\n",
              "      <th>NoShow</th>\n",
              "    </tr>\n",
              "  </thead>\n",
              "  <tbody>\n",
              "    <tr>\n",
              "      <th>4515</th>\n",
              "      <td>F</td>\n",
              "      <td>2016-05-25</td>\n",
              "      <td>2016-05-31</td>\n",
              "      <td>58</td>\n",
              "      <td>JESUS DE NAZARETH</td>\n",
              "      <td>0</td>\n",
              "      <td>1</td>\n",
              "      <td>0</td>\n",
              "      <td>0</td>\n",
              "      <td>0</td>\n",
              "      <td>1</td>\n",
              "      <td>No</td>\n",
              "    </tr>\n",
              "    <tr>\n",
              "      <th>59689</th>\n",
              "      <td>M</td>\n",
              "      <td>2016-05-24</td>\n",
              "      <td>2016-05-24</td>\n",
              "      <td>14</td>\n",
              "      <td>PRAIA DO CANTO</td>\n",
              "      <td>0</td>\n",
              "      <td>0</td>\n",
              "      <td>0</td>\n",
              "      <td>0</td>\n",
              "      <td>0</td>\n",
              "      <td>0</td>\n",
              "      <td>No</td>\n",
              "    </tr>\n",
              "    <tr>\n",
              "      <th>50073</th>\n",
              "      <td>F</td>\n",
              "      <td>2016-05-02</td>\n",
              "      <td>2016-05-02</td>\n",
              "      <td>2</td>\n",
              "      <td>JARDIM DA PENHA</td>\n",
              "      <td>0</td>\n",
              "      <td>0</td>\n",
              "      <td>0</td>\n",
              "      <td>0</td>\n",
              "      <td>0</td>\n",
              "      <td>0</td>\n",
              "      <td>No</td>\n",
              "    </tr>\n",
              "    <tr>\n",
              "      <th>53808</th>\n",
              "      <td>M</td>\n",
              "      <td>2016-03-30</td>\n",
              "      <td>2016-05-02</td>\n",
              "      <td>70</td>\n",
              "      <td>MARIA ORTIZ</td>\n",
              "      <td>0</td>\n",
              "      <td>0</td>\n",
              "      <td>0</td>\n",
              "      <td>0</td>\n",
              "      <td>0</td>\n",
              "      <td>1</td>\n",
              "      <td>No</td>\n",
              "    </tr>\n",
              "    <tr>\n",
              "      <th>52196</th>\n",
              "      <td>F</td>\n",
              "      <td>2016-05-18</td>\n",
              "      <td>2016-05-18</td>\n",
              "      <td>73</td>\n",
              "      <td>JARDIM DA PENHA</td>\n",
              "      <td>0</td>\n",
              "      <td>0</td>\n",
              "      <td>0</td>\n",
              "      <td>0</td>\n",
              "      <td>0</td>\n",
              "      <td>0</td>\n",
              "      <td>No</td>\n",
              "    </tr>\n",
              "  </tbody>\n",
              "</table>\n",
              "</div>"
            ],
            "text/plain": [
              "      Gender ScheduledDay AppointmentDay  ...  Handicap SMSReceived NoShow\n",
              "4515       F   2016-05-25     2016-05-31  ...         0           1     No\n",
              "59689      M   2016-05-24     2016-05-24  ...         0           0     No\n",
              "50073      F   2016-05-02     2016-05-02  ...         0           0     No\n",
              "53808      M   2016-03-30     2016-05-02  ...         0           1     No\n",
              "52196      F   2016-05-18     2016-05-18  ...         0           0     No\n",
              "\n",
              "[5 rows x 12 columns]"
            ]
          },
          "metadata": {
            "tags": []
          },
          "execution_count": 14
        }
      ]
    },
    {
      "cell_type": "markdown",
      "metadata": {
        "id": "2GnzzYTOYi6g"
      },
      "source": [
        "데이터 에러 검사 및 수정"
      ]
    },
    {
      "cell_type": "code",
      "metadata": {
        "colab": {
          "base_uri": "https://localhost:8080/"
        },
        "id": "Sw8oVgzLe4gq",
        "outputId": "c3ac1a82-e90b-46de-a808-53f25bf6fec7"
      },
      "source": [
        "np.sort(NSdf.Age.unique())"
      ],
      "execution_count": 15,
      "outputs": [
        {
          "output_type": "execute_result",
          "data": {
            "text/plain": [
              "array([ -1,   0,   1,   2,   3,   4,   5,   6,   7,   8,   9,  10,  11,\n",
              "        12,  13,  14,  15,  16,  17,  18,  19,  20,  21,  22,  23,  24,\n",
              "        25,  26,  27,  28,  29,  30,  31,  32,  33,  34,  35,  36,  37,\n",
              "        38,  39,  40,  41,  42,  43,  44,  45,  46,  47,  48,  49,  50,\n",
              "        51,  52,  53,  54,  55,  56,  57,  58,  59,  60,  61,  62,  63,\n",
              "        64,  65,  66,  67,  68,  69,  70,  71,  72,  73,  74,  75,  76,\n",
              "        77,  78,  79,  80,  81,  82,  83,  84,  85,  86,  87,  88,  89,\n",
              "        90,  91,  92,  93,  94,  95,  96,  97,  98,  99, 100, 102, 115])"
            ]
          },
          "metadata": {
            "tags": []
          },
          "execution_count": 15
        }
      ]
    },
    {
      "cell_type": "code",
      "metadata": {
        "colab": {
          "base_uri": "https://localhost:8080/"
        },
        "id": "Kc-K7Di2fBTj",
        "outputId": "d87991c2-c421-487b-8182-891878661322"
      },
      "source": [
        "#0살 -1살이 있다. 몇개나 있는지 알아보자.\n",
        "print(NSdf[NSdf.Age == -1].shape[0])\n",
        "print(NSdf[NSdf.Age == 0].shape[0])"
      ],
      "execution_count": 16,
      "outputs": [
        {
          "output_type": "stream",
          "text": [
            "1\n",
            "3539\n"
          ],
          "name": "stdout"
        }
      ]
    },
    {
      "cell_type": "code",
      "metadata": {
        "id": "40i57lmqfdok"
      },
      "source": [
        "#-1살은 1명 나왔다. 오타인 듯 하다. 삭제\n",
        "NSdf = NSdf[NSdf.Age >= 0]"
      ],
      "execution_count": 17,
      "outputs": []
    },
    {
      "cell_type": "markdown",
      "metadata": {
        "id": "Uu85K8-fY8HA"
      },
      "source": [
        "예약날짜 데이터 탐색"
      ]
    },
    {
      "cell_type": "code",
      "metadata": {
        "colab": {
          "base_uri": "https://localhost:8080/"
        },
        "id": "LkhAzEo9hXmb",
        "outputId": "9d606c7d-92b0-4093-f33f-14275ad35e28"
      },
      "source": [
        "np.sort(NSdf.ScheduledDay.dt.strftime('%Y-%m-%d').unique())"
      ],
      "execution_count": 18,
      "outputs": [
        {
          "output_type": "execute_result",
          "data": {
            "text/plain": [
              "array(['2015-11-10', '2015-12-03', '2015-12-07', '2015-12-08',\n",
              "       '2015-12-14', '2015-12-15', '2016-01-04', '2016-01-05',\n",
              "       '2016-01-07', '2016-01-11', '2016-01-13', '2016-01-14',\n",
              "       '2016-01-19', '2016-01-20', '2016-01-21', '2016-01-22',\n",
              "       '2016-01-25', '2016-01-26', '2016-01-27', '2016-01-28',\n",
              "       '2016-01-29', '2016-02-01', '2016-02-02', '2016-02-03',\n",
              "       '2016-02-04', '2016-02-05', '2016-02-11', '2016-02-12',\n",
              "       '2016-02-15', '2016-02-16', '2016-02-17', '2016-02-18',\n",
              "       '2016-02-19', '2016-02-22', '2016-02-23', '2016-02-24',\n",
              "       '2016-02-25', '2016-02-26', '2016-02-29', '2016-03-01',\n",
              "       '2016-03-02', '2016-03-03', '2016-03-04', '2016-03-05',\n",
              "       '2016-03-07', '2016-03-08', '2016-03-09', '2016-03-10',\n",
              "       '2016-03-11', '2016-03-14', '2016-03-15', '2016-03-16',\n",
              "       '2016-03-17', '2016-03-18', '2016-03-19', '2016-03-21',\n",
              "       '2016-03-22', '2016-03-23', '2016-03-28', '2016-03-29',\n",
              "       '2016-03-30', '2016-03-31', '2016-04-01', '2016-04-05',\n",
              "       '2016-04-06', '2016-04-07', '2016-04-08', '2016-04-09',\n",
              "       '2016-04-11', '2016-04-12', '2016-04-13', '2016-04-14',\n",
              "       '2016-04-15', '2016-04-16', '2016-04-18', '2016-04-19',\n",
              "       '2016-04-20', '2016-04-25', '2016-04-26', '2016-04-27',\n",
              "       '2016-04-28', '2016-04-29', '2016-04-30', '2016-05-02',\n",
              "       '2016-05-03', '2016-05-04', '2016-05-05', '2016-05-06',\n",
              "       '2016-05-07', '2016-05-09', '2016-05-10', '2016-05-11',\n",
              "       '2016-05-12', '2016-05-13', '2016-05-14', '2016-05-16',\n",
              "       '2016-05-17', '2016-05-18', '2016-05-19', '2016-05-20',\n",
              "       '2016-05-24', '2016-05-25', '2016-05-30', '2016-05-31',\n",
              "       '2016-06-01', '2016-06-02', '2016-06-03', '2016-06-04',\n",
              "       '2016-06-06', '2016-06-07', '2016-06-08'], dtype=object)"
            ]
          },
          "metadata": {
            "tags": []
          },
          "execution_count": 18
        }
      ]
    },
    {
      "cell_type": "code",
      "metadata": {
        "id": "D_HaXjJahxf1"
      },
      "source": [
        "#예약날짜를 확인하니 대략 7개월 정도의 간격이 있다."
      ],
      "execution_count": 19,
      "outputs": []
    },
    {
      "cell_type": "markdown",
      "metadata": {
        "id": "KJTVID3tZeBU"
      },
      "source": [
        "진료날짜 데이터 탐색"
      ]
    },
    {
      "cell_type": "code",
      "metadata": {
        "colab": {
          "base_uri": "https://localhost:8080/"
        },
        "id": "YTOM88DJiwMT",
        "outputId": "88c94603-8165-4873-93db-7c49533cfe4e"
      },
      "source": [
        "np.sort(NSdf.AppointmentDay.dt.strftime('%Y-%m-%d').unique())"
      ],
      "execution_count": 20,
      "outputs": [
        {
          "output_type": "execute_result",
          "data": {
            "text/plain": [
              "array(['2016-04-29', '2016-05-02', '2016-05-03', '2016-05-04',\n",
              "       '2016-05-05', '2016-05-06', '2016-05-09', '2016-05-10',\n",
              "       '2016-05-11', '2016-05-12', '2016-05-13', '2016-05-14',\n",
              "       '2016-05-16', '2016-05-17', '2016-05-18', '2016-05-19',\n",
              "       '2016-05-20', '2016-05-24', '2016-05-25', '2016-05-30',\n",
              "       '2016-05-31', '2016-06-01', '2016-06-02', '2016-06-03',\n",
              "       '2016-06-06', '2016-06-07', '2016-06-08'], dtype=object)"
            ]
          },
          "metadata": {
            "tags": []
          },
          "execution_count": 20
        }
      ]
    },
    {
      "cell_type": "code",
      "metadata": {
        "id": "CYsbfmACi-0h"
      },
      "source": [
        "#진료약속날짜를 확인하니 대략 1달 정도 간격이 있다."
      ],
      "execution_count": 21,
      "outputs": []
    },
    {
      "cell_type": "markdown",
      "metadata": {
        "id": "HMQTBtftZgg2"
      },
      "source": [
        "지역 데이터 탐색"
      ]
    },
    {
      "cell_type": "code",
      "metadata": {
        "colab": {
          "base_uri": "https://localhost:8080/"
        },
        "id": "9tmpHDM4jNlj",
        "outputId": "9e6e2a29-ebc0-418e-ac91-5434aad0d90c"
      },
      "source": [
        "# 지역을 살펴보자.\n",
        "np.sort(NSdf.Neighbourhood.unique())\n",
        "NSdf.Neighbourhood.unique().size"
      ],
      "execution_count": 22,
      "outputs": [
        {
          "output_type": "execute_result",
          "data": {
            "text/plain": [
              "81"
            ]
          },
          "metadata": {
            "tags": []
          },
          "execution_count": 22
        }
      ]
    },
    {
      "cell_type": "markdown",
      "metadata": {
        "id": "mbOl6UarZiPp"
      },
      "source": [
        "예약 요일, 진료 요일 데이터 생성"
      ]
    },
    {
      "cell_type": "code",
      "metadata": {
        "id": "U4wG34dijVMM"
      },
      "source": [
        "# 요일과 상관관계가 있을지도 모른다. 요일로 데이터 만들자.\n",
        "NSdf['ScheduledDay_DOW'] = NSdf['ScheduledDay'].dt.day_name()\n",
        "NSdf['AppointmentDay_DOW'] = NSdf['AppointmentDay'].dt.day_name()"
      ],
      "execution_count": 23,
      "outputs": []
    },
    {
      "cell_type": "markdown",
      "metadata": {
        "id": "2XR8oXX2Z1u5"
      },
      "source": [
        "예약, 진료 날짜에 대한 에러 보정"
      ]
    },
    {
      "cell_type": "code",
      "metadata": {
        "id": "5pGiuw_Jj8bG"
      },
      "source": [
        "#진료약속날짜는 예약일의 이후의 날짜여야 한다.\n",
        "#만약 예약날짜가 진료약속날짜보다 이후이면 에러로 간주하고 진료약속날짜를 예약날짜로 바꾼다.\n",
        "NSdf['AppointmentDay'] = np.where((NSdf['AppointmentDay'] - NSdf['ScheduledDay']).dt.days < 0, NSdf['ScheduledDay'], NSdf['AppointmentDay'])"
      ],
      "execution_count": 24,
      "outputs": []
    },
    {
      "cell_type": "markdown",
      "metadata": {
        "id": "7tYHa-8MZ5uT"
      },
      "source": [
        "대기 기간 데이터 생성"
      ]
    },
    {
      "cell_type": "code",
      "metadata": {
        "id": "ulsZHl4WloDN"
      },
      "source": [
        "#환자가 기다리는 기다리는 날들도 영향을 미칠 수 있으니 데이터로 생성한다.\n",
        "NSdf['Waiting_Time_days'] = NSdf['AppointmentDay'] - NSdf['ScheduledDay']\n",
        "NSdf['Waiting_Time_days'] = NSdf['Waiting_Time_days'].dt.days"
      ],
      "execution_count": 25,
      "outputs": []
    },
    {
      "cell_type": "markdown",
      "metadata": {
        "id": "WTy_0BTAZ_vv"
      },
      "source": [
        "## 03_Data Analysis"
      ]
    },
    {
      "cell_type": "code",
      "metadata": {
        "colab": {
          "base_uri": "https://localhost:8080/",
          "height": 828
        },
        "id": "Pi3v3RRj1vx7",
        "outputId": "80f4674d-1a25-4f2f-8de8-ea95ec222389"
      },
      "source": [
        "NSdf.info()\n",
        "NSdf.sample(n=10)"
      ],
      "execution_count": 26,
      "outputs": [
        {
          "output_type": "stream",
          "text": [
            "<class 'pandas.core.frame.DataFrame'>\n",
            "Int64Index: 110526 entries, 0 to 110526\n",
            "Data columns (total 15 columns):\n",
            " #   Column              Non-Null Count   Dtype         \n",
            "---  ------              --------------   -----         \n",
            " 0   Gender              110526 non-null  object        \n",
            " 1   ScheduledDay        110526 non-null  datetime64[ns]\n",
            " 2   AppointmentDay      110526 non-null  datetime64[ns]\n",
            " 3   Age                 110526 non-null  int64         \n",
            " 4   Neighbourhood       110526 non-null  object        \n",
            " 5   Scholarship         110526 non-null  object        \n",
            " 6   Hypertension        110526 non-null  object        \n",
            " 7   Diabetes            110526 non-null  object        \n",
            " 8   Alcoholism          110526 non-null  object        \n",
            " 9   Handicap            110526 non-null  object        \n",
            " 10  SMSReceived         110526 non-null  object        \n",
            " 11  NoShow              110526 non-null  object        \n",
            " 12  ScheduledDay_DOW    110526 non-null  object        \n",
            " 13  AppointmentDay_DOW  110526 non-null  object        \n",
            " 14  Waiting_Time_days   110526 non-null  int64         \n",
            "dtypes: datetime64[ns](2), int64(2), object(11)\n",
            "memory usage: 13.5+ MB\n"
          ],
          "name": "stdout"
        },
        {
          "output_type": "execute_result",
          "data": {
            "text/html": [
              "<div>\n",
              "<style scoped>\n",
              "    .dataframe tbody tr th:only-of-type {\n",
              "        vertical-align: middle;\n",
              "    }\n",
              "\n",
              "    .dataframe tbody tr th {\n",
              "        vertical-align: top;\n",
              "    }\n",
              "\n",
              "    .dataframe thead th {\n",
              "        text-align: right;\n",
              "    }\n",
              "</style>\n",
              "<table border=\"1\" class=\"dataframe\">\n",
              "  <thead>\n",
              "    <tr style=\"text-align: right;\">\n",
              "      <th></th>\n",
              "      <th>Gender</th>\n",
              "      <th>ScheduledDay</th>\n",
              "      <th>AppointmentDay</th>\n",
              "      <th>Age</th>\n",
              "      <th>Neighbourhood</th>\n",
              "      <th>Scholarship</th>\n",
              "      <th>Hypertension</th>\n",
              "      <th>Diabetes</th>\n",
              "      <th>Alcoholism</th>\n",
              "      <th>Handicap</th>\n",
              "      <th>SMSReceived</th>\n",
              "      <th>NoShow</th>\n",
              "      <th>ScheduledDay_DOW</th>\n",
              "      <th>AppointmentDay_DOW</th>\n",
              "      <th>Waiting_Time_days</th>\n",
              "    </tr>\n",
              "  </thead>\n",
              "  <tbody>\n",
              "    <tr>\n",
              "      <th>27370</th>\n",
              "      <td>F</td>\n",
              "      <td>2016-05-05</td>\n",
              "      <td>2016-05-13</td>\n",
              "      <td>37</td>\n",
              "      <td>CONQUISTA</td>\n",
              "      <td>0</td>\n",
              "      <td>0</td>\n",
              "      <td>0</td>\n",
              "      <td>0</td>\n",
              "      <td>0</td>\n",
              "      <td>0</td>\n",
              "      <td>No</td>\n",
              "      <td>Thursday</td>\n",
              "      <td>Friday</td>\n",
              "      <td>8</td>\n",
              "    </tr>\n",
              "    <tr>\n",
              "      <th>72916</th>\n",
              "      <td>F</td>\n",
              "      <td>2016-05-19</td>\n",
              "      <td>2016-05-19</td>\n",
              "      <td>29</td>\n",
              "      <td>SANTA MARTHA</td>\n",
              "      <td>1</td>\n",
              "      <td>1</td>\n",
              "      <td>0</td>\n",
              "      <td>0</td>\n",
              "      <td>0</td>\n",
              "      <td>0</td>\n",
              "      <td>No</td>\n",
              "      <td>Thursday</td>\n",
              "      <td>Thursday</td>\n",
              "      <td>0</td>\n",
              "    </tr>\n",
              "    <tr>\n",
              "      <th>62987</th>\n",
              "      <td>F</td>\n",
              "      <td>2016-03-01</td>\n",
              "      <td>2016-05-06</td>\n",
              "      <td>44</td>\n",
              "      <td>JARDIM CAMBURI</td>\n",
              "      <td>0</td>\n",
              "      <td>0</td>\n",
              "      <td>0</td>\n",
              "      <td>0</td>\n",
              "      <td>0</td>\n",
              "      <td>1</td>\n",
              "      <td>No</td>\n",
              "      <td>Tuesday</td>\n",
              "      <td>Friday</td>\n",
              "      <td>66</td>\n",
              "    </tr>\n",
              "    <tr>\n",
              "      <th>24876</th>\n",
              "      <td>F</td>\n",
              "      <td>2016-05-30</td>\n",
              "      <td>2016-05-30</td>\n",
              "      <td>15</td>\n",
              "      <td>MARIA ORTIZ</td>\n",
              "      <td>0</td>\n",
              "      <td>0</td>\n",
              "      <td>0</td>\n",
              "      <td>0</td>\n",
              "      <td>0</td>\n",
              "      <td>0</td>\n",
              "      <td>No</td>\n",
              "      <td>Monday</td>\n",
              "      <td>Monday</td>\n",
              "      <td>0</td>\n",
              "    </tr>\n",
              "    <tr>\n",
              "      <th>11568</th>\n",
              "      <td>F</td>\n",
              "      <td>2016-05-06</td>\n",
              "      <td>2016-05-06</td>\n",
              "      <td>71</td>\n",
              "      <td>JUCUTUQUARA</td>\n",
              "      <td>0</td>\n",
              "      <td>0</td>\n",
              "      <td>0</td>\n",
              "      <td>0</td>\n",
              "      <td>0</td>\n",
              "      <td>0</td>\n",
              "      <td>No</td>\n",
              "      <td>Friday</td>\n",
              "      <td>Friday</td>\n",
              "      <td>0</td>\n",
              "    </tr>\n",
              "    <tr>\n",
              "      <th>22124</th>\n",
              "      <td>F</td>\n",
              "      <td>2016-04-27</td>\n",
              "      <td>2016-05-02</td>\n",
              "      <td>36</td>\n",
              "      <td>GURIGICA</td>\n",
              "      <td>1</td>\n",
              "      <td>0</td>\n",
              "      <td>0</td>\n",
              "      <td>0</td>\n",
              "      <td>0</td>\n",
              "      <td>1</td>\n",
              "      <td>Yes</td>\n",
              "      <td>Wednesday</td>\n",
              "      <td>Monday</td>\n",
              "      <td>5</td>\n",
              "    </tr>\n",
              "    <tr>\n",
              "      <th>80663</th>\n",
              "      <td>F</td>\n",
              "      <td>2016-04-27</td>\n",
              "      <td>2016-05-05</td>\n",
              "      <td>60</td>\n",
              "      <td>ITARARÉ</td>\n",
              "      <td>0</td>\n",
              "      <td>1</td>\n",
              "      <td>0</td>\n",
              "      <td>0</td>\n",
              "      <td>0</td>\n",
              "      <td>1</td>\n",
              "      <td>No</td>\n",
              "      <td>Wednesday</td>\n",
              "      <td>Thursday</td>\n",
              "      <td>8</td>\n",
              "    </tr>\n",
              "    <tr>\n",
              "      <th>2298</th>\n",
              "      <td>F</td>\n",
              "      <td>2016-04-27</td>\n",
              "      <td>2016-04-29</td>\n",
              "      <td>74</td>\n",
              "      <td>JARDIM DA PENHA</td>\n",
              "      <td>0</td>\n",
              "      <td>1</td>\n",
              "      <td>1</td>\n",
              "      <td>0</td>\n",
              "      <td>0</td>\n",
              "      <td>0</td>\n",
              "      <td>No</td>\n",
              "      <td>Wednesday</td>\n",
              "      <td>Friday</td>\n",
              "      <td>2</td>\n",
              "    </tr>\n",
              "    <tr>\n",
              "      <th>80857</th>\n",
              "      <td>M</td>\n",
              "      <td>2016-05-10</td>\n",
              "      <td>2016-05-13</td>\n",
              "      <td>77</td>\n",
              "      <td>DA PENHA</td>\n",
              "      <td>0</td>\n",
              "      <td>1</td>\n",
              "      <td>1</td>\n",
              "      <td>0</td>\n",
              "      <td>0</td>\n",
              "      <td>0</td>\n",
              "      <td>No</td>\n",
              "      <td>Tuesday</td>\n",
              "      <td>Friday</td>\n",
              "      <td>3</td>\n",
              "    </tr>\n",
              "    <tr>\n",
              "      <th>34458</th>\n",
              "      <td>M</td>\n",
              "      <td>2016-04-25</td>\n",
              "      <td>2016-05-30</td>\n",
              "      <td>90</td>\n",
              "      <td>TABUAZEIRO</td>\n",
              "      <td>0</td>\n",
              "      <td>1</td>\n",
              "      <td>0</td>\n",
              "      <td>0</td>\n",
              "      <td>0</td>\n",
              "      <td>1</td>\n",
              "      <td>Yes</td>\n",
              "      <td>Monday</td>\n",
              "      <td>Monday</td>\n",
              "      <td>35</td>\n",
              "    </tr>\n",
              "  </tbody>\n",
              "</table>\n",
              "</div>"
            ],
            "text/plain": [
              "      Gender ScheduledDay  ... AppointmentDay_DOW  Waiting_Time_days\n",
              "27370      F   2016-05-05  ...             Friday                  8\n",
              "72916      F   2016-05-19  ...           Thursday                  0\n",
              "62987      F   2016-03-01  ...             Friday                 66\n",
              "24876      F   2016-05-30  ...             Monday                  0\n",
              "11568      F   2016-05-06  ...             Friday                  0\n",
              "22124      F   2016-04-27  ...             Monday                  5\n",
              "80663      F   2016-04-27  ...           Thursday                  8\n",
              "2298       F   2016-04-27  ...             Friday                  2\n",
              "80857      M   2016-05-10  ...             Friday                  3\n",
              "34458      M   2016-04-25  ...             Monday                 35\n",
              "\n",
              "[10 rows x 15 columns]"
            ]
          },
          "metadata": {
            "tags": []
          },
          "execution_count": 26
        }
      ]
    },
    {
      "cell_type": "code",
      "metadata": {
        "colab": {
          "base_uri": "https://localhost:8080/"
        },
        "id": "2TIFDEdM2iuE",
        "outputId": "04d0a2de-4d7d-42a8-c8fd-4f755a2890bf"
      },
      "source": [
        "#no Show를 세어보자.\n",
        "print(\"NoShow and Show Count of Patients\\n\")\n",
        "print(NSdf.groupby(['NoShow']).size())"
      ],
      "execution_count": 27,
      "outputs": [
        {
          "output_type": "stream",
          "text": [
            "NoShow and Show Count of Patients\n",
            "\n",
            "NoShow\n",
            "No     88207\n",
            "Yes    22319\n",
            "dtype: int64\n"
          ],
          "name": "stdout"
        }
      ]
    },
    {
      "cell_type": "code",
      "metadata": {
        "colab": {
          "base_uri": "https://localhost:8080/"
        },
        "id": "_r5ijxL725eg",
        "outputId": "25b1ecfd-54b6-4a5c-c662-64a6ac89466d"
      },
      "source": [
        "#no Show를 확률로 보자.\n",
        "show = NSdf.groupby(['NoShow']).size()[0]/(NSdf.groupby(['NoShow']).size()[0]+NSdf.groupby(['NoShow']).size()[1])\n",
        "print(\"Percent of Patients who `Showed Up` => {:.2f}%\".format(show*100))\n",
        "noshow = NSdf.groupby(['NoShow']).size()[1]/(NSdf.groupby(['NoShow']).size()[0]+NSdf.groupby(['NoShow']).size()[1])\n",
        "print(\"Percent of Patients who Did `Not Showed Up` => {:.2f}%\".format(noshow*100))"
      ],
      "execution_count": 28,
      "outputs": [
        {
          "output_type": "stream",
          "text": [
            "Percent of Patients who `Showed Up` => 79.81%\n",
            "Percent of Patients who Did `Not Showed Up` => 20.19%\n"
          ],
          "name": "stdout"
        }
      ]
    },
    {
      "cell_type": "code",
      "metadata": {
        "colab": {
          "base_uri": "https://localhost:8080/",
          "height": 295
        },
        "id": "A_yjoDbZ3ZSq",
        "outputId": "9d08abd2-b32a-4334-e419-f02d41b9f540"
      },
      "source": [
        "ax = sns.countplot(x=NSdf.NoShow, data=NSdf)\n",
        "ax.set_title(\"Show/NoShow Patients\")\n",
        "plt.show()"
      ],
      "execution_count": 29,
      "outputs": [
        {
          "output_type": "display_data",
          "data": {
            "image/png": "[encoded data removed]",
            "text/plain": [
              "<Figure size 432x288 with 1 Axes>"
            ]
          },
          "metadata": {
            "tags": [],
            "needs_background": "light"
          }
        }
      ]
    },
    {
      "cell_type": "markdown",
      "metadata": {
        "id": "AKu5MxBzaRIy"
      },
      "source": [
        "예약을 지킨 경우는 79.81%, 지키지 않은 경우는 20.19%이다."
      ]
    },
    {
      "cell_type": "code",
      "metadata": {
        "colab": {
          "base_uri": "https://localhost:8080/",
          "height": 573
        },
        "id": "Sl-E98233s3j",
        "outputId": "34f089f4-582c-4ceb-9358-398a95c4b92a"
      },
      "source": [
        "#노쇼를 성별로 보자\n",
        "ax = sns.countplot(x=NSdf.Gender, hue=NSdf.NoShow, data=NSdf)\n",
        "ax.set_title(\"Show/NoShow for Females and Males\")\n",
        "x_ticks_labels=['Female', 'Male']\n",
        "ax.set_xticklabels(x_ticks_labels)\n",
        "plt.show()\n",
        "ax = sns.countplot(x=NSdf.Gender, hue=NSdf.NoShow, data=NSdf)\n",
        "ax.set_title(\"Show/NoShow for Females and Males\")\n",
        "x_ticks_labels=['Female', 'Male']\n",
        "ax.set_xticklabels(x_ticks_labels)\n",
        "plt.show()"
      ],
      "execution_count": 30,
      "outputs": [
        {
          "output_type": "display_data",
          "data": {
            "image/png": "[encoded data removed]",
            "text/plain": [
              "<Figure size 432x288 with 1 Axes>"
            ]
          },
          "metadata": {
            "tags": [],
            "needs_background": "light"
          }
        },
        {
          "output_type": "display_data",
          "data": {
            "image/png": "[encoded data removed]",
            "text/plain": [
              "<Figure size 432x288 with 1 Axes>"
            ]
          },
          "metadata": {
            "tags": [],
            "needs_background": "light"
          }
        }
      ]
    },
    {
      "cell_type": "markdown",
      "metadata": {
        "id": "wJePq2wHap9j"
      },
      "source": [
        "여성이 병원 예약을 더욱 많이 하지만 Noshow의 확률은 성별과 별로 상관이 없어 보인다."
      ]
    },
    {
      "cell_type": "code",
      "metadata": {
        "colab": {
          "base_uri": "https://localhost:8080/",
          "height": 291
        },
        "id": "Da_p8YekekxH",
        "outputId": "996e1198-7a62-4d21-a127-927653ac94da"
      },
      "source": [
        "# 나이에 따른 확률적인 분포 확인하기\n",
        "plt.figure(figsize=(16,4))\n",
        "plt.xticks(rotation=90)\n",
        "ax = sns.countplot(x=NSdf.Age, hue=NSdf.NoShow)\n",
        "ax.set_title(\"NoShow of Appointments by Age\")\n",
        "plt.show()"
      ],
      "execution_count": 31,
      "outputs": [
        {
          "output_type": "display_data",
          "data": {
            "image/png": "[encoded data removed]",
            "text/plain": [
              "<Figure size 1152x288 with 1 Axes>"
            ]
          },
          "metadata": {
            "tags": [],
            "needs_background": "light"
          }
        }
      ]
    },
    {
      "cell_type": "code",
      "metadata": {
        "colab": {
          "base_uri": "https://localhost:8080/",
          "height": 298
        },
        "id": "FojdkzHbkQsV",
        "outputId": "a667eae2-1ac7-4684-dcda-376239c17c17"
      },
      "source": [
        "#연령별 no show 확률 그래프\n",
        "NSdf_age_ratio = NSdf[NSdf.NoShow == 'No'].groupby(['Age']).size()/NSdf.groupby(['Age']).size()\n",
        "plt.figure(figsize=(16,4))\n",
        "plt.xticks(rotation=90)\n",
        "ax = sns.barplot(x=NSdf_age_ratio.index, y=NSdf_age_ratio)\n",
        "ax.set_title(\"Percentage of Patients that Showed Up by Age\")\n",
        "plt.show()"
      ],
      "execution_count": 32,
      "outputs": [
        {
          "output_type": "display_data",
          "data": {
            "image/png": "[encoded data removed]",
            "text/plain": [
              "<Figure size 1152x288 with 1 Axes>"
            ]
          },
          "metadata": {
            "tags": [],
            "needs_background": "light"
          }
        }
      ]
    },
    {
      "cell_type": "code",
      "metadata": {
        "colab": {
          "base_uri": "https://localhost:8080/",
          "height": 281
        },
        "id": "I_ipyRpblR8K",
        "outputId": "c6ba0bef-d747-4266-e38a-0d6fefc97f79"
      },
      "source": [
        "#plt.figure(figsize=(10,4))\n",
        "#plt.xticks(rotation=90)\n",
        "ax = plt.hist(NSdf_age_ratio)\n",
        "plt.title(\"Distribution of Percentage Show Up by Age\")\n",
        "plt.show()"
      ],
      "execution_count": 33,
      "outputs": [
        {
          "output_type": "display_data",
          "data": {
            "image/png": "[encoded data removed]",
            "text/plain": [
              "<Figure size 432x288 with 1 Axes>"
            ]
          },
          "metadata": {
            "tags": [],
            "needs_background": "light"
          }
        }
      ]
    },
    {
      "cell_type": "markdown",
      "metadata": {
        "id": "eYQxmkGT1NbN"
      },
      "source": [
        "나이에 상관없이 꾸준히 80% 정도의 예약을 지키고 있다. 나이가 100살 가까이 가면 Noshow는 거의 없으나 115살은 예외인 것을 보니 병원을 오다가 사고가 난 듯 싶다."
      ]
    },
    {
      "cell_type": "code",
      "metadata": {
        "colab": {
          "base_uri": "https://localhost:8080/",
          "height": 416
        },
        "id": "4PMQuUdV0QKh",
        "outputId": "b0c373a7-60cb-48f2-81ea-e82c87b02d12"
      },
      "source": [
        "#지역에 대한 NSdf 그래프지역에 대한 NSdf 그래프\n",
        "plt.figure(figsize=(16,4))\n",
        "plt.xticks(rotation=90)\n",
        "ax = sns.countplot(x=np.sort(NSdf.Neighbourhood))\n",
        "ax.set_title(\"No of Appointments by Neighbourhood\")\n",
        "plt.show()"
      ],
      "execution_count": 34,
      "outputs": [
        {
          "output_type": "display_data",
          "data": {
            "image/png": "[encoded data removed]",
            "text/plain": [
              "<Figure size 1152x288 with 1 Axes>"
            ]
          },
          "metadata": {
            "tags": [],
            "needs_background": "light"
          }
        }
      ]
    },
    {
      "cell_type": "code",
      "metadata": {
        "colab": {
          "base_uri": "https://localhost:8080/",
          "height": 429
        },
        "id": "6biPqo1B1lhs",
        "outputId": "67f53bc5-bf1b-4b8b-d01b-acfd8f5ea589"
      },
      "source": [
        "plt.figure(figsize=(16,4))\n",
        "plt.xticks(rotation=90)\n",
        "ax = sns.countplot(x=NSdf.Neighbourhood, hue=NSdf.NoShow, order=NSdf.Neighbourhood.value_counts().index)\n",
        "ax.set_title(\"Show/NoShow by Neighbourhood\")\n",
        "plt.show()"
      ],
      "execution_count": 35,
      "outputs": [
        {
          "output_type": "display_data",
          "data": {
            "image/png": "[encoded data removed]",
            "text/plain": [
              "<Figure size 1152x288 with 1 Axes>"
            ]
          },
          "metadata": {
            "tags": [],
            "needs_background": "light"
          }
        }
      ]
    },
    {
      "cell_type": "code",
      "metadata": {
        "colab": {
          "base_uri": "https://localhost:8080/",
          "height": 439
        },
        "id": "pyultwPr2LDq",
        "outputId": "30f81e0b-7cd0-41e1-f255-e99613105fb5"
      },
      "source": [
        "#지역에서 노쇼 비율\n",
        "NSdf_n_ratio = NSdf[NSdf.NoShow == 'No'].groupby(['Neighbourhood']).size()/NSdf.groupby(['Neighbourhood']).size()\n",
        "plt.figure(figsize=(16,4))\n",
        "plt.xticks(rotation=90)\n",
        "ax = sns.barplot(x=NSdf_n_ratio.index, y=NSdf_n_ratio)\n",
        "ax.set_title(\"Percetage Show Up of Patients by Neighbourhood\")\n",
        "plt.show()"
      ],
      "execution_count": 36,
      "outputs": [
        {
          "output_type": "display_data",
          "data": {
            "image/png": "[encoded data removed]",
            "text/plain": [
              "<Figure size 1152x288 with 1 Axes>"
            ]
          },
          "metadata": {
            "tags": [],
            "needs_background": "light"
          }
        }
      ]
    },
    {
      "cell_type": "markdown",
      "metadata": {
        "id": "7iUU6_j4bU7V"
      },
      "source": [
        "지역에 상관없이 80%의 환자가 예약을 이행하고 있다."
      ]
    },
    {
      "cell_type": "code",
      "metadata": {
        "colab": {
          "base_uri": "https://localhost:8080/",
          "height": 573
        },
        "id": "iJCuHVa4-THB",
        "outputId": "7f2600bf-1958-4579-f20e-f7ff6a73b0d9"
      },
      "source": [
        "ax = sns.countplot(x=NSdf.Scholarship, hue=NSdf.NoShow, data=NSdf)\n",
        "ax.set_title(\"Show/NoShow for Scholarship\")\n",
        "x_ticks_labels=['No Scholarship', 'Scholarship']\n",
        "ax.set_xticklabels(x_ticks_labels)\n",
        "plt.show()\n",
        "NSdf_s_ratio = NSdf[NSdf.NoShow == 'No'].groupby(['Scholarship']).size()/NSdf.groupby(['Scholarship']).size()\n",
        "ax = sns.barplot(x=NSdf_s_ratio.index, y=NSdf_s_ratio)\n",
        "ax.set_title(\"Show Percentage for Scholarship\")\n",
        "x_ticks_labels=['No Scholarship', 'Scholarship']\n",
        "ax.set_xticklabels(x_ticks_labels)\n",
        "plt.show()"
      ],
      "execution_count": 37,
      "outputs": [
        {
          "output_type": "display_data",
          "data": {
            "image/png": "[encoded data removed]",
            "text/plain": [
              "<Figure size 432x288 with 1 Axes>"
            ]
          },
          "metadata": {
            "tags": [],
            "needs_background": "light"
          }
        },
        {
          "output_type": "display_data",
          "data": {
            "image/png": "[encoded data removed]",
            "text/plain": [
              "<Figure size 432x288 with 1 Axes>"
            ]
          },
          "metadata": {
            "tags": [],
            "needs_background": "light"
          }
        }
      ]
    },
    {
      "cell_type": "markdown",
      "metadata": {
        "id": "fg2l4u_XcUf_"
      },
      "source": [
        "장학금을 받은 적이 없으면 80%, 장학금을 받은 적이 있으면 75% 정도로 예약을 이행하고 있다. 브라질에서는 하위계층에게 장학금을 지급하므로 하위계층일수록 노쇼가 높다."
      ]
    },
    {
      "cell_type": "code",
      "metadata": {
        "colab": {
          "base_uri": "https://localhost:8080/",
          "height": 573
        },
        "id": "8YYzHkZ4C4tL",
        "outputId": "a8cbb2d1-856e-4b77-b559-a1f075dcdeea"
      },
      "source": [
        "ax = sns.countplot(x=NSdf.Hypertension, hue=NSdf.NoShow, data=NSdf)\n",
        "ax.set_title(\"Show/NoShow for Hypertension\")\n",
        "x_ticks_labels=['No Hypertension', 'Hypertension']\n",
        "ax.set_xticklabels(x_ticks_labels)\n",
        "plt.show()\n",
        "NSdf_h_ratio = NSdf[NSdf.NoShow == 'No'].groupby(['Hypertension']).size()/NSdf.groupby(['Hypertension']).size()\n",
        "ax = sns.barplot(x=NSdf_h_ratio.index, y=NSdf_h_ratio)\n",
        "ax.set_title(\"Show Percentage for Hypertension\")\n",
        "x_ticks_labels=['No Hypertension', 'Hypertension']\n",
        "ax.set_xticklabels(x_ticks_labels)\n",
        "plt.show()"
      ],
      "execution_count": 38,
      "outputs": [
        {
          "output_type": "display_data",
          "data": {
            "image/png": "[encoded data removed]",
            "text/plain": [
              "<Figure size 432x288 with 1 Axes>"
            ]
          },
          "metadata": {
            "tags": [],
            "needs_background": "light"
          }
        },
        {
          "output_type": "display_data",
          "data": {
            "image/png": "[encoded data removed]",
            "text/plain": [
              "<Figure size 432x288 with 1 Axes>"
            ]
          },
          "metadata": {
            "tags": [],
            "needs_background": "light"
          }
        }
      ]
    },
    {
      "cell_type": "markdown",
      "metadata": {
        "id": "DzxXxZ4ycffV"
      },
      "source": [
        "고혈압이 없으면 79%, 있으면 85% 예약을 이행하고 있다. 고혈압이 있는 환자가 노쇼가 더 적은데, 병원에 더 자주 왕래하기 때문이라고 예상된다."
      ]
    },
    {
      "cell_type": "code",
      "metadata": {
        "colab": {
          "base_uri": "https://localhost:8080/",
          "height": 573
        },
        "id": "z6FNQtX7ExDC",
        "outputId": "18e51e4f-22a1-4f24-c5aa-66c74b6a574d"
      },
      "source": [
        "ax = sns.countplot(x=NSdf.Diabetes, hue=NSdf.NoShow, data=NSdf)\n",
        "ax.set_title(\"Show/NoShow for Diabetes\")\n",
        "x_ticks_labels=['No Diabetes', 'Diabetes']\n",
        "ax.set_xticklabels(x_ticks_labels)\n",
        "plt.show()\n",
        "NSdf_d_ratio = NSdf[NSdf.NoShow == 'No'].groupby(['Diabetes']).size()/NSdf.groupby(['Diabetes']).size()\n",
        "ax = sns.barplot(x=NSdf_d_ratio.index, y=NSdf_d_ratio)\n",
        "ax.set_title(\"Show Percentage for Diabetes\")\n",
        "x_ticks_labels=['No Diabetes', 'Diabetes']\n",
        "ax.set_xticklabels(x_ticks_labels)\n",
        "plt.show()"
      ],
      "execution_count": 39,
      "outputs": [
        {
          "output_type": "display_data",
          "data": {
            "image/png": "[encoded data removed]",
            "text/plain": [
              "<Figure size 432x288 with 1 Axes>"
            ]
          },
          "metadata": {
            "tags": [],
            "needs_background": "light"
          }
        },
        {
          "output_type": "display_data",
          "data": {
            "image/png": "[encoded data removed]",
            "text/plain": [
              "<Figure size 432x288 with 1 Axes>"
            ]
          },
          "metadata": {
            "tags": [],
            "needs_background": "light"
          }
        }
      ]
    },
    {
      "cell_type": "markdown",
      "metadata": {
        "id": "-d6ru7Gkcx0z"
      },
      "source": [
        "당뇨가 없으면 80%, 있으면 83% 예약을 이행하고 있다. 고혈압과 마찬가지로 당뇨가 있는 사람이 노쇼가 적다.\n"
      ]
    },
    {
      "cell_type": "code",
      "metadata": {
        "colab": {
          "base_uri": "https://localhost:8080/",
          "height": 573
        },
        "id": "2nY8JZTUFPLN",
        "outputId": "1d379677-9a18-4e3d-e93d-d67e12bde3ab"
      },
      "source": [
        "ax = sns.countplot(x=NSdf.Alcoholism, hue=NSdf.NoShow, data=NSdf)\n",
        "ax.set_title(\"Show/NoShow for Alcoholism\")\n",
        "x_ticks_labels=['No Alcoholism', 'Alcoholism']\n",
        "ax.set_xticklabels(x_ticks_labels)\n",
        "plt.show()\n",
        "NSdf_a_ratio = NSdf[NSdf.NoShow == 'No'].groupby(['Alcoholism']).size()/NSdf.groupby(['Alcoholism']).size()\n",
        "ax = sns.barplot(x=NSdf_a_ratio.index, y=NSdf_a_ratio)\n",
        "ax.set_title(\"Show Percentage for Alcoholism\")\n",
        "x_ticks_labels=['No Alcoholism', 'Alcoholism']\n",
        "ax.set_xticklabels(x_ticks_labels)\n",
        "plt.show()"
      ],
      "execution_count": 40,
      "outputs": [
        {
          "output_type": "display_data",
          "data": {
            "image/png": "[encoded data removed]",
            "text/plain": [
              "<Figure size 432x288 with 1 Axes>"
            ]
          },
          "metadata": {
            "tags": [],
            "needs_background": "light"
          }
        },
        {
          "output_type": "display_data",
          "data": {
            "image/png": "[encoded data removed]",
            "text/plain": [
              "<Figure size 432x288 with 1 Axes>"
            ]
          },
          "metadata": {
            "tags": [],
            "needs_background": "light"
          }
        }
      ]
    },
    {
      "cell_type": "markdown",
      "metadata": {
        "id": "VAcr4I2Wc_2S"
      },
      "source": [
        "알콜중독이든 아니든 예약 이행률은 80%로 비슷하다. "
      ]
    },
    {
      "cell_type": "code",
      "metadata": {
        "colab": {
          "base_uri": "https://localhost:8080/",
          "height": 573
        },
        "id": "Yjtg_tW-F32f",
        "outputId": "10e0737a-5470-42c4-dff6-3bf6fb54d836"
      },
      "source": [
        "ax = sns.countplot(x=NSdf.Handicap, hue=NSdf.NoShow, data=NSdf)\n",
        "ax.set_title(\"Show/NoShow for Handicap\")\n",
        "plt.show()\n",
        "NSdf_ha_ratio = NSdf[NSdf.NoShow == 'No'].groupby(['Handicap']).size()/NSdf.groupby(['Handicap']).size()\n",
        "ax = sns.barplot(x=NSdf_ha_ratio.index, y=NSdf_ha_ratio)\n",
        "ax.set_title(\"Show Percentage for Handicap\")\n",
        "plt.show()"
      ],
      "execution_count": 41,
      "outputs": [
        {
          "output_type": "display_data",
          "data": {
            "image/png": "[encoded data removed]",
            "text/plain": [
              "<Figure size 432x288 with 1 Axes>"
            ]
          },
          "metadata": {
            "tags": [],
            "needs_background": "light"
          }
        },
        {
          "output_type": "display_data",
          "data": {
            "image/png": "[encoded data removed]",
            "text/plain": [
              "<Figure size 432x288 with 1 Axes>"
            ]
          },
          "metadata": {
            "tags": [],
            "needs_background": "light"
          }
        }
      ]
    },
    {
      "cell_type": "markdown",
      "metadata": {
        "id": "1gbB5q6VdJjB"
      },
      "source": [
        "장애 레벨에 따라서 노쇼의 비율이 달라지는 것을 볼 수 있다."
      ]
    },
    {
      "cell_type": "code",
      "metadata": {
        "colab": {
          "base_uri": "https://localhost:8080/",
          "height": 573
        },
        "id": "f6wMpP9UGIqI",
        "outputId": "711027d5-6738-47d4-d62c-fcf0ccc407b9"
      },
      "source": [
        "ax = sns.countplot(x=NSdf.SMSReceived, hue=NSdf.NoShow, data=NSdf)\n",
        "ax.set_title(\"Show/NoShow for SMSReceived\")\n",
        "x_ticks_labels=['No SMSReceived', 'SMSReceived']\n",
        "ax.set_xticklabels(x_ticks_labels)\n",
        "plt.show()\n",
        "NSdf_s_ratio = NSdf[NSdf.NoShow == 'No'].groupby(['SMSReceived']).size()/NSdf.groupby(['SMSReceived']).size()\n",
        "ax = sns.barplot(x=NSdf_s_ratio.index, y=NSdf_s_ratio)\n",
        "ax.set_title(\"Show Percentage for SMSReceived\")\n",
        "x_ticks_labels=['No SMSReceived', 'SMSReceived']\n",
        "ax.set_xticklabels(x_ticks_labels)\n",
        "plt.show()"
      ],
      "execution_count": 42,
      "outputs": [
        {
          "output_type": "display_data",
          "data": {
            "image/png": "[encoded data removed]",
            "text/plain": [
              "<Figure size 432x288 with 1 Axes>"
            ]
          },
          "metadata": {
            "tags": [],
            "needs_background": "light"
          }
        },
        {
          "output_type": "display_data",
          "data": {
            "image/png": "[encoded data removed]",
            "text/plain": [
              "<Figure size 432x288 with 1 Axes>"
            ]
          },
          "metadata": {
            "tags": [],
            "needs_background": "light"
          }
        }
      ]
    },
    {
      "cell_type": "markdown",
      "metadata": {
        "id": "j0kxOwkCdO6E"
      },
      "source": [
        "문자를 안받은 쪽이 84%, 받은 쪽이 72%로 예약을 이행하고 있다. 일반적으로 문자를 받으면 약속을 더 잘지킬 것 같지만 그와는 반대 결과이다. 예상컨데, 노쇼가 날 만한 상황이어서 문자를 보낸 것이 아닌가 싶다."
      ]
    },
    {
      "cell_type": "code",
      "metadata": {
        "colab": {
          "base_uri": "https://localhost:8080/",
          "height": 296
        },
        "id": "4ivwAIySGnAK",
        "outputId": "8faeb44f-363e-4152-8dea-de602cb11af3"
      },
      "source": [
        "plt.figure(figsize=(8,4))\n",
        "ax = sns.countplot(x=NSdf.ScheduledDay_DOW, order=week_key)\n",
        "ax.set_title(\"Appointment Count for Scheduled Day of Week\")\n",
        "plt.show()"
      ],
      "execution_count": 43,
      "outputs": [
        {
          "output_type": "display_data",
          "data": {
            "image/png": "[encoded data removed]",
            "text/plain": [
              "<Figure size 576x288 with 1 Axes>"
            ]
          },
          "metadata": {
            "tags": [],
            "needs_background": "light"
          }
        }
      ]
    },
    {
      "cell_type": "markdown",
      "metadata": {
        "id": "djHaIRXCdeTY"
      },
      "source": [
        "토요일 일요일은 예약건수가 없는 것을 보니 예약을 수행하는 직원들이 쉬는 날이다."
      ]
    },
    {
      "cell_type": "code",
      "metadata": {
        "colab": {
          "base_uri": "https://localhost:8080/",
          "height": 296
        },
        "id": "AfOedAuVIiCi",
        "outputId": "fa7aca08-6efd-441c-8034-df04438fd248"
      },
      "source": [
        "plt.figure(figsize=(8,4))\n",
        "ax = sns.countplot(x=NSdf.AppointmentDay_DOW, order=week_key)\n",
        "ax.set_title(\"Appointment Count for Appointment Day of Week\")\n",
        "plt.show()"
      ],
      "execution_count": 44,
      "outputs": [
        {
          "output_type": "display_data",
          "data": {
            "image/png": "[encoded data removed]",
            "text/plain": [
              "<Figure size 576x288 with 1 Axes>"
            ]
          },
          "metadata": {
            "tags": [],
            "needs_background": "light"
          }
        }
      ]
    },
    {
      "cell_type": "markdown",
      "metadata": {
        "id": "2IyrdIFFdkVw"
      },
      "source": [
        "진료날짜도 토요일과 일요일에는 없다. 의사들도 쉬는 날인 것 같다."
      ]
    },
    {
      "cell_type": "code",
      "metadata": {
        "colab": {
          "base_uri": "https://localhost:8080/",
          "height": 575
        },
        "id": "Y8TpGD63JFJ7",
        "outputId": "6c5755cd-b4a3-4316-d317-1fd1af8d5e38"
      },
      "source": [
        "plt.figure(figsize=(8,4))\n",
        "ax = sns.countplot(x=NSdf.AppointmentDay_DOW, hue=NSdf.NoShow, order=week_key)\n",
        "ax.set_title(\"Show/NoShow for Appointment Day of the Week\")\n",
        "plt.show()\n",
        "NSdf_a_dow_ratio = NSdf[NSdf.NoShow == 'No'].groupby(['AppointmentDay_DOW']).size()/NSdf.groupby(['AppointmentDay_DOW']).size()\n",
        "plt.figure(figsize=(8,4))\n",
        "ax = sns.barplot(x=NSdf_a_dow_ratio.index, y=NSdf_a_dow_ratio, order=week_key)\n",
        "ax.set_title(\"Show Percent for Appointment Day of the Week\")\n",
        "plt.show()"
      ],
      "execution_count": 45,
      "outputs": [
        {
          "output_type": "display_data",
          "data": {
            "image/png": "[encoded data removed]",
            "text/plain": [
              "<Figure size 576x288 with 1 Axes>"
            ]
          },
          "metadata": {
            "tags": [],
            "needs_background": "light"
          }
        },
        {
          "output_type": "display_data",
          "data": {
            "image/png": "[encoded data removed]",
            "text/plain": [
              "<Figure size 576x288 with 1 Axes>"
            ]
          },
          "metadata": {
            "tags": [],
            "needs_background": "light"
          }
        }
      ]
    },
    {
      "cell_type": "markdown",
      "metadata": {
        "id": "FU38Y1iBdrXr"
      },
      "source": [
        "토요일은 진료가 없는 것 같지만 노쇼 확률을 보니 토요일에도 아주 가끔 진료를 한다. 하지만 다른 요일보다 노쇼가 약간 많다."
      ]
    },
    {
      "cell_type": "code",
      "metadata": {
        "colab": {
          "base_uri": "https://localhost:8080/",
          "height": 559
        },
        "id": "YJd_IgClMBjj",
        "outputId": "871c403e-c62a-471c-f78a-a27c6c5c278e"
      },
      "source": [
        "plt.figure(figsize=(16,4))\n",
        "ax = sns.countplot(x=NSdf.Waiting_Time_days, hue=NSdf.NoShow, order=NSdf.Waiting_Time_days.value_counts().iloc[:25].index)\n",
        "ax.set_title(\"Show/NoShow Count for Waiting Time in Days (High Count)\")\n",
        "plt.show()\n",
        "\n",
        "NSdf_w_ratio = NSdf[NSdf.NoShow == 'No'].groupby(['Waiting_Time_days']).size()/NSdf.groupby(['Waiting_Time_days']).size()\n",
        "plt.figure(figsize=(16,4))\n",
        "ax = sns.barplot(x=NSdf_w_ratio.index, y=NSdf_w_ratio, order=NSdf.Waiting_Time_days.iloc[:70].index, palette=\"BuGn_d\")\n",
        "ax.set_title(\"Percent of Show for Waiting Time in Days\")\n",
        "plt.xticks(rotation=90)\n",
        "plt.show()"
      ],
      "execution_count": 46,
      "outputs": [
        {
          "output_type": "display_data",
          "data": {
            "image/png": "[encoded data removed]",
            "text/plain": [
              "<Figure size 1152x288 with 1 Axes>"
            ]
          },
          "metadata": {
            "tags": [],
            "needs_background": "light"
          }
        },
        {
          "output_type": "display_data",
          "data": {
            "image/png": "[encoded data removed]",
            "text/plain": [
              "<Figure size 1152x288 with 1 Axes>"
            ]
          },
          "metadata": {
            "tags": [],
            "needs_background": "light"
          }
        }
      ]
    },
    {
      "cell_type": "markdown",
      "metadata": {
        "id": "uERRRa7QeQSY"
      },
      "source": [
        "당일은 노쇼가 거의 없으며 1일부터 4일까지는 예약이행을 80%정도 유지하다가 그 이후로는 노쇼가 약간씩 많아진다."
      ]
    },
    {
      "cell_type": "code",
      "metadata": {
        "colab": {
          "base_uri": "https://localhost:8080/"
        },
        "id": "qoER1RTHmErq",
        "outputId": "417cdebc-0e41-410f-c452-93fee74daf29"
      },
      "source": [
        "NSdf.info()"
      ],
      "execution_count": 47,
      "outputs": [
        {
          "output_type": "stream",
          "text": [
            "<class 'pandas.core.frame.DataFrame'>\n",
            "Int64Index: 110526 entries, 0 to 110526\n",
            "Data columns (total 15 columns):\n",
            " #   Column              Non-Null Count   Dtype         \n",
            "---  ------              --------------   -----         \n",
            " 0   Gender              110526 non-null  object        \n",
            " 1   ScheduledDay        110526 non-null  datetime64[ns]\n",
            " 2   AppointmentDay      110526 non-null  datetime64[ns]\n",
            " 3   Age                 110526 non-null  int64         \n",
            " 4   Neighbourhood       110526 non-null  object        \n",
            " 5   Scholarship         110526 non-null  object        \n",
            " 6   Hypertension        110526 non-null  object        \n",
            " 7   Diabetes            110526 non-null  object        \n",
            " 8   Alcoholism          110526 non-null  object        \n",
            " 9   Handicap            110526 non-null  object        \n",
            " 10  SMSReceived         110526 non-null  object        \n",
            " 11  NoShow              110526 non-null  object        \n",
            " 12  ScheduledDay_DOW    110526 non-null  object        \n",
            " 13  AppointmentDay_DOW  110526 non-null  object        \n",
            " 14  Waiting_Time_days   110526 non-null  int64         \n",
            "dtypes: datetime64[ns](2), int64(2), object(11)\n",
            "memory usage: 18.5+ MB\n"
          ],
          "name": "stdout"
        }
      ]
    },
    {
      "cell_type": "markdown",
      "metadata": {
        "id": "kgIlA18eTebu"
      },
      "source": [
        "## 04_Modeling"
      ]
    },
    {
      "cell_type": "code",
      "metadata": {
        "colab": {
          "base_uri": "https://localhost:8080/",
          "height": 446
        },
        "id": "K3DXZ7Bt1tVV",
        "outputId": "ed4ad709-72d4-462c-9888-02115abc5cfc"
      },
      "source": [
        "NSdf.sample(10)"
      ],
      "execution_count": 48,
      "outputs": [
        {
          "output_type": "execute_result",
          "data": {
            "text/html": [
              "<div>\n",
              "<style scoped>\n",
              "    .dataframe tbody tr th:only-of-type {\n",
              "        vertical-align: middle;\n",
              "    }\n",
              "\n",
              "    .dataframe tbody tr th {\n",
              "        vertical-align: top;\n",
              "    }\n",
              "\n",
              "    .dataframe thead th {\n",
              "        text-align: right;\n",
              "    }\n",
              "</style>\n",
              "<table border=\"1\" class=\"dataframe\">\n",
              "  <thead>\n",
              "    <tr style=\"text-align: right;\">\n",
              "      <th></th>\n",
              "      <th>Gender</th>\n",
              "      <th>ScheduledDay</th>\n",
              "      <th>AppointmentDay</th>\n",
              "      <th>Age</th>\n",
              "      <th>Neighbourhood</th>\n",
              "      <th>Scholarship</th>\n",
              "      <th>Hypertension</th>\n",
              "      <th>Diabetes</th>\n",
              "      <th>Alcoholism</th>\n",
              "      <th>Handicap</th>\n",
              "      <th>SMSReceived</th>\n",
              "      <th>NoShow</th>\n",
              "      <th>ScheduledDay_DOW</th>\n",
              "      <th>AppointmentDay_DOW</th>\n",
              "      <th>Waiting_Time_days</th>\n",
              "    </tr>\n",
              "  </thead>\n",
              "  <tbody>\n",
              "    <tr>\n",
              "      <th>83046</th>\n",
              "      <td>M</td>\n",
              "      <td>2016-05-02</td>\n",
              "      <td>2016-05-13</td>\n",
              "      <td>25</td>\n",
              "      <td>ITARARÉ</td>\n",
              "      <td>0</td>\n",
              "      <td>0</td>\n",
              "      <td>0</td>\n",
              "      <td>0</td>\n",
              "      <td>0</td>\n",
              "      <td>0</td>\n",
              "      <td>Yes</td>\n",
              "      <td>Monday</td>\n",
              "      <td>Friday</td>\n",
              "      <td>11</td>\n",
              "    </tr>\n",
              "    <tr>\n",
              "      <th>63700</th>\n",
              "      <td>F</td>\n",
              "      <td>2016-05-10</td>\n",
              "      <td>2016-05-12</td>\n",
              "      <td>16</td>\n",
              "      <td>DA PENHA</td>\n",
              "      <td>0</td>\n",
              "      <td>0</td>\n",
              "      <td>0</td>\n",
              "      <td>0</td>\n",
              "      <td>0</td>\n",
              "      <td>0</td>\n",
              "      <td>No</td>\n",
              "      <td>Tuesday</td>\n",
              "      <td>Thursday</td>\n",
              "      <td>2</td>\n",
              "    </tr>\n",
              "    <tr>\n",
              "      <th>18577</th>\n",
              "      <td>F</td>\n",
              "      <td>2016-05-18</td>\n",
              "      <td>2016-05-18</td>\n",
              "      <td>3</td>\n",
              "      <td>MARIA ORTIZ</td>\n",
              "      <td>0</td>\n",
              "      <td>0</td>\n",
              "      <td>0</td>\n",
              "      <td>0</td>\n",
              "      <td>0</td>\n",
              "      <td>0</td>\n",
              "      <td>No</td>\n",
              "      <td>Wednesday</td>\n",
              "      <td>Wednesday</td>\n",
              "      <td>0</td>\n",
              "    </tr>\n",
              "    <tr>\n",
              "      <th>56834</th>\n",
              "      <td>F</td>\n",
              "      <td>2016-04-27</td>\n",
              "      <td>2016-05-04</td>\n",
              "      <td>30</td>\n",
              "      <td>ILHA DO PRÍNCIPE</td>\n",
              "      <td>1</td>\n",
              "      <td>0</td>\n",
              "      <td>0</td>\n",
              "      <td>0</td>\n",
              "      <td>0</td>\n",
              "      <td>1</td>\n",
              "      <td>No</td>\n",
              "      <td>Wednesday</td>\n",
              "      <td>Wednesday</td>\n",
              "      <td>7</td>\n",
              "    </tr>\n",
              "    <tr>\n",
              "      <th>80493</th>\n",
              "      <td>F</td>\n",
              "      <td>2016-05-10</td>\n",
              "      <td>2016-05-13</td>\n",
              "      <td>57</td>\n",
              "      <td>JARDIM CAMBURI</td>\n",
              "      <td>0</td>\n",
              "      <td>0</td>\n",
              "      <td>0</td>\n",
              "      <td>0</td>\n",
              "      <td>0</td>\n",
              "      <td>0</td>\n",
              "      <td>Yes</td>\n",
              "      <td>Tuesday</td>\n",
              "      <td>Friday</td>\n",
              "      <td>3</td>\n",
              "    </tr>\n",
              "    <tr>\n",
              "      <th>87515</th>\n",
              "      <td>F</td>\n",
              "      <td>2016-06-02</td>\n",
              "      <td>2016-06-02</td>\n",
              "      <td>11</td>\n",
              "      <td>NOVA PALESTINA</td>\n",
              "      <td>0</td>\n",
              "      <td>0</td>\n",
              "      <td>0</td>\n",
              "      <td>0</td>\n",
              "      <td>0</td>\n",
              "      <td>0</td>\n",
              "      <td>No</td>\n",
              "      <td>Thursday</td>\n",
              "      <td>Thursday</td>\n",
              "      <td>0</td>\n",
              "    </tr>\n",
              "    <tr>\n",
              "      <th>107586</th>\n",
              "      <td>M</td>\n",
              "      <td>2016-05-31</td>\n",
              "      <td>2016-06-02</td>\n",
              "      <td>16</td>\n",
              "      <td>MONTE BELO</td>\n",
              "      <td>0</td>\n",
              "      <td>0</td>\n",
              "      <td>0</td>\n",
              "      <td>0</td>\n",
              "      <td>0</td>\n",
              "      <td>0</td>\n",
              "      <td>No</td>\n",
              "      <td>Tuesday</td>\n",
              "      <td>Thursday</td>\n",
              "      <td>2</td>\n",
              "    </tr>\n",
              "    <tr>\n",
              "      <th>103528</th>\n",
              "      <td>M</td>\n",
              "      <td>2016-06-01</td>\n",
              "      <td>2016-06-01</td>\n",
              "      <td>38</td>\n",
              "      <td>REDENÇÃO</td>\n",
              "      <td>0</td>\n",
              "      <td>0</td>\n",
              "      <td>0</td>\n",
              "      <td>0</td>\n",
              "      <td>0</td>\n",
              "      <td>0</td>\n",
              "      <td>No</td>\n",
              "      <td>Wednesday</td>\n",
              "      <td>Wednesday</td>\n",
              "      <td>0</td>\n",
              "    </tr>\n",
              "    <tr>\n",
              "      <th>22151</th>\n",
              "      <td>M</td>\n",
              "      <td>2016-05-09</td>\n",
              "      <td>2016-05-10</td>\n",
              "      <td>18</td>\n",
              "      <td>GURIGICA</td>\n",
              "      <td>0</td>\n",
              "      <td>0</td>\n",
              "      <td>0</td>\n",
              "      <td>0</td>\n",
              "      <td>0</td>\n",
              "      <td>0</td>\n",
              "      <td>Yes</td>\n",
              "      <td>Monday</td>\n",
              "      <td>Tuesday</td>\n",
              "      <td>1</td>\n",
              "    </tr>\n",
              "    <tr>\n",
              "      <th>26178</th>\n",
              "      <td>F</td>\n",
              "      <td>2016-05-04</td>\n",
              "      <td>2016-05-04</td>\n",
              "      <td>54</td>\n",
              "      <td>SANTA MARTHA</td>\n",
              "      <td>1</td>\n",
              "      <td>1</td>\n",
              "      <td>1</td>\n",
              "      <td>0</td>\n",
              "      <td>0</td>\n",
              "      <td>0</td>\n",
              "      <td>No</td>\n",
              "      <td>Wednesday</td>\n",
              "      <td>Wednesday</td>\n",
              "      <td>0</td>\n",
              "    </tr>\n",
              "  </tbody>\n",
              "</table>\n",
              "</div>"
            ],
            "text/plain": [
              "       Gender ScheduledDay  ... AppointmentDay_DOW  Waiting_Time_days\n",
              "83046       M   2016-05-02  ...             Friday                 11\n",
              "63700       F   2016-05-10  ...           Thursday                  2\n",
              "18577       F   2016-05-18  ...          Wednesday                  0\n",
              "56834       F   2016-04-27  ...          Wednesday                  7\n",
              "80493       F   2016-05-10  ...             Friday                  3\n",
              "87515       F   2016-06-02  ...           Thursday                  0\n",
              "107586      M   2016-05-31  ...           Thursday                  2\n",
              "103528      M   2016-06-01  ...          Wednesday                  0\n",
              "22151       M   2016-05-09  ...            Tuesday                  1\n",
              "26178       F   2016-05-04  ...          Wednesday                  0\n",
              "\n",
              "[10 rows x 15 columns]"
            ]
          },
          "metadata": {
            "tags": []
          },
          "execution_count": 48
        }
      ]
    },
    {
      "cell_type": "code",
      "metadata": {
        "colab": {
          "base_uri": "https://localhost:8080/",
          "height": 240
        },
        "id": "xtzDrS4FzhqN",
        "outputId": "d7d3feea-4f60-41a3-d558-909bcf28327e"
      },
      "source": [
        "NSdf.sample(n=5)"
      ],
      "execution_count": 49,
      "outputs": [
        {
          "output_type": "execute_result",
          "data": {
            "text/html": [
              "<div>\n",
              "<style scoped>\n",
              "    .dataframe tbody tr th:only-of-type {\n",
              "        vertical-align: middle;\n",
              "    }\n",
              "\n",
              "    .dataframe tbody tr th {\n",
              "        vertical-align: top;\n",
              "    }\n",
              "\n",
              "    .dataframe thead th {\n",
              "        text-align: right;\n",
              "    }\n",
              "</style>\n",
              "<table border=\"1\" class=\"dataframe\">\n",
              "  <thead>\n",
              "    <tr style=\"text-align: right;\">\n",
              "      <th></th>\n",
              "      <th>Gender</th>\n",
              "      <th>ScheduledDay</th>\n",
              "      <th>AppointmentDay</th>\n",
              "      <th>Age</th>\n",
              "      <th>Neighbourhood</th>\n",
              "      <th>Scholarship</th>\n",
              "      <th>Hypertension</th>\n",
              "      <th>Diabetes</th>\n",
              "      <th>Alcoholism</th>\n",
              "      <th>Handicap</th>\n",
              "      <th>SMSReceived</th>\n",
              "      <th>NoShow</th>\n",
              "      <th>ScheduledDay_DOW</th>\n",
              "      <th>AppointmentDay_DOW</th>\n",
              "      <th>Waiting_Time_days</th>\n",
              "    </tr>\n",
              "  </thead>\n",
              "  <tbody>\n",
              "    <tr>\n",
              "      <th>1500</th>\n",
              "      <td>F</td>\n",
              "      <td>2016-04-20</td>\n",
              "      <td>2016-04-29</td>\n",
              "      <td>27</td>\n",
              "      <td>RESISTÊNCIA</td>\n",
              "      <td>0</td>\n",
              "      <td>0</td>\n",
              "      <td>0</td>\n",
              "      <td>0</td>\n",
              "      <td>0</td>\n",
              "      <td>1</td>\n",
              "      <td>No</td>\n",
              "      <td>Wednesday</td>\n",
              "      <td>Friday</td>\n",
              "      <td>9</td>\n",
              "    </tr>\n",
              "    <tr>\n",
              "      <th>38517</th>\n",
              "      <td>F</td>\n",
              "      <td>2016-04-08</td>\n",
              "      <td>2016-05-09</td>\n",
              "      <td>5</td>\n",
              "      <td>MARIA ORTIZ</td>\n",
              "      <td>0</td>\n",
              "      <td>0</td>\n",
              "      <td>0</td>\n",
              "      <td>0</td>\n",
              "      <td>0</td>\n",
              "      <td>0</td>\n",
              "      <td>No</td>\n",
              "      <td>Friday</td>\n",
              "      <td>Monday</td>\n",
              "      <td>31</td>\n",
              "    </tr>\n",
              "    <tr>\n",
              "      <th>47674</th>\n",
              "      <td>F</td>\n",
              "      <td>2016-04-26</td>\n",
              "      <td>2016-05-03</td>\n",
              "      <td>28</td>\n",
              "      <td>MARUÍPE</td>\n",
              "      <td>0</td>\n",
              "      <td>0</td>\n",
              "      <td>0</td>\n",
              "      <td>0</td>\n",
              "      <td>0</td>\n",
              "      <td>1</td>\n",
              "      <td>No</td>\n",
              "      <td>Tuesday</td>\n",
              "      <td>Tuesday</td>\n",
              "      <td>7</td>\n",
              "    </tr>\n",
              "    <tr>\n",
              "      <th>3553</th>\n",
              "      <td>F</td>\n",
              "      <td>2016-05-30</td>\n",
              "      <td>2016-05-30</td>\n",
              "      <td>15</td>\n",
              "      <td>RESISTÊNCIA</td>\n",
              "      <td>0</td>\n",
              "      <td>0</td>\n",
              "      <td>0</td>\n",
              "      <td>0</td>\n",
              "      <td>0</td>\n",
              "      <td>0</td>\n",
              "      <td>No</td>\n",
              "      <td>Monday</td>\n",
              "      <td>Monday</td>\n",
              "      <td>0</td>\n",
              "    </tr>\n",
              "    <tr>\n",
              "      <th>51408</th>\n",
              "      <td>M</td>\n",
              "      <td>2016-05-09</td>\n",
              "      <td>2016-05-09</td>\n",
              "      <td>36</td>\n",
              "      <td>FONTE GRANDE</td>\n",
              "      <td>0</td>\n",
              "      <td>0</td>\n",
              "      <td>0</td>\n",
              "      <td>0</td>\n",
              "      <td>0</td>\n",
              "      <td>0</td>\n",
              "      <td>No</td>\n",
              "      <td>Monday</td>\n",
              "      <td>Monday</td>\n",
              "      <td>0</td>\n",
              "    </tr>\n",
              "  </tbody>\n",
              "</table>\n",
              "</div>"
            ],
            "text/plain": [
              "      Gender ScheduledDay  ... AppointmentDay_DOW  Waiting_Time_days\n",
              "1500       F   2016-04-20  ...             Friday                  9\n",
              "38517      F   2016-04-08  ...             Monday                 31\n",
              "47674      F   2016-04-26  ...            Tuesday                  7\n",
              "3553       F   2016-05-30  ...             Monday                  0\n",
              "51408      M   2016-05-09  ...             Monday                  0\n",
              "\n",
              "[5 rows x 15 columns]"
            ]
          },
          "metadata": {
            "tags": []
          },
          "execution_count": 49
        }
      ]
    },
    {
      "cell_type": "code",
      "metadata": {
        "id": "2CoB9YzEK7aR"
      },
      "source": [
        "le = LabelEncoder()\n",
        "NSdf['Gender'] = le.fit_transform(NSdf['Gender'])\n",
        "le = LabelEncoder()\n",
        "NSdf['Neighbourhood'] = le.fit_transform(NSdf['Neighbourhood'])\n",
        "le = LabelEncoder()\n",
        "NSdf['ScheduledDay_DOW'] = le.fit_transform(NSdf['ScheduledDay_DOW'])\n",
        "le = LabelEncoder()\n",
        "NSdf['AppointmentDay_DOW'] = le.fit_transform(NSdf['AppointmentDay_DOW'])\n",
        "le = LabelEncoder()\n",
        "NSdf['NoShow'] = le.fit_transform(NSdf['NoShow'])"
      ],
      "execution_count": 50,
      "outputs": []
    },
    {
      "cell_type": "code",
      "metadata": {
        "colab": {
          "base_uri": "https://localhost:8080/",
          "height": 223
        },
        "id": "mTxwtP8lyZYw",
        "outputId": "5c80385d-a309-475b-bf32-43c6b5ded732"
      },
      "source": [
        "NSdf['ScheduledDay_Y'] = NSdf['ScheduledDay'].dt.year\n",
        "NSdf['ScheduledDay_M'] = NSdf['ScheduledDay'].dt.month\n",
        "NSdf['ScheduledDay_D'] = NSdf['ScheduledDay'].dt.day\n",
        "NSdf.drop(['ScheduledDay'], axis=1, inplace=True)\n",
        "NSdf['AppointmentDay_Y'] = NSdf['AppointmentDay'].dt.year\n",
        "NSdf['AppointmentDay_M'] = NSdf['AppointmentDay'].dt.month\n",
        "NSdf['AppointmentDay_D'] = NSdf['AppointmentDay'].dt.day\n",
        "NSdf.drop(['AppointmentDay'], axis=1, inplace=True)\n",
        "NSdf.sample(n=5)"
      ],
      "execution_count": 51,
      "outputs": [
        {
          "output_type": "execute_result",
          "data": {
            "text/html": [
              "<div>\n",
              "<style scoped>\n",
              "    .dataframe tbody tr th:only-of-type {\n",
              "        vertical-align: middle;\n",
              "    }\n",
              "\n",
              "    .dataframe tbody tr th {\n",
              "        vertical-align: top;\n",
              "    }\n",
              "\n",
              "    .dataframe thead th {\n",
              "        text-align: right;\n",
              "    }\n",
              "</style>\n",
              "<table border=\"1\" class=\"dataframe\">\n",
              "  <thead>\n",
              "    <tr style=\"text-align: right;\">\n",
              "      <th></th>\n",
              "      <th>Gender</th>\n",
              "      <th>Age</th>\n",
              "      <th>Neighbourhood</th>\n",
              "      <th>Scholarship</th>\n",
              "      <th>Hypertension</th>\n",
              "      <th>Diabetes</th>\n",
              "      <th>Alcoholism</th>\n",
              "      <th>Handicap</th>\n",
              "      <th>SMSReceived</th>\n",
              "      <th>NoShow</th>\n",
              "      <th>ScheduledDay_DOW</th>\n",
              "      <th>AppointmentDay_DOW</th>\n",
              "      <th>Waiting_Time_days</th>\n",
              "      <th>ScheduledDay_Y</th>\n",
              "      <th>ScheduledDay_M</th>\n",
              "      <th>ScheduledDay_D</th>\n",
              "      <th>AppointmentDay_Y</th>\n",
              "      <th>AppointmentDay_M</th>\n",
              "      <th>AppointmentDay_D</th>\n",
              "    </tr>\n",
              "  </thead>\n",
              "  <tbody>\n",
              "    <tr>\n",
              "      <th>86948</th>\n",
              "      <td>1</td>\n",
              "      <td>9</td>\n",
              "      <td>56</td>\n",
              "      <td>0</td>\n",
              "      <td>0</td>\n",
              "      <td>0</td>\n",
              "      <td>0</td>\n",
              "      <td>0</td>\n",
              "      <td>0</td>\n",
              "      <td>0</td>\n",
              "      <td>1</td>\n",
              "      <td>5</td>\n",
              "      <td>2</td>\n",
              "      <td>2016</td>\n",
              "      <td>6</td>\n",
              "      <td>6</td>\n",
              "      <td>2016</td>\n",
              "      <td>6</td>\n",
              "      <td>8</td>\n",
              "    </tr>\n",
              "    <tr>\n",
              "      <th>9995</th>\n",
              "      <td>1</td>\n",
              "      <td>50</td>\n",
              "      <td>23</td>\n",
              "      <td>0</td>\n",
              "      <td>1</td>\n",
              "      <td>0</td>\n",
              "      <td>0</td>\n",
              "      <td>0</td>\n",
              "      <td>0</td>\n",
              "      <td>0</td>\n",
              "      <td>5</td>\n",
              "      <td>5</td>\n",
              "      <td>0</td>\n",
              "      <td>2016</td>\n",
              "      <td>5</td>\n",
              "      <td>25</td>\n",
              "      <td>2016</td>\n",
              "      <td>5</td>\n",
              "      <td>25</td>\n",
              "    </tr>\n",
              "    <tr>\n",
              "      <th>68975</th>\n",
              "      <td>0</td>\n",
              "      <td>62</td>\n",
              "      <td>9</td>\n",
              "      <td>0</td>\n",
              "      <td>0</td>\n",
              "      <td>0</td>\n",
              "      <td>0</td>\n",
              "      <td>0</td>\n",
              "      <td>0</td>\n",
              "      <td>0</td>\n",
              "      <td>5</td>\n",
              "      <td>1</td>\n",
              "      <td>40</td>\n",
              "      <td>2016</td>\n",
              "      <td>3</td>\n",
              "      <td>23</td>\n",
              "      <td>2016</td>\n",
              "      <td>5</td>\n",
              "      <td>2</td>\n",
              "    </tr>\n",
              "    <tr>\n",
              "      <th>20099</th>\n",
              "      <td>0</td>\n",
              "      <td>29</td>\n",
              "      <td>68</td>\n",
              "      <td>0</td>\n",
              "      <td>0</td>\n",
              "      <td>0</td>\n",
              "      <td>0</td>\n",
              "      <td>0</td>\n",
              "      <td>1</td>\n",
              "      <td>0</td>\n",
              "      <td>0</td>\n",
              "      <td>4</td>\n",
              "      <td>4</td>\n",
              "      <td>2016</td>\n",
              "      <td>4</td>\n",
              "      <td>29</td>\n",
              "      <td>2016</td>\n",
              "      <td>5</td>\n",
              "      <td>3</td>\n",
              "    </tr>\n",
              "    <tr>\n",
              "      <th>17998</th>\n",
              "      <td>0</td>\n",
              "      <td>18</td>\n",
              "      <td>29</td>\n",
              "      <td>1</td>\n",
              "      <td>0</td>\n",
              "      <td>0</td>\n",
              "      <td>0</td>\n",
              "      <td>0</td>\n",
              "      <td>0</td>\n",
              "      <td>0</td>\n",
              "      <td>1</td>\n",
              "      <td>5</td>\n",
              "      <td>30</td>\n",
              "      <td>2016</td>\n",
              "      <td>4</td>\n",
              "      <td>18</td>\n",
              "      <td>2016</td>\n",
              "      <td>5</td>\n",
              "      <td>18</td>\n",
              "    </tr>\n",
              "  </tbody>\n",
              "</table>\n",
              "</div>"
            ],
            "text/plain": [
              "       Gender  Age  ...  AppointmentDay_M AppointmentDay_D\n",
              "86948       1    9  ...                 6                8\n",
              "9995        1   50  ...                 5               25\n",
              "68975       0   62  ...                 5                2\n",
              "20099       0   29  ...                 5                3\n",
              "17998       0   18  ...                 5               18\n",
              "\n",
              "[5 rows x 19 columns]"
            ]
          },
          "metadata": {
            "tags": []
          },
          "execution_count": 51
        }
      ]
    },
    {
      "cell_type": "code",
      "metadata": {
        "id": "hZARyu-ilzqd"
      },
      "source": [
        "X = NSdf.drop(['NoShow'], axis=1)\n",
        "y = NSdf['NoShow']"
      ],
      "execution_count": 52,
      "outputs": []
    },
    {
      "cell_type": "code",
      "metadata": {
        "id": "6KP_NuN-pT3L"
      },
      "source": [
        "X_train, X_test, y_train, y_test = train_test_split(X, y, test_size=0.2, random_state=0)"
      ],
      "execution_count": 53,
      "outputs": []
    },
    {
      "cell_type": "markdown",
      "metadata": {
        "id": "_9_oq7oNexa7"
      },
      "source": [
        "Decision Tree Classifier"
      ]
    },
    {
      "cell_type": "code",
      "metadata": {
        "colab": {
          "base_uri": "https://localhost:8080/"
        },
        "id": "VlpnAd3Wp6HV",
        "outputId": "5719da1d-8f8f-42c4-e9da-13236808d8d9"
      },
      "source": [
        "dt_clf = DecisionTreeClassifier()\n",
        "dt_clf.fit(X_train, y_train)"
      ],
      "execution_count": 54,
      "outputs": [
        {
          "output_type": "execute_result",
          "data": {
            "text/plain": [
              "DecisionTreeClassifier(ccp_alpha=0.0, class_weight=None, criterion='gini',\n",
              "                       max_depth=None, max_features=None, max_leaf_nodes=None,\n",
              "                       min_impurity_decrease=0.0, min_impurity_split=None,\n",
              "                       min_samples_leaf=1, min_samples_split=2,\n",
              "                       min_weight_fraction_leaf=0.0, presort='deprecated',\n",
              "                       random_state=None, splitter='best')"
            ]
          },
          "metadata": {
            "tags": []
          },
          "execution_count": 54
        }
      ]
    },
    {
      "cell_type": "code",
      "metadata": {
        "colab": {
          "base_uri": "https://localhost:8080/"
        },
        "id": "K7OPiwHGvNnz",
        "outputId": "f285de30-9bee-4758-8d71-10c377251c81"
      },
      "source": [
        "print(\"Feature Importance:\\n\")\n",
        "for name, importance in zip(X.columns, np.sort(dt_clf.feature_importances_)[::-1]):\n",
        "    print(\"{} -- {:.2f}\".format(name, importance))"
      ],
      "execution_count": 55,
      "outputs": [
        {
          "output_type": "stream",
          "text": [
            "Feature Importance:\n",
            "\n",
            "Gender -- 0.23\n",
            "Age -- 0.22\n",
            "Neighbourhood -- 0.18\n",
            "Scholarship -- 0.08\n",
            "Hypertension -- 0.08\n",
            "Diabetes -- 0.05\n",
            "Alcoholism -- 0.05\n",
            "Handicap -- 0.03\n",
            "SMSReceived -- 0.02\n",
            "ScheduledDay_DOW -- 0.01\n",
            "AppointmentDay_DOW -- 0.01\n",
            "Waiting_Time_days -- 0.01\n",
            "ScheduledDay_Y -- 0.01\n",
            "ScheduledDay_M -- 0.01\n",
            "ScheduledDay_D -- 0.01\n",
            "AppointmentDay_Y -- 0.01\n",
            "AppointmentDay_M -- 0.00\n",
            "AppointmentDay_D -- 0.00\n"
          ],
          "name": "stdout"
        }
      ]
    },
    {
      "cell_type": "code",
      "metadata": {
        "colab": {
          "base_uri": "https://localhost:8080/"
        },
        "id": "eKo7HdkLD7nj",
        "outputId": "e61d1c8b-bee8-464c-bc71-e9f2b8ae1aef"
      },
      "source": [
        "dt_clf.score(X_test, y_test)"
      ],
      "execution_count": 56,
      "outputs": [
        {
          "output_type": "execute_result",
          "data": {
            "text/plain": [
              "0.7256400977110287"
            ]
          },
          "metadata": {
            "tags": []
          },
          "execution_count": 56
        }
      ]
    },
    {
      "cell_type": "markdown",
      "metadata": {
        "id": "NtIBnat3e6_k"
      },
      "source": [
        "Random Forest Classfier"
      ]
    },
    {
      "cell_type": "code",
      "metadata": {
        "colab": {
          "base_uri": "https://localhost:8080/"
        },
        "id": "T9CcftLFEAak",
        "outputId": "1fffffcd-ef90-4fb0-bc87-31b6a23118e6"
      },
      "source": [
        "rf_clf = RandomForestClassifier(random_state=0)\n",
        "rf_clf.fit(X_train, y_train)"
      ],
      "execution_count": 57,
      "outputs": [
        {
          "output_type": "execute_result",
          "data": {
            "text/plain": [
              "RandomForestClassifier(bootstrap=True, ccp_alpha=0.0, class_weight=None,\n",
              "                       criterion='gini', max_depth=None, max_features='auto',\n",
              "                       max_leaf_nodes=None, max_samples=None,\n",
              "                       min_impurity_decrease=0.0, min_impurity_split=None,\n",
              "                       min_samples_leaf=1, min_samples_split=2,\n",
              "                       min_weight_fraction_leaf=0.0, n_estimators=100,\n",
              "                       n_jobs=None, oob_score=False, random_state=0, verbose=0,\n",
              "                       warm_start=False)"
            ]
          },
          "metadata": {
            "tags": []
          },
          "execution_count": 57
        }
      ]
    },
    {
      "cell_type": "code",
      "metadata": {
        "colab": {
          "base_uri": "https://localhost:8080/"
        },
        "id": "q7LWwVQ-EEec",
        "outputId": "cd5a5da4-05db-4763-cd6d-959902cf3134"
      },
      "source": [
        "for name, importance in zip(X.columns, np.sort(rf_clf.feature_importances_)[::-1]):\n",
        "    print(\"{} -- {:.2f}\".format(name, importance))"
      ],
      "execution_count": 58,
      "outputs": [
        {
          "output_type": "stream",
          "text": [
            "Gender -- 0.29\n",
            "Age -- 0.26\n",
            "Neighbourhood -- 0.13\n",
            "Scholarship -- 0.06\n",
            "Hypertension -- 0.05\n",
            "Diabetes -- 0.04\n",
            "Alcoholism -- 0.03\n",
            "Handicap -- 0.03\n",
            "SMSReceived -- 0.02\n",
            "ScheduledDay_DOW -- 0.02\n",
            "AppointmentDay_DOW -- 0.01\n",
            "Waiting_Time_days -- 0.01\n",
            "ScheduledDay_Y -- 0.01\n",
            "ScheduledDay_M -- 0.01\n",
            "ScheduledDay_D -- 0.01\n",
            "AppointmentDay_Y -- 0.01\n",
            "AppointmentDay_M -- 0.00\n",
            "AppointmentDay_D -- 0.00\n"
          ],
          "name": "stdout"
        }
      ]
    },
    {
      "cell_type": "code",
      "metadata": {
        "colab": {
          "base_uri": "https://localhost:8080/"
        },
        "id": "oq6Fje2fEH1E",
        "outputId": "47602409-6e2c-4f38-9720-19346db61dfc"
      },
      "source": [
        "rf_clf.score(X_test, y_test)"
      ],
      "execution_count": 59,
      "outputs": [
        {
          "output_type": "execute_result",
          "data": {
            "text/plain": [
              "0.7854428661901746"
            ]
          },
          "metadata": {
            "tags": []
          },
          "execution_count": 59
        }
      ]
    },
    {
      "cell_type": "markdown",
      "metadata": {
        "id": "hAFEBXP2fJXD"
      },
      "source": [
        "Grid Search CV"
      ]
    },
    {
      "cell_type": "code",
      "metadata": {
        "colab": {
          "base_uri": "https://localhost:8080/"
        },
        "id": "uVDKxKXGEJsE",
        "outputId": "f2cabfa6-f162-4716-f4ea-aa0e0fdef819"
      },
      "source": [
        "params={'n_estimators':[10,20], 'max_depth':[None, 5], 'min_samples_split':[2,3]}\n",
        "rf_clf = RandomForestClassifier(random_state=0)\n",
        "clf_grid = GridSearchCV(rf_clf, params, cv=5, n_jobs=-1, verbose=1)\n",
        "clf_grid.fit(X, y)\n",
        "print(clf_grid.best_params_)\n",
        "print(clf_grid.best_score_)"
      ],
      "execution_count": 60,
      "outputs": [
        {
          "output_type": "stream",
          "text": [
            "Fitting 5 folds for each of 8 candidates, totalling 40 fits\n"
          ],
          "name": "stdout"
        },
        {
          "output_type": "stream",
          "text": [
            "[Parallel(n_jobs=-1)]: Using backend LokyBackend with 2 concurrent workers.\n",
            "[Parallel(n_jobs=-1)]: Done  40 out of  40 | elapsed:   43.4s finished\n"
          ],
          "name": "stderr"
        },
        {
          "output_type": "stream",
          "text": [
            "{'max_depth': 5, 'min_samples_split': 2, 'n_estimators': 10}\n",
            "0.7980656135365387\n"
          ],
          "name": "stdout"
        }
      ]
    }
  ]
}