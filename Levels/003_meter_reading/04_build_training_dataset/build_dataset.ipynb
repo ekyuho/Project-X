{
 "cells": [
  {
   "cell_type": "code",
   "execution_count": 4,
   "metadata": {},
   "outputs": [],
   "source": [
    "import numpy as np\n",
    "import pandas as pd\n",
    "from scipy import ndimage\n",
    "\n",
    "import os, sys\n",
    "from IPython.display import display\n",
    "from IPython.display import Image as _Imgdis\n",
    "from PIL import Image\n",
    "import numpy as np\n",
    "from time import time\n",
    "from time import sleep\n",
    "import matplotlib.pyplot as plt"
   ]
  },
  {
   "cell_type": "code",
   "execution_count": 12,
   "metadata": {},
   "outputs": [
    {
     "name": "stdout",
     "output_type": "stream",
     "text": [
      "Working with 8856 images\n",
      "Image examples: \n",
      "2020-10-25_1900_0.png\n"
     ]
    },
    {
     "data": {
      "image/png": "[encoded data removed]",
      "text/plain": [
       "<IPython.core.display.Image object>"
      ]
     },
     "metadata": {
      "image/png": {
       "height": 320,
       "width": 240
      }
     },
     "output_type": "display_data"
    },
    {
     "name": "stdout",
     "output_type": "stream",
     "text": [
      "2020-10-25_1900_1.png\n"
     ]
    },
    {
     "data": {
      "image/png": "[encoded data removed]",
      "text/plain": [
       "<IPython.core.display.Image object>"
      ]
     },
     "metadata": {
      "image/png": {
       "height": 320,
       "width": 240
      }
     },
     "output_type": "display_data"
    }
   ],
   "source": [
    "folder = \"digits_image\"\n",
    "onlyfiles = [f for f in os.listdir(folder) if os.path.isfile(os.path.join(folder, f))]\n",
    "\n",
    "print(\"Working with {0} images\".format(len(onlyfiles)))\n",
    "print(\"Image examples: \")\n",
    "\n",
    "for i in range(40, 42):\n",
    "    print(onlyfiles[i])\n",
    "    display(_Imgdis(filename=folder + \"/\" + onlyfiles[i], width=240, height=320))"
   ]
  },
  {
   "cell_type": "code",
   "execution_count": 13,
   "metadata": {},
   "outputs": [],
   "source": [
    "df = pd.read_csv('labels.csv', index_col='filename')  \n",
    "\n",
    "train_files = []\n",
    "test_files = []\n",
    "train_labels = []\n",
    "test_labels = []"
   ]
  },
  {
   "cell_type": "code",
   "execution_count": 14,
   "metadata": {},
   "outputs": [
    {
     "name": "stdout",
     "output_type": "stream",
     "text": [
      "Files in train_files: 5267\n"
     ]
    }
   ],
   "source": [
    "i = 0\n",
    "for _file in onlyfiles:\n",
    "    i += 1\n",
    "    try:\n",
    "        k = df.loc[_file]['label']\n",
    "        if (i%1000)==0: print(i, _file, k)\n",
    "        if (i%7) == 0:\n",
    "            test_files.append(_file)\n",
    "            test_labels.append(int(k))\n",
    "        else:\n",
    "            train_files.append(_file)\n",
    "            train_labels.append(int(k))\n",
    "    except KeyError:\n",
    "        #print(i, 'KeyError', _file, )\n",
    "        continue\n",
    "    \n",
    "print(\"Files in train_files: %d\" % len(train_files))"
   ]
  },
  {
   "cell_type": "code",
   "execution_count": 15,
   "metadata": {},
   "outputs": [
    {
     "data": {
      "text/plain": [
       "874"
      ]
     },
     "execution_count": 15,
     "metadata": {},
     "output_type": "execute_result"
    }
   ],
   "source": [
    "len(test_labels)"
   ]
  },
  {
   "cell_type": "code",
   "execution_count": 16,
   "metadata": {},
   "outputs": [
    {
     "name": "stdout",
     "output_type": "stream",
     "text": [
      "0 images to array\n",
      "1000 images to array\n",
      "2000 images to array\n",
      "3000 images to array\n",
      "4000 images to array\n",
      "5000 images to array\n",
      "5267 images to array!\n",
      "0 images to array\n",
      "874 images to array!\n"
     ]
    }
   ],
   "source": [
    "# Original Dimensions\n",
    "image_width = 28\n",
    "image_height = 28\n",
    "\n",
    "trainset = np.ndarray(shape=(len(train_files), image_height, image_width), dtype=np.float32)\n",
    "\n",
    "i = 0\n",
    "for _file in train_files:\n",
    "    img = Image.open(folder + \"/\" + _file)  # this is a PIL image\n",
    "    img = img.resize((image_width, image_height))\n",
    "    x = np.array(img)\n",
    "    trainset[i] = x\n",
    "    if i % 1000 == 0:\n",
    "        print(\"%d images to array\" % i)\n",
    "    i += 1\n",
    "print(\"%d images to array!\"%i)\n",
    "\n",
    "testset = np.ndarray(shape=(len(test_files), image_height, image_width), dtype=np.float32)\n",
    "\n",
    "i = 0\n",
    "for _file in test_files:\n",
    "    img = Image.open(folder + \"/\" + _file)  # this is a PIL image\n",
    "    img = img.resize((image_width, image_height))\n",
    "    x = np.array(img)\n",
    "    testset[i] = x\n",
    "    if i % 1000 == 0:\n",
    "        print(\"%d images to array\" % i)\n",
    "    i += 1\n",
    "print(\"%d images to array!\"%i)\n",
    "\n",
    "train_labels = np.array(train_labels)\n",
    "test_labels = np.array(test_labels)"
   ]
  },
  {
   "cell_type": "code",
   "execution_count": 17,
   "metadata": {},
   "outputs": [],
   "source": [
    "np.savez_compressed('numbers', trainset=trainset, train_labels=train_labels, testset=testset, test_labels=test_labels)"
   ]
  },
  {
   "cell_type": "code",
   "execution_count": null,
   "metadata": {},
   "outputs": [],
   "source": []
  },
  {
   "cell_type": "code",
   "execution_count": null,
   "metadata": {},
   "outputs": [],
   "source": []
  }
 ],
 "metadata": {
  "kernelspec": {
   "display_name": "Python 3",
   "language": "python",
   "name": "python3"
  },
  "language_info": {
   "codemirror_mode": {
    "name": "ipython",
    "version": 3
   },
   "file_extension": ".py",
   "mimetype": "text/x-python",
   "name": "python",
   "nbconvert_exporter": "python",
   "pygments_lexer": "ipython3",
   "version": "3.8.5"
  }
 },
 "nbformat": 4,
 "nbformat_minor": 4
}
