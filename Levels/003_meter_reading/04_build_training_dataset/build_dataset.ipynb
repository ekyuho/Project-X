{
 "cells": [
  {
   "cell_type": "code",
   "execution_count": 23,
   "metadata": {},
   "outputs": [],
   "source": [
    "import numpy as np\n",
    "from scipy import ndimage\n",
    "import sys, os\n",
    "from IPython.display import display\n",
    "from IPython.display import Image as _Imgdis"
   ]
  },
  {
   "cell_type": "code",
   "execution_count": 24,
   "metadata": {},
   "outputs": [],
   "source": [
    "folder = \"digits_image\"\n",
    "files = [f for f in os.listdir(folder) if os.path.isfile(os.path.join(folder, f))]"
   ]
  },
  {
   "cell_type": "code",
   "execution_count": 34,
   "metadata": {},
   "outputs": [
    {
     "name": "stdout",
     "output_type": "stream",
     "text": [
      "Working with 14864 images\n",
      "Image examples: \n",
      "0_0_2021-01-07_0700.png\n"
     ]
    },
    {
     "data": {
      "image/png": "[encoded data removed]",
      "text/plain": [
       "<IPython.core.display.Image object>"
      ]
     },
     "metadata": {
      "image/png": {
       "height": 80,
       "width": 60
      }
     },
     "output_type": "display_data"
    },
    {
     "name": "stdout",
     "output_type": "stream",
     "text": [
      "1_3_2021-04-08_0100.png\n"
     ]
    },
    {
     "data": {
      "image/png": "[encoded data removed]",
      "text/plain": [
       "<IPython.core.display.Image object>"
      ]
     },
     "metadata": {
      "image/png": {
       "height": 80,
       "width": 60
      }
     },
     "output_type": "display_data"
    },
    {
     "name": "stdout",
     "output_type": "stream",
     "text": [
      "2_3_2021-04-29_0700.png\n"
     ]
    },
    {
     "data": {
      "image/png": "[encoded data removed]",
      "text/plain": [
       "<IPython.core.display.Image object>"
      ]
     },
     "metadata": {
      "image/png": {
       "height": 80,
       "width": 60
      }
     },
     "output_type": "display_data"
    },
    {
     "name": "stdout",
     "output_type": "stream",
     "text": [
      "7_2_2021-03-05_1700.png\n"
     ]
    },
    {
     "data": {
      "image/png": "[encoded data removed]",
      "text/plain": [
       "<IPython.core.display.Image object>"
      ]
     },
     "metadata": {
      "image/png": {
       "height": 80,
       "width": 60
      }
     },
     "output_type": "display_data"
    }
   ],
   "source": [
    "folder = \"digits_image\"\n",
    "onlyfiles = [f for f in os.listdir(folder) if os.path.isfile(os.path.join(folder, f))]\n",
    "\n",
    "print(\"Working with {0} images\".format(len(onlyfiles)))\n",
    "print(\"Image examples: \")\n",
    "\n",
    "train_files = []\n",
    "test_files = []\n",
    "\n",
    "for i in range(len(onlyfiles)):\n",
    "    if i%10: train_files.append(onlyfiles[i])\n",
    "    else: test_files.append(onlyfiles[i])\n",
    "    if not i%4000: \n",
    "        print(onlyfiles[i])\n",
    "        display(_Imgdis(filename=folder + \"/\" + onlyfiles[i], width=60, height=80))"
   ]
  },
  {
   "cell_type": "code",
   "execution_count": 42,
   "metadata": {},
   "outputs": [
    {
     "name": "stdout",
     "output_type": "stream",
     "text": [
      "0 images to train array\n",
      "1000 images to train array\n",
      "2000 images to train array\n",
      "3000 images to train array\n",
      "4000 images to train array\n",
      "5000 images to train array\n",
      "6000 images to train array\n",
      "7000 images to train array\n",
      "8000 images to train array\n",
      "9000 images to train array\n",
      "10000 images to train array\n",
      "11000 images to train array\n",
      "12000 images to train array\n",
      "13000 images to train array\n",
      "13377 images to array!\n",
      "0 images to test array\n",
      "100 images to test array\n",
      "200 images to test array\n",
      "300 images to test array\n",
      "400 images to test array\n",
      "500 images to test array\n",
      "600 images to test array\n",
      "700 images to test array\n",
      "800 images to test array\n",
      "900 images to test array\n",
      "1000 images to test array\n",
      "1100 images to test array\n",
      "1200 images to test array\n",
      "1300 images to test array\n",
      "1400 images to test array\n",
      "1487 images to array!\n"
     ]
    }
   ],
   "source": [
    "# Original Dimensions\n",
    "image_width = 28\n",
    "image_height = 28\n",
    "\n",
    "trainset = np.ndarray(shape=(len(train_files), image_height, image_width), dtype=np.float32)\n",
    "testset = np.ndarray(shape=(len(test_files), image_height, image_width), dtype=np.float32)\n",
    "\n",
    "train_labels = []\n",
    "test_labels = []\n",
    "\n",
    "i = 0\n",
    "for _file in train_files:\n",
    "    img = Image.open(folder + \"/\" + _file)  # this is a PIL image\n",
    "    img = img.resize((image_width, image_height))\n",
    "    x = np.array(img)\n",
    "    trainset[i] = x\n",
    "    train_labels.append(int(_file[0]))\n",
    "    if i % 1000 == 0: print(\"%d images to train array\" % i)\n",
    "    i += 1\n",
    "print(\"%d images to array!\"%i)\n",
    "\n",
    "i = 0\n",
    "for _file in test_files:\n",
    "    img = Image.open(folder + \"/\" + _file)  # this is a PIL image\n",
    "    img = img.resize((image_width, image_height))\n",
    "    x = np.array(img)\n",
    "    testset[i] = x\n",
    "    test_labels.append(int(_file[0]))\n",
    "    if i % 100 == 0: print(\"%d images to test array\" % i)\n",
    "    i += 1\n",
    "print(\"%d images to array!\"%i)\n",
    "\n",
    "train_labels = np.array(train_labels)\n",
    "test_labels = np.array(test_labels)"
   ]
  },
  {
   "cell_type": "code",
   "execution_count": 43,
   "metadata": {},
   "outputs": [],
   "source": [
    "np.savez_compressed('numbers', trainset=trainset, train_labels=train_labels, testset=testset, test_labels=test_labels)"
   ]
  },
  {
   "cell_type": "code",
   "execution_count": null,
   "metadata": {},
   "outputs": [],
   "source": []
  }
 ],
 "metadata": {
  "kernelspec": {
   "display_name": "Python 3",
   "language": "python",
   "name": "python3"
  },
  "language_info": {
   "codemirror_mode": {
    "name": "ipython",
    "version": 3
   },
   "file_extension": ".py",
   "mimetype": "text/x-python",
   "name": "python",
   "nbconvert_exporter": "python",
   "pygments_lexer": "ipython3",
   "version": "3.8.5"
  }
 },
 "nbformat": 4,
 "nbformat_minor": 4
}
