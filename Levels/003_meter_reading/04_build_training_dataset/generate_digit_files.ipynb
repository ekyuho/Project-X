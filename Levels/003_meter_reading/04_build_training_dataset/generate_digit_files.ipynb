{
 "cells": [
  {
   "cell_type": "code",
   "execution_count": null,
   "metadata": {},
   "outputs": [],
   "source": [
    "import matplotlib.pyplot as plt\n",
    "import pytesseract\n",
    "import requests\n",
    "\n",
    "import sys\n",
    "sys.path.append(\"../01_crop_image\")\n",
    "from get_clean_image import *\n",
    "\n",
    "import sys\n",
    "sys.path.append(\"../02_extract_digits\")\n",
    "from get_digits import *"
   ]
  },
  {
   "cell_type": "code",
   "execution_count": null,
   "metadata": {},
   "outputs": [],
   "source": [
    "def file2files(fpath, d):\n",
    "    img = cv2.imread(fpath.as_posix(), cv2.IMREAD_GRAYSCALE)\n",
    "    img = rotate_image(img)\n",
    "    img = fix_persepective(img)\n",
    "    img = crop_image(img)\n",
    "    img = cv2.medianBlur(img,9)\n",
    "\n",
    "    rois = to_digit_images(img)\n",
    "    for i, digit_img in enumerate(rois):\n",
    "        rd = ~digit_img\n",
    "        n = pytesseract.image_to_string(rd, config='--oem 3 --psm 10 -c tessedit_char_whitelist=0123456789').replace('\\x0c','').replace('\\n','')\n",
    "        if n == \"\": n = 'X'\n",
    "        outfilepath = '%s/%s_%d_%s.png'%(d,n, i, fpath.stem)\n",
    "        #print(outfilepath)\n",
    "                           \n",
    "        cv2.imwrite(outfilepath, digit_img)"
   ]
  },
  {
   "cell_type": "code",
   "execution_count": null,
   "metadata": {},
   "outputs": [],
   "source": [
    "def batch(meter_dir='./meter_image', digit_dir='./digits_image/'):\n",
    "    p = pathlib.Path(meter_dir)\n",
    "    d = pathlib.Path(digit_dir)\n",
    "    paths = p.glob('*.jpg')\n",
    "    i=0\n",
    "    for fpath in paths:\n",
    "        print('  ...processing', fpath.name)\n",
    "        try:\n",
    "            file2files(fpath, d)\n",
    "        except OCRError:\n",
    "            print('     [OCR ERROR]', fpath)\n",
    "            continue\n",
    "        #if i>1: break\n",
    "        i += 1\n",
    "    print(\"processed %d files.\"%i )\n",
    "\n",
    "if __name__ == '__main__':\n",
    "    batch()\n"
   ]
  },
  {
   "cell_type": "code",
   "execution_count": null,
   "metadata": {},
   "outputs": [],
   "source": []
  }
 ],
 "metadata": {
  "kernelspec": {
   "display_name": "Python 3",
   "language": "python",
   "name": "python3"
  },
  "language_info": {
   "codemirror_mode": {
    "name": "ipython",
    "version": 3
   },
   "file_extension": ".py",
   "mimetype": "text/x-python",
   "name": "python",
   "nbconvert_exporter": "python",
   "pygments_lexer": "ipython3",
   "version": "3.8.5"
  }
 },
 "nbformat": 4,
 "nbformat_minor": 4
}
