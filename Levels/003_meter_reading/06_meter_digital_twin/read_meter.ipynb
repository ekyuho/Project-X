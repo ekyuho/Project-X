{
 "cells": [
  {
   "cell_type": "code",
   "execution_count": 1,
   "metadata": {},
   "outputs": [],
   "source": [
    "import cv2\n",
    "import numpy as np\n",
    "import matplotlib.pyplot as plt\n",
    "import pathlib\n",
    "import sys\n",
    "import os.path\n",
    "import requests\n",
    "import tensorflow as tf\n",
    "from tensorflow import keras\n",
    "\n",
    "sys.path.append(\"../01_crop_image\")\n",
    "from get_clean_image import *\n",
    "\n",
    "import sys\n",
    "sys.path.append(\"../02_extract_digits\")\n",
    "from get_digits import *"
   ]
  },
  {
   "cell_type": "code",
   "execution_count": 2,
   "metadata": {},
   "outputs": [],
   "source": [
    "if True or \"필요시\":\n",
    "    config = tf.compat.v1.ConfigProto(gpu_options = \n",
    "                             tf.compat.v1.GPUOptions(per_process_gpu_memory_fraction=0.8)\n",
    "    # device_count = {'GPU': 1}\n",
    "    )\n",
    "    config.gpu_options.allow_growth = True\n",
    "    session = tf.compat.v1.Session(config=config)\n",
    "    tf.compat.v1.keras.backend.set_session(session)"
   ]
  },
  {
   "cell_type": "code",
   "execution_count": 3,
   "metadata": {},
   "outputs": [],
   "source": [
    "image_width = 28\n",
    "image_height = 28\n",
    "model = tf.keras.models.load_model('../05_apply_MNIST/model')\n",
    "\n",
    "s=0\n",
    "\n",
    "def alarm(msg, channel):\n",
    "    if channel[0] == 'X': return\n",
    "\n",
    "    payload = {'text': msg}\n",
    "    r = requests.post(channel, json=payload)\n",
    "    print(r.text, msg, channel)\n",
    "\n",
    "def doit(number, digit5):\n",
    "    global s\n",
    "    slack = 'XXhttps://hooks.slack.com/services/T017L20056V/B01JDDMUUJY/PUT YOUR SLACK HOOKUP'\n",
    "    try:\n",
    "        with open(\"meter.current\", \"r\") as f: value = int(f.read())\n",
    "    except:\n",
    "        with open(\"meter.current\", \"w\") as f: f.write(str(number))\n",
    "        value = number\n",
    "\n",
    "    print('doit',number,',',value, digit5)\n",
    "\n",
    "    if number == value:\n",
    "        #alarm(\"same meter reading %d.%s\"%(number,digit5), slack)\n",
    "        print(\"same meter reading %d.%s\"%(number,digit5))\n",
    "\n",
    "        url2 = 'http://54.180.106.144:8080/meter/%d.%s'%(number, digit5[0])\n",
    "        print(url2)\n",
    "        r = requests.get(url2)\n",
    "       #print('push to digital_twim', r.text)\n",
    "\n",
    "        s+=1\n",
    "    elif number == value+1:\n",
    "        with open(\"meter.current\", \"w\") as f: f.write(str(number))\n",
    "\n",
    "        url2 = 'http://54.180.106.144:8080/meter/%d.%s'%(number,digit5[0])\n",
    "        print(url2)\n",
    "        r = requests.get(url2)\n",
    "        print('push to digital_twim', r.text)\n",
    "\n",
    "\n",
    "        alarm(\"meter +1 ok %d.%s\"%(number,digit5), slack)\n",
    "        print(\"meter +1 ok %d.%s\"%(number,digit5))\n",
    "        s+=1\n",
    "    else:\n",
    "        print(\"Meter wrong %d.%s\"%(number,digit5))\n",
    "        alarm(\"Meter wrong %d.%s\"%(number,digit5), slack)\n"
   ]
  },
  {
   "cell_type": "code",
   "execution_count": 4,
   "metadata": {},
   "outputs": [
    {
     "name": "stdout",
     "output_type": "stream",
     "text": [
      "2824\n",
      "doit 282 , 282 4\n",
      "same meter reading 282.4\n",
      "http://54.180.106.144:8080/meter/282.4\n"
     ]
    },
    {
     "data": {
      "image/png": "[encoded data removed]",
      "text/plain": [
       "<Figure size 720x216 with 5 Axes>"
      ]
     },
     "metadata": {
      "needs_background": "light"
     },
     "output_type": "display_data"
    }
   ],
   "source": [
    "def run_a_cycle(cmd):\n",
    "    global img, img1\n",
    "    img = url_to_image('http://54.180.106.144:8080/websensor')\n",
    "    img = rotate_image(img)\n",
    "    img = fix_persepective(img)\n",
    "    img = crop_image(img)\n",
    "    img = cv2.medianBlur(img,9)\n",
    "    \n",
    "    rois = to_digit_images(img)\n",
    "    n = 0\n",
    "    if cmd == \"show\": plt.figure(figsize=(10,3))\n",
    "    for i, img1 in enumerate(rois):\n",
    "        img1 = cv2.resize(img1, (image_width, image_height), interpolation = cv2.INTER_AREA)\n",
    "        img1 = np.expand_dims(img1,0)/255.\n",
    "      \n",
    "        prediction = model.predict(img1)\n",
    "        ans = np.argmax(prediction[0])\n",
    "        if cmd == \"show\":\n",
    "            plt.subplot(1,5,i+1)\n",
    "            plt.imshow(img1[0])\n",
    "            plt.xlabel(ans)\n",
    "        n = n*10 + ans\n",
    "    print(n)\n",
    "    doit(int(n/10), (\"%d\"%n)[-1])\n",
    "    plt.show()\n",
    "\n",
    "if __name__ == \"__main__\":\n",
    "    run_a_cycle(\"show\")"
   ]
  },
  {
   "cell_type": "code",
   "execution_count": null,
   "metadata": {},
   "outputs": [],
   "source": []
  }
 ],
 "metadata": {
  "kernelspec": {
   "display_name": "Python 3",
   "language": "python",
   "name": "python3"
  },
  "language_info": {
   "codemirror_mode": {
    "name": "ipython",
    "version": 3
   },
   "file_extension": ".py",
   "mimetype": "text/x-python",
   "name": "python",
   "nbconvert_exporter": "python",
   "pygments_lexer": "ipython3",
   "version": "3.8.5"
  }
 },
 "nbformat": 4,
 "nbformat_minor": 4
}
