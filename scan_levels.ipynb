{
 "cells": [
  {
   "cell_type": "code",
   "execution_count": 4,
   "metadata": {},
   "outputs": [
    {
     "name": "stdout",
     "output_type": "stream",
     "text": [
      "['type', 'description', 'target', 'id', 'level']\n",
      "{'spreadsheetId': '1HRpjR7VKiyH5NrL4f50IM1im6WrFGbs5g-i7tu1fJk0',\n",
      " 'updatedCells': 85,\n",
      " 'updatedColumns': 5,\n",
      " 'updatedRange': 'levels!A1:E17',\n",
      " 'updatedRows': 17}\n"
     ]
    }
   ],
   "source": [
    "import os\n",
    "import json\n",
    "import re\n",
    "import google_auth_write\n",
    "\n",
    "Mission=[]\n",
    "Level= set()\n",
    "\n",
    "def construct(path, meta):\n",
    "    #print(path, meta[:20])\n",
    "    try:\n",
    "        j = json.loads(meta)        \n",
    "    except:\n",
    "        print(\"json error: \", meta)\n",
    "        return\n",
    "    \n",
    "    if 'type' in j:\n",
    "        if j[\"type\"] == \"mission\":\n",
    "            extract = re.findall('\\d+', path)\n",
    "            if len(extract)>1:\n",
    "                #print(extract[0])\n",
    "                j[\"level\"]=extract[0]\n",
    "                Mission.append(j)\n",
    "                Level.add(extract[0])                        \n",
    "    \n",
    "def scan_readme(file):\n",
    "    #print('1', file)\n",
    "    with open(file, encoding=\"utf-8\") as f: lines = f.read()\n",
    "    #print('2', lines[:50].replace('\\n', '\\\\n'))\n",
    "    extract = re.findall(r\"\\{.*\\}\", lines)\n",
    "    if len(extract)>0:\n",
    "        #print('3', \"extract\", type(extract[0]), len(extract), extract[0])\n",
    "        construct(file, extract[0])   \n",
    "\n",
    "def listdir(basepath):\n",
    "    #print('a', basepath)\n",
    "    with os.scandir(basepath) as entries:\n",
    "        for entry in entries:\n",
    "            fname = basepath+'/'+entry.name\n",
    "            #print('b', fname)\n",
    "            if entry.is_dir():\n",
    "                if \"Levels\" in fname:\n",
    "                    listdir(fname)\n",
    "            elif str(entry.name).lower() == \"readme.md\":\n",
    "                scan_readme(fname)\n",
    "                \n",
    "# List all subdirectories using scandir()\n",
    "basepath = '.'\n",
    "listdir(basepath)\n",
    "#print(Level)\n",
    "#print(Mission)\n",
    "\n",
    "keys = set()\n",
    "for le in Level:\n",
    "    #print(\"Level:\", le)\n",
    "    for m in Mission:\n",
    "        #if m[\"level\"] == le: print(m)\n",
    "        keys.update(m.keys())\n",
    "\n",
    "keys = list(keys)\n",
    "print(keys)\n",
    "keys = ['level','type', 'id', 'description', 'target']\n",
    "val = [keys]\n",
    "for le in Level:\n",
    "    for m in Mission:\n",
    "        val2 = []\n",
    "        if m[\"level\"]==le:\n",
    "            for i in range(len(keys)):\n",
    "                val2.append(m.get(keys[i],\"\"))\n",
    "            val.append(val2)\n",
    "google_auth_write.write_playbook(val)\n"
   ]
  },
  {
   "cell_type": "code",
   "execution_count": 24,
   "metadata": {},
   "outputs": [
    {
     "name": "stdout",
     "output_type": "stream",
     "text": [
      " C 드라이브의 볼륨에는 이름이 없습니다.\n",
      " 볼륨 일련 번호: 44AC-123D\n",
      "\n",
      " C:\\Users\\ekyuh\\Project-X 디렉터리\n",
      "\n",
      "2021-04-12  오전 01:53    <DIR>          .\n",
      "2021-04-12  오전 01:53    <DIR>          ..\n",
      "2021-04-07  오후 04:23               178 .gitignore\n",
      "2021-04-12  오전 01:14    <DIR>          .ipynb_checkpoints\n",
      "2021-04-11  오후 10:11               426 credentials.json\n",
      "2021-04-12  오전 01:15            14,698 google_auth.ipynb\n",
      "2021-04-11  오후 11:05             1,829 google_auth.py\n",
      "2021-04-12  오전 01:51             4,335 google_auth_write.ipynb\n",
      "2021-04-12  오전 01:52             3,124 google_auth_write.py\n",
      "2021-04-11  오후 09:28    <DIR>          Levels\n",
      "2021-04-07  오후 03:51            65,389 level_mission.jpg\n",
      "2021-04-07  오후 03:59            12,031 playbook.csv\n",
      "2021-04-08  오후 01:02             6,561 playbook.html\n",
      "2021-04-12  오전 12:50            21,500 playbook.ipynb\n",
      "2021-04-08  오후 01:02               762 Playbook.md\n",
      "2021-04-12  오전 12:14             4,553 playbook.py\n",
      "2021-04-08  오후 01:02             2,654 README.MD\n",
      "2021-04-12  오전 01:53             8,273 scan.ipynb\n",
      "2021-04-12  오전 01:47               587 token.json\n",
      "2021-04-11  오후 09:35             4,246 Untitled.ipynb\n",
      "2021-04-11  오후 11:07    <DIR>          __pycache__\n",
      "              16개 파일             151,146 바이트\n",
      "               5개 디렉터리  331,825,299,456 바이트 남음\n"
     ]
    }
   ],
   "source": [
    "!dir"
   ]
  },
  {
   "cell_type": "code",
   "execution_count": 8,
   "metadata": {},
   "outputs": [
    {
     "data": {
      "text/plain": [
       "[{'target': 'student',\n",
       "  'type': 'mission',\n",
       "  'id': '1',\n",
       "  'description': 'Date Store',\n",
       "  'level': '001'},\n",
       " {'target': 'student',\n",
       "  'type': 'mission',\n",
       "  'id': '2',\n",
       "  'description': 'Data Explore & Preprocess',\n",
       "  'level': '001'},\n",
       " {'target': 'student',\n",
       "  'type': 'mission',\n",
       "  'id': '3',\n",
       "  'description': 'Data Analysis',\n",
       "  'level': '001'},\n",
       " {'target': 'student',\n",
       "  'type': 'mission',\n",
       "  'id': '4',\n",
       "  'description': 'Modeling',\n",
       "  'level': '001'},\n",
       " {'target': 'student',\n",
       "  'type': 'mission',\n",
       "  'id': '1',\n",
       "  'description': 'data store',\n",
       "  'level': '002'},\n",
       " {'target': 'student',\n",
       "  'type': 'mission',\n",
       "  'id': '2',\n",
       "  'description': 'data analysis',\n",
       "  'level': '002'},\n",
       " {'target': 'student',\n",
       "  'type': 'mission',\n",
       "  'id': '3',\n",
       "  'description': 'data split',\n",
       "  'level': '002'},\n",
       " {'target': 'student',\n",
       "  'type': 'mission',\n",
       "  'id': '4',\n",
       "  'description': 'image_data_generator',\n",
       "  'level': '002'},\n",
       " {'target': 'student',\n",
       "  'type': 'mission',\n",
       "  'id': '5',\n",
       "  'description': 'CNN modeling',\n",
       "  'level': '002'},\n",
       " {'target': 'student',\n",
       "  'type': 'mission',\n",
       "  'id': '6',\n",
       "  'description': 'estimation',\n",
       "  'level': '002'},\n",
       " {'type': 'mission',\n",
       "  'id': '0',\n",
       "  'description': '실시간 미터 이미지 취득 시스템 구축',\n",
       "  'level': '003'},\n",
       " {'type': 'mission',\n",
       "  'id': '1',\n",
       "  'description': '이미지로부터 인식대상 숫자부분을 추출',\n",
       "  'level': '003'},\n",
       " {'type': 'mission', 'id': '2', 'description': '숫자 추출 프로그램', 'level': '003'},\n",
       " {'type': 'mission',\n",
       "  'id': '3',\n",
       "  'description': 'get number via calling google tesseract with image',\n",
       "  'level': '003'},\n",
       " {'type': 'mission',\n",
       "  'id': '5',\n",
       "  'description': 'make labelling and build training dataset from files',\n",
       "  'level': '003'},\n",
       " {'type': 'mission',\n",
       "  'id': '6',\n",
       "  'description': 'apply your dataset to MNIST',\n",
       "  'level': '003'}]"
      ]
     },
     "execution_count": 8,
     "metadata": {},
     "output_type": "execute_result"
    }
   ],
   "source": [
    "Mission"
   ]
  },
  {
   "cell_type": "code",
   "execution_count": 89,
   "metadata": {},
   "outputs": [
    {
     "data": {
      "text/plain": [
       "{'type': 'mission', 'id': '1', 'description': 'crop target area image'}"
      ]
     },
     "execution_count": 89,
     "metadata": {},
     "output_type": "execute_result"
    }
   ],
   "source": [
    "b"
   ]
  },
  {
   "cell_type": "code",
   "execution_count": null,
   "metadata": {},
   "outputs": [],
   "source": []
  },
  {
   "cell_type": "code",
   "execution_count": 6,
   "metadata": {},
   "outputs": [
    {
     "name": "stdout",
     "output_type": "stream",
     "text": [
      ".\n"
     ]
    }
   ],
   "source": [
    "print(basepath)"
   ]
  },
  {
   "cell_type": "code",
   "execution_count": null,
   "metadata": {},
   "outputs": [],
   "source": []
  }
 ],
 "metadata": {
  "kernelspec": {
   "display_name": "Python 3",
   "language": "python",
   "name": "python3"
  },
  "language_info": {
   "codemirror_mode": {
    "name": "ipython",
    "version": 3
   },
   "file_extension": ".py",
   "mimetype": "text/x-python",
   "name": "python",
   "nbconvert_exporter": "python",
   "pygments_lexer": "ipython3",
   "version": "3.8.5"
  }
 },
 "nbformat": 4,
 "nbformat_minor": 4
}
