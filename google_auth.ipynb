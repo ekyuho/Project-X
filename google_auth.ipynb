{
 "cells": [
  {
   "cell_type": "code",
   "execution_count": 17,
   "metadata": {},
   "outputs": [
    {
     "name": "stdout",
     "output_type": "stream",
     "text": [
      "[['#', '첫 컬럼(Column A)에 # 이면 comment 라인으로 무시됩니다.'], ['#', \"코멘트 아니고, 빈줄아닌 첫번째 라인의 header는 변경기 '포맷오류' 발생하면 진행되지 않습니다.\"], ['#', 'id와 subid 모두가 공란이면 comment 라인으로 무시됩니다.'], ['#', 'subid가 있고 id가 비어있으면 id와 description은 윗줄것을 승계합니다.'], ['#', '여기 내용 수정후 다시 웹페이지 방문하면 내용이 실시간으로 반영되는 구조입니다.'], ['id', 'subid', 'description', 'key', 'value'], ['10', '1', '미션종료에따라 스스로 평가 하고 peer-review 요청', 'Subject', '미션 포스트모텀 셀프평가 작성'], ['', '2', '', 'From', '{ACCOUNT:extract_from_system}'], ['', '3', '', '레벨', '{LEVEL:make_selection_list_from_context}'], ['', '4', '', '미션', '{MISSION:make_selection_list_from_context}'], ['', '5', '', '레벨과 레벨내 해당 미션정의', '{INPUT:user_typing}{INPUT:user_typing}'], ['', '6', '', '본인이 느꼈던 난이도', '{SELECTION:\"5.많이어렵다,4.조금어려운편,3.적당,2.쉬운편,1.아주쉽다\"}'], ['', '7', '', '기준시간에 대항 평가', '{SELECTION:\"3.시간이모자람,2.적절,1.시간이 남음\"}'], ['', '8', '', '본인기준 본 미션의 적절한 기준 수행일수는?', '{SELECTION:INTEGER}'], ['', '9', '', '미션 문제해결을 위한 기술전략과 성과, 고유한 방법을 창안했다면 어떤 내용인지 설명', '{INPUT:user_typing}'], ['', '10', '', '산출물코드', '{INPUT:user_typing}'], ['', '11', '', '사용한 기술요소', '{{SELECTION:make_selection_list_from_context},{INPUT:user_typing}}'], [], ['11', '1', '동료의 미션종료 peer-review 참여요청 수락', 'To', '{SELECTION:make_selection_list_from_context}'], ['', '2', '', 'Cc', '{SELECTION:make_selection_list_from_context}'], ['', '3', '', '용건메시지', '이제 위와같은 미션을 완수하였기에 포스트모텀 세션참여를 요청합니다. 가능한 시간슬롯을 모두 표시해주세요.'], ['', '4', '', '날자/시간', '{SELECTION:make_selection_list_from_context}'], ['', '5', '', '장소', '{SELECTION:make_selection_list_from_context}'], ['', '6', '', '혹시  세션참여 여건이 어려우면 위 슬롯중 참여 가능한 다른 카데 추천부탁합니다. 추천카데 {SELECTION:make_selection_list_from_context}'], ['', '7', '', '{INSERT: {id:10}}'], ['', '8', '', '모듈설명 가독성', '{SELECTION:\"Good job,ok I’ll suggest an idea to improve.\"}'], ['', '9', '', '코드의 비주얼적 가독성', '{SELECTION:\"Good job,ok I’ll suggest an idea to improve.\"}'], ['', '10', '', '코드의 시맨틱적 가독성', '{SELECTION:\"Good job,ok I’ll suggest an idea to improve.\"}'], ['', '11', '', '사용된 기술옵션이 최선인지', '{SELECTION:\"I agree,I’ll suggest an other option.\"}'], ['', '12', '', '종합적 완성도', '{SELECTION:\"3(매우높다인상적이다),2(통상적으로 잘했다),1(미흡하다)\"}'], ['', '13', '', '같이 일하고 싶은 정도', '{SELECTION:\"3.높다, 2.맟출수 있다, 1.피하고싶다\"}'], ['', '14', '', '사용한 기술에 대한 endorsement', '{SELECTION:make_selection_list_from_context}'], [], ['16', '1', '레벨종료에따라 스스로 평가 및 동료/멘토 peer-review 참석요청', 'Subject', '미션 포스트모텀 셀프평가 작성'], ['', '2', '', 'From', '{ACCOUNT:extract_from_system}'], ['', '3', '', '레벨', '{LEVEL:make_selection_list_from_context}'], ['', '4', '', 'Level전체에 대한 본인이 느꼈던 난이도', '{SELECTION:\"5.많이어렵다,4.조금어려운편,3.적당,2.쉬운편,1.아주쉽다\"}'], ['', '5', '', 'Level 전체에 대한 기준시간에 대항 평가', '{SELECTION:\"3.시간이모자람,2.적절,1.시간이 남음\"}'], ['', '6', '', '본인기준 본 레벨의 적절한 기준 수행일수는?', '{SELECTION:INTEGER}'], ['', '7', '', '레벨전체적으로 문제해결을 위한 기술전략과 성과, 고유한 방법을 창안했다면 어떤 내용인지 설명', '{INPUT:user_typing}'], ['', '8', '', '산출물코드', '{INPUT:user_typing}'], ['', '9', '', '사용한 기술요소에 대한 자기평가', '{SELECTION:\"3.많이 해보아서, 빠른시간에 문제해결가능,2.배워가면서 문제해결에 어려움없음,1.초보로 사용해본 수준\"}'], ['', '10', '', '사용한 기술요소', '{{SELECTION:make_selection_list_from_context},{INPUT:user_typing}}'], [], ['17', '1', '레벨종료 peer-review 참여요청 수락', '{INSERT: {id:16}}'], ['', '2', '', '용건메시지', '위와같은 레벨을 완수하였기에 포스트모텀 세션참여를 요청합니다. 가능한 시간슬롯을 모두 표시해주세요.'], ['', '3', '', '날자/시간', '{SELECTION:make_selection_list_from_context}'], ['', '4', '', '장소', '{SELECTION:make_selection_list_from_context}'], ['', '5', '', '혹시 세션참여 여건이 어려우면 위 슬롯중 참여 가능한 다른 카데 추천부탁합니다. 추천카데', '{SELECTION:make_selection_list_from_context}'], ['', '6', '', '사전평가지', '{FORM:make_a_form}'], ['', '7', '', 'To', '{SELECTION:make_selection_list_from_context}'], ['', '8', '', 'Cc', '{SELECTION:make_selection_list_from_context}'], ['', '9', '', '날자/시간', '{SELECTION:make_selection_list_from_context}'], ['', '10', '', '레벨전체적으로 모듈설명 가독성', '{SELECTION:\"Good job,ok I’ll suggest an idea to improve.\"}'], ['', '11', '', '레벨전체적으로  코드의 비주얼적 가독성', '{SELECTION:\"Good job,ok I’ll suggest an idea to improve.\"}'], ['', '12', '', '레벨전체적으로  코드의 시맨틱적 가독성', '{SELECTION:\"Good job,ok I’ll suggest an idea to improve.\"}'], ['', '13', '', '레벨전체적으로  사용된 기술옵션이 최선인지', '{SELECTION:\"I agree,I’ll suggest an other option.\"}'], ['', '14', '', '레벨전체적으로  종합적 완성도', '{SELECTION:\"3.매우높다인상적이다,2.통상적으로 잘했다,1.미흡하다\"}'], ['', '15', '', '대상 레벨(프로젝트) 결과물의 종합적 사업화가능성', '{SELECTION:\"3.높다, 2.잘하면될것 같다, 1.사업화까지는 아니다\"}'], ['', '16', '', '피평가자의 대상레벨 기술도메인의 종합적 기술역량평가', '{SELECTION:\"5.훌륭하다, 4.잘하는 편,3.힘들어하지만 해내는듯,2.억지로 하는것이 보인다,1.이분야 사람이 아닌듯\"}\\n'], ['', '9', '', '같이 일하고 싶은 정도', '{SELECTION:\"3.높다, 2.맟출수 있다, 1.피하고싶다\"}'], ['', '10', '', '사용한 기술에 대한 endorsement', '{SELECTION:make_selection_list_from_context}'], [], ['21', '1', '미션종료 peer-review  세션 결과 스스로 정리', '도움이 된 정도', '{SELECTION:\"3(매우높다인상적이다),2(통상적으로 좋았다),1(미흡하다)\"}'], ['', '2', '', 'Best reviewer 및 도움이 된 내용', '{{SELECTION:make_selection_list_from_context},{INPUT:user_typing}{INPUT:user_typing}}'], ['', '3', '', '같이 일하고 싶은 평가자 동료', '{SELECTION:make_selection_list_from_context}'], ['', '4', '', '사용한 기술에 대한 자기평가', '{SELECTION:make_selection_list_from_context}'], [], ['26', '1', '레벨종료 peer-review 세션참여결과 정리', '도움이 된 정도', '{SELECTION:\"3(매우높다인상적이다),2(통상적으로 좋았다),1(미흡하다)\"}'], ['', '2', '', 'Best peer-reviewer 및 도움이 된 내용', '{{SELECTION:make_selection_list_from_context},{INPUT:user_typing}}'], ['', '3', '', 'Best mentor-reviewer및 도움이 된 내용', '{{SELECTION:make_selection_list_from_context},{INPUT:user_typing}}'], ['', '4', '', '같이 일하고 싶은 평가자 동료', '{SELECTION:make_selection_list_from_context}'], ['', '5', '', '사용한 기술에 대한 endorsement', '{SELECTION:make_selection_list_from_context}'], [], ['22', '1', '미션종료 peer-review 세션참여결과 정리', '{INSERT: {id:12}}'], ['', '2', '', '추가 조언사항', '{INPUT:user_typing}'], ['', '3', '', '피평가자의 세선운영관련평가', '{SELECTION:\"3.세션을 잘 이끌었음, 2.무난한 진행, 1.아쉬움이 있음\"}'], ['', '4', '', '평가자에게 배움의 기회가 된 정도', '{SELECTION:\"3.무언가 배운 포만감,2. 보통,1. 시간이 아까운 느낌\"}'], ['', '5', '', '피평가자의 질문이해도,질문자의도파악의 정도', '{SELECTION:\"3.훌륭함,2. 보통,1. 소통에 어려움 느낌\"}'], ['', '6', '', '사용한 기술에 대한 endorsement', '{SELECTION:make_selection_list_from_context}'], ['', '7'], [], ['27', '1', '레벨종료 peer-review 세션참여 결과 정리', '{INSERT: {id:18}}'], ['', '2', '', '추가 조언사항', '{INPUT:user_typing}'], ['', '3', '', '피평가자의 세선운영관련평가', '{SELECTION:\"3.세션을 잘 이끌었음, 2.무난한 진행, 1.아쉬움이 있음\"}'], ['', '4', '', '평가자에게 배움의 기회가 된 정도', '{SELECTION:\"3.무언가 배운 포만감,2. 보통,1. 시간이 아까운 느낌\"}'], ['', '5', '', '피평가자의 질문이해도,질문자의도파악의 정도', '{SELECTION:\"3.훌륭함,2. 보통,1. 소통에 어려움 느낌\"}'], ['', '6', '', '같이 일하고 싶은 정도', '{SELECTION:\"3.높다, 2.맟출수 있다, 1.피하고싶다\"}'], ['', '7', '', '사용한 기술에 대한 endorsement', '{SELECTION:make_selection_list_from_context}'], [], ['29', '1', '레벨종료 peer-review 멘토보고서 작성', '레벨전체적으로 모듈설명 가독성', '{SELECTION:\"Good job,ok I’ll suggest an idea to improve.\"}'], ['', '2', '', '레벨전체적으로  코드의 비주얼적 가독성', '{SELECTION:\"Good job,ok I’ll suggest an idea to improve.\"}'], ['', '3', '', '레벨전체적으로  코드의 시맨틱적 가독성', '{SELECTION:\"Good job,ok I’ll suggest an idea to improve.\"}'], ['', '4', '', '레벨전체적으로  사용된 기술옵션이 최선인지', '{SELECTION:\"I agree,I’ll suggest an other option.\"}'], ['', '5', '', '레벨전체적으로  종합적 완성도', '{SELECTION:\"3.매우높다인상적이다,2.통상적으로 잘했다,1.미흡하다\"}'], ['', '6', '', '대상 레벨(프로젝트) 결과물의 종합적 사업화가능성', '{SELECTION:\"3.높다, 2.잘하면될것 같다, 1.사업화까지는 아니다\"}'], [], ['', '8', '', '같이 일하고 싶은 정도', '{SELECTION:\"3.높다, 2.맟출수 있다, 1.피하고싶다\"}'], ['', '9', '', '매칭 잘될 회사 가상추천', '{SELECTION:make_selection_list_from_context}'], ['', '10', '', '사용한 기술에 대한 endorsement', '{SELECTION:make_selection_list_from_context}'], [], ['101', '1', '나의 업적보드', '(자기)동료평가 참여도', '76%'], ['', '2', '', '(타인)동료평가 선호도', '35%'], ['', '3', '', '기술보유지수', '95%'], ['', '4', '', 'Front-End.iOS', '40%'], ['', '5', '', 'Front-End.Android', '13%'], ['', '6', '', 'Front-End.Web', '39%'], ['', '7', '', 'Back-End.Windows', '90%'], ['', '8', '', 'Back-End.Ubuntu', '35%'], ['', '9', '', 'Machine-Learning', '25%'], ['', '10', '', 'Program.Python', '87%'], ['', '11', '', 'Program.C#', '0%'], ['', '12', '', 'Program.C++', '10%'], ['', '13', '', 'Program.nodejs', '80%'], ['', '14', '', 'Program.Ruby', '50%'], ['', '15', '', 'GRIT지수', '86%'], ['', '16', '', 'Team지수', '60%'], ['', '17', '', '표현의 명확성지수', '89%'], ['', '18', '', '창업-스타트업취업-대기업취업', '24%-87%-65%']]\n"
     ]
    }
   ],
   "source": [
    "from __future__ import print_function\n",
    "import os.path\n",
    "from googleapiclient.discovery import build\n",
    "from google_auth_oauthlib.flow import InstalledAppFlow\n",
    "from google.auth.transport.requests import Request\n",
    "from google.oauth2.credentials import Credentials\n",
    "\n",
    "# If modifying these scopes, delete the file token.json.\n",
    "SCOPES = ['https://www.googleapis.com/auth/spreadsheets.readonly']\n",
    "\n",
    "# The ID and range of a sample spreadsheet.\n",
    "SPREADSHEET_ID = '1HRpjR7VKiyH5NrL4f50IM1im6WrFGbs5g-i7tu1fJk0'\n",
    "RANGE_NAME = 'playbook!A1:E400'\n",
    "\n",
    "def fetch_playbook():\n",
    "    \"\"\"Shows basic usage of the Sheets API.\n",
    "    Prints values from a sample spreadsheet.\n",
    "    \"\"\"\n",
    "    creds = None\n",
    "    # The file token.json stores the user's access and refresh tokens, and is\n",
    "    # created automatically when the authorization flow completes for the first\n",
    "    # time.\n",
    "    if os.path.exists('token.json'):\n",
    "        creds = Credentials.from_authorized_user_file('token.json', SCOPES)\n",
    "    # If there are no (valid) credentials available, let the user log in.\n",
    "    if not creds or not creds.valid:\n",
    "        if creds and creds.expired and creds.refresh_token:\n",
    "            creds.refresh(Request())\n",
    "        else:\n",
    "            flow = InstalledAppFlow.from_client_secrets_file(\n",
    "                'credentials.json', SCOPES)\n",
    "            creds = flow.run_local_server(port=0)\n",
    "        # Save the credentials for the next run\n",
    "        with open('token.json', 'w') as token:\n",
    "            token.write(creds.to_json())\n",
    "\n",
    "    service = build('sheets', 'v4', credentials=creds)\n",
    "\n",
    "    # Call the Sheets API\n",
    "    sheet = service.spreadsheets()\n",
    "    result = sheet.values().get(spreadsheetId=SPREADSHEET_ID,range=RANGE_NAME).execute()\n",
    "    values = result.get('values', [])\n",
    "\n",
    "    if not values:\n",
    "        print('No data found.')\n",
    "    else:\n",
    "        return values\n",
    "if __name__ == '__main__':\n",
    "    v = fetch_playbook()\n",
    "    print(v)"
   ]
  },
  {
   "cell_type": "code",
   "execution_count": null,
   "metadata": {},
   "outputs": [],
   "source": []
  }
 ],
 "metadata": {
  "kernelspec": {
   "display_name": "Python 3",
   "language": "python",
   "name": "python3"
  },
  "language_info": {
   "codemirror_mode": {
    "name": "ipython",
    "version": 3
   },
   "file_extension": ".py",
   "mimetype": "text/x-python",
   "name": "python",
   "nbconvert_exporter": "python",
   "pygments_lexer": "ipython3",
   "version": "3.8.5"
  }
 },
 "nbformat": 4,
 "nbformat_minor": 4
}
